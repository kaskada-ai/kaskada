{
 "cells": [
  {
   "cell_type": "code",
   "execution_count": null,
   "metadata": {},
   "outputs": [],
   "source": [
    "# Configure reloading of loaded modules (useful for the visualization function)\n",
    "%reload_ext autoreload\n",
    "%autoreload 2"
   ]
  },
  {
   "cell_type": "code",
   "execution_count": null,
   "metadata": {},
   "outputs": [],
   "source": [
    "import kaskada as kd\n",
    "kd.init_session()"
   ]
  },
  {
   "cell_type": "code",
   "execution_count": null,
   "metadata": {},
   "outputs": [],
   "source": [
    "import asyncio \n",
    "\n",
    "data = \"\\n\".join(\n",
    "        [\n",
    "            \"time,key,m,n\",\n",
    "            \"1996-12-19T16:39:57,A,5,10\",\n",
    "            \"1997-01-19T16:39:58,B,24,3\",\n",
    "            \"1997-03-19T16:39:59,A,17,6\",\n",
    "            \"1997-04-18T16:40:00,A,,9\",\n",
    "        ]\n",
    "    )\n",
    "source = await kd.sources.CsvString.create(data, time_column=\"time\", key_column=\"key\")\n",
    "\n",
    "kd.plot.render(\n",
    "    kd.plot.Plot(source.col(\"m\"), name=\"m\"),\n",
    "    kd.plot.Plot(source.col(\"n\"), name=\"n\"),\n",
    "    kd.plot.Plot(source.col(\"m\").sum(), name = \"sum_m\"),\n",
    ")"
   ]
  }
 ],
 "metadata": {
  "kernelspec": {
   "display_name": "sparrow-py-AIxfaco5-py3.11",
   "language": "python",
   "name": "python3"
  },
  "language_info": {
   "codemirror_mode": {
    "name": "ipython",
    "version": 3
   },
   "file_extension": ".py",
   "mimetype": "text/x-python",
   "name": "python",
   "nbconvert_exporter": "python",
   "pygments_lexer": "ipython3",
   "version": "3.11.4"
  },
  "orig_nbformat": 4
 },
 "nbformat": 4,
 "nbformat_minor": 2
}
