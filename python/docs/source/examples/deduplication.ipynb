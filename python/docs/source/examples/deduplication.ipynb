{
 "cells": [
  {
   "cell_type": "markdown",
   "metadata": {},
   "source": [
    "# De-Duplication Example\n",
    "\n",
    "In this example, we'll show how you can use Kaskada's `Timestream.coalesce()` method to automatically de-duplicate data coming from multiple sources. Note that sources of the same type are used for the example, but that is not required.\n",
    "\n",
    "We start with a script (created with the help of ChatGPT) to generate some test data for us to play with:"
   ]
  },
  {
   "cell_type": "code",
   "execution_count": 26,
   "metadata": {},
   "outputs": [],
   "source": [
    "!python ./deduplication/event_creation.py"
   ]
  },
  {
   "cell_type": "markdown",
   "metadata": {},
   "source": [
    "Then we initiate a Kaskada session:"
   ]
  },
  {
   "cell_type": "code",
   "execution_count": 3,
   "metadata": {},
   "outputs": [],
   "source": [
    "import pandas as pd\n",
    "import kaskada as kd\n",
    "\n",
    "# Initialize Kaskada with a local execution context.\n",
    "kd.init_session()"
   ]
  },
  {
   "cell_type": "markdown",
   "metadata": {},
   "source": [
    "And load the generated data 2 ways:\n",
    "* with Pandas DataFrames\n",
    "* with Kaskada Sources"
   ]
  },
  {
   "cell_type": "code",
   "execution_count": 49,
   "metadata": {},
   "outputs": [],
   "source": [
    "sources = []\n",
    "dataFrames = []\n",
    "\n",
    "for i in range(1,7):\n",
    "    sources.append(\n",
    "        await kd.sources.JsonlFile.create(\n",
    "            f'feeding_events_{i}.jsonl',\n",
    "            time_column = \"timestamp\", \n",
    "            key_column = \"name\",\n",
    "            time_unit = \"s\",\n",
    "            subsort_column = \"subsort\",\n",
    "            grouping_name = \"animals\"\n",
    "        )\n",
    "    )\n",
    "    dataFrames.append(\n",
    "        pd.read_json(\n",
    "            f'feeding_events_{i}.jsonl', \n",
    "            orient=\"records\", \n",
    "            lines=True\n",
    "            )\n",
    "        )"
   ]
  },
  {
   "cell_type": "markdown",
   "metadata": {},
   "source": [
    "Note: When creating Kaskada sources that you expect to merge and de-duplicate data, it is important to set the `grouping_name` the same and ensure that you have a `subsort_column` defined in your dataset. Kaskada will use the `timestamp_column` in combination with the `subsort_column` to automatically de-duplicate your data.\n",
    "\n",
    "To merge multiple sources together, use the `Timestream.coalesce()` method as follows:"
   ]
  },
  {
   "cell_type": "code",
   "execution_count": 50,
   "metadata": {},
   "outputs": [],
   "source": [
    "merged_timestream = kd.Timestream.coalesce(sources[0],sources[1],sources[2], sources[3], sources[4], sources[5])"
   ]
  },
  {
   "cell_type": "markdown",
   "metadata": {},
   "source": [
    "In pandas we can use `concat()` to merge the dataFrames we loaded together (without de-duplication):"
   ]
  },
  {
   "cell_type": "code",
   "execution_count": 53,
   "metadata": {},
   "outputs": [],
   "source": [
    "merged_df = pd.concat(dfs)"
   ]
  },
  {
   "cell_type": "markdown",
   "metadata": {},
   "source": [
    "Now we can do a small analysis to verify that Kaskada worked desired:"
   ]
  },
  {
   "cell_type": "code",
   "execution_count": 54,
   "metadata": {},
   "outputs": [
    {
     "name": "stdout",
     "output_type": "stream",
     "text": [
      "Values in kasakda: 27375\n",
      "Unique values in kasakda: 27375\n",
      "\n",
      "Values in pandas: 29875\n",
      "Unique values in pandas: 27375\n",
      "\n",
      "Values in Kaskada match unique values in Pandas: True\n"
     ]
    }
   ],
   "source": [
    "kaskada_df = merged_timestream.to_pandas()\n",
    "\n",
    "print(f'Values in kasakda: {len(kaskada_df[\"subsort\"])}')\n",
    "print(f'Unique values in kasakda: {len(kaskada_df[\"subsort\"].unique())}')\n",
    "print()\n",
    "print(f'Values in pandas: {len(merged_df[\"subsort\"])}')\n",
    "print(f'Unique values in pandas: {len(merged_df[\"subsort\"].unique())}')\n",
    "print()\n",
    "\n",
    "k_values = kaskada_df[\"subsort\"].tolist()\n",
    "p_values = merged_df[\"subsort\"].unique().tolist()\n",
    "\n",
    "k_values.sort()\n",
    "p_values.sort()\n",
    "\n",
    "print(f'Values in Kaskada match unique values in Pandas: {k_values == p_values}')"
   ]
  }
 ],
 "metadata": {
  "kernelspec": {
   "display_name": "Python 3",
   "language": "python",
   "name": "python3"
  },
  "language_info": {
   "codemirror_mode": {
    "name": "ipython",
    "version": 3
   },
   "file_extension": ".py",
   "mimetype": "text/x-python",
   "name": "python",
   "nbconvert_exporter": "python",
   "pygments_lexer": "ipython3",
   "version": "3.11.4"
  },
  "orig_nbformat": 4
 },
 "nbformat": 4,
 "nbformat_minor": 2
}
