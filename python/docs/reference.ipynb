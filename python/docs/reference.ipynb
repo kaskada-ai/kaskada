{
 "cells": [
  {
   "cell_type": "code",
   "execution_count": 2,
   "metadata": {},
   "outputs": [
    {
     "name": "stdout",
     "output_type": "stream",
     "text": [
      "Requirement already satisfied: griffe in /Users/eric.pinzur/.pyenv/versions/3.11.4/lib/python3.11/site-packages (0.36.2)\n",
      "Collecting jinja2\n",
      "  Using cached Jinja2-3.1.2-py3-none-any.whl (133 kB)\n",
      "Requirement already satisfied: colorama>=0.4 in /Users/eric.pinzur/.pyenv/versions/3.11.4/lib/python3.11/site-packages (from griffe) (0.4.6)\n",
      "Requirement already satisfied: MarkupSafe>=2.0 in /Users/eric.pinzur/.pyenv/versions/3.11.4/lib/python3.11/site-packages (from jinja2) (2.1.3)\n",
      "Installing collected packages: jinja2\n",
      "Successfully installed jinja2-3.1.2\n"
     ]
    }
   ],
   "source": [
    "!pip install griffe jinja2"
   ]
  },
  {
   "cell_type": "code",
   "execution_count": 4,
   "metadata": {},
   "outputs": [],
   "source": [
    "import griffe\n",
    "\n",
    "kaskada = griffe.load('/Users/eric.pinzur/src/github.com/kaskada-ai/kaskada/python/pysrc/kaskada', docstring_parser=\"google\")"
   ]
  },
  {
   "cell_type": "code",
   "execution_count": 3,
   "metadata": {},
   "outputs": [
    {
     "name": "stdout",
     "output_type": "stream",
     "text": [
      "udf\n",
      "destinations\n",
      "_ffi\n",
      "plot\n",
      "results\n",
      "_execution\n",
      "_session\n",
      "_timestream\n",
      "windows\n",
      "sources\n"
     ]
    }
   ],
   "source": [
    "for module in kaskada.modules:\n",
    "    print(module)"
   ]
  },
  {
   "cell_type": "code",
   "execution_count": 4,
   "metadata": {},
   "outputs": [
    {
     "name": "stdout",
     "output_type": "stream",
     "text": [
      "init_session\n",
      "record\n"
     ]
    }
   ],
   "source": [
    "for function in kaskada.functions:\n",
    "    print(function)"
   ]
  },
  {
   "cell_type": "code",
   "execution_count": 38,
   "metadata": {},
   "outputs": [
    {
     "name": "stdout",
     "output_type": "stream",
     "text": [
      "name: Execution\n",
      "bases: []\n",
      "attributes: {'_ffi_execution': Alias('_ffi_execution', 'kaskada._execution.Execution._ffi_execution')}\n",
      "decorators: []\n",
      "functions: {'__init__': Alias('__init__', 'kaskada._execution.Execution.__init__'), 'stop': Alias('stop', 'kaskada._execution.Execution.stop')}\n",
      "docstring: Represents an execution of a TimeStream.\n",
      "\n",
      "name: ResultIterator\n",
      "bases: [ExprName(name='Execution', parent=Module(PosixPath('/Users/eric.pinzur/src/github.com/kaskada-ai/kaskada/python/pysrc/kaskada/_execution.py'))), ExprSubscript(left=ExprName(name='Iterator', parent=Module(PosixPath('/Users/eric.pinzur/src/github.com/kaskada-ai/kaskada/python/pysrc/kaskada/_execution.py'))), slice=ExprName(name='T', parent=Module(PosixPath('/Users/eric.pinzur/src/github.com/kaskada-ai/kaskada/python/pysrc/kaskada/_execution.py')))), ExprSubscript(left=ExprName(name='AsyncIterator', parent=Module(PosixPath('/Users/eric.pinzur/src/github.com/kaskada-ai/kaskada/python/pysrc/kaskada/_execution.py'))), slice=ExprName(name='T', parent=Module(PosixPath('/Users/eric.pinzur/src/github.com/kaskada-ai/kaskada/python/pysrc/kaskada/_execution.py'))))]\n",
      "attributes: {'_ffi_execution': Alias('_ffi_execution', 'kaskada._execution.ResultIterator._ffi_execution'), '_items': Alias('_items', 'kaskada._execution.ResultIterator._items'), '_f': Alias('_f', 'kaskada._execution.ResultIterator._f')}\n",
      "decorators: []\n",
      "functions: {'stop': Alias('stop', 'kaskada._execution.ResultIterator.stop'), '__init__': Alias('__init__', 'kaskada._execution.ResultIterator.__init__'), '__iter__': Alias('__iter__', 'kaskada._execution.ResultIterator.__iter__'), '__aiter__': Alias('__aiter__', 'kaskada._execution.ResultIterator.__aiter__'), '__next__': Alias('__next__', 'kaskada._execution.ResultIterator.__next__'), '__anext__': Alias('__anext__', 'kaskada._execution.ResultIterator.__anext__')}\n",
      "docstring: An iterator over results from the TimeStream.\n",
      "\n",
      "name: Timestream\n",
      "bases: [ExprName(name='object', parent=Module(PosixPath('/Users/eric.pinzur/src/github.com/kaskada-ai/kaskada/python/pysrc/kaskada/_timestream.py')))]\n",
      "attributes: {'_ffi_expr': Alias('_ffi_expr', 'kaskada._timestream.Timestream._ffi_expr'), 'data_type': Alias('data_type', 'kaskada._timestream.Timestream.data_type'), 'is_continuous': Alias('is_continuous', 'kaskada._timestream.Timestream.is_continuous')}\n",
      "decorators: []\n",
      "functions: {'__init__': Alias('__init__', 'kaskada._timestream.Timestream.__init__'), '_literal': Alias('_literal', 'kaskada._timestream.Timestream._literal'), '_call': Alias('_call', 'kaskada._timestream.Timestream._call'), 'pipe': Alias('pipe', 'kaskada._timestream.Timestream.pipe'), 'add': Alias('add', 'kaskada._timestream.Timestream.add'), '__add__': Alias('__add__', 'kaskada._timestream.Timestream.__add__'), '__radd__': Alias('__radd__', 'kaskada._timestream.Timestream.__radd__'), 'ceil': Alias('ceil', 'kaskada._timestream.Timestream.ceil'), 'clamp': Alias('clamp', 'kaskada._timestream.Timestream.clamp'), 'sub': Alias('sub', 'kaskada._timestream.Timestream.sub'), '__sub__': Alias('__sub__', 'kaskada._timestream.Timestream.__sub__'), '__rsub__': Alias('__rsub__', 'kaskada._timestream.Timestream.__rsub__'), 'exp': Alias('exp', 'kaskada._timestream.Timestream.exp'), 'floor': Alias('floor', 'kaskada._timestream.Timestream.floor'), 'hash': Alias('hash', 'kaskada._timestream.Timestream.hash'), 'lower': Alias('lower', 'kaskada._timestream.Timestream.lower'), 'mul': Alias('mul', 'kaskada._timestream.Timestream.mul'), '__mul__': Alias('__mul__', 'kaskada._timestream.Timestream.__mul__'), '__rmul__': Alias('__rmul__', 'kaskada._timestream.Timestream.__rmul__'), 'powf': Alias('powf', 'kaskada._timestream.Timestream.powf'), 'div': Alias('div', 'kaskada._timestream.Timestream.div'), '__truediv__': Alias('__truediv__', 'kaskada._timestream.Timestream.__truediv__'), '__rtruediv__': Alias('__rtruediv__', 'kaskada._timestream.Timestream.__rtruediv__'), 'lt': Alias('lt', 'kaskada._timestream.Timestream.lt'), '__lt__': Alias('__lt__', 'kaskada._timestream.Timestream.__lt__'), 'le': Alias('le', 'kaskada._timestream.Timestream.le'), '__le__': Alias('__le__', 'kaskada._timestream.Timestream.__le__'), 'gt': Alias('gt', 'kaskada._timestream.Timestream.gt'), '__gt__': Alias('__gt__', 'kaskada._timestream.Timestream.__gt__'), 'ge': Alias('ge', 'kaskada._timestream.Timestream.ge'), '__ge__': Alias('__ge__', 'kaskada._timestream.Timestream.__ge__'), 'and_': Alias('and_', 'kaskada._timestream.Timestream.and_'), 'or_': Alias('or_', 'kaskada._timestream.Timestream.or_'), 'not_': Alias('not_', 'kaskada._timestream.Timestream.not_'), 'eq': Alias('eq', 'kaskada._timestream.Timestream.eq'), 'ne': Alias('ne', 'kaskada._timestream.Timestream.ne'), '__eq__': Alias('__eq__', 'kaskada._timestream.Timestream.__eq__'), '__ne__': Alias('__ne__', 'kaskada._timestream.Timestream.__ne__'), 'index': Alias('index', 'kaskada._timestream.Timestream.index'), '__getitem__': Alias('__getitem__', 'kaskada._timestream.Timestream.__getitem__'), 'col': Alias('col', 'kaskada._timestream.Timestream.col'), 'select': Alias('select', 'kaskada._timestream.Timestream.select'), 'remove': Alias('remove', 'kaskada._timestream.Timestream.remove'), 'extend': Alias('extend', 'kaskada._timestream.Timestream.extend'), 'neg': Alias('neg', 'kaskada._timestream.Timestream.neg'), 'is_null': Alias('is_null', 'kaskada._timestream.Timestream.is_null'), 'is_not_null': Alias('is_not_null', 'kaskada._timestream.Timestream.is_not_null'), 'filter': Alias('filter', 'kaskada._timestream.Timestream.filter'), 'collect': Alias('collect', 'kaskada._timestream.Timestream.collect'), 'time': Alias('time', 'kaskada._timestream.Timestream.time'), 'lag': Alias('lag', 'kaskada._timestream.Timestream.lag'), 'if_': Alias('if_', 'kaskada._timestream.Timestream.if_'), 'null_if': Alias('null_if', 'kaskada._timestream.Timestream.null_if'), 'length': Alias('length', 'kaskada._timestream.Timestream.length'), 'with_key': Alias('with_key', 'kaskada._timestream.Timestream.with_key'), 'lookup': Alias('lookup', 'kaskada._timestream.Timestream.lookup'), 'coalesce': Alias('coalesce', 'kaskada._timestream.Timestream.coalesce'), 'shift_to': Alias('shift_to', 'kaskada._timestream.Timestream.shift_to'), 'shift_by': Alias('shift_by', 'kaskada._timestream.Timestream.shift_by'), 'shift_until': Alias('shift_until', 'kaskada._timestream.Timestream.shift_until'), 'sum': Alias('sum', 'kaskada._timestream.Timestream.sum'), 'first': Alias('first', 'kaskada._timestream.Timestream.first'), 'last': Alias('last', 'kaskada._timestream.Timestream.last'), 'count': Alias('count', 'kaskada._timestream.Timestream.count'), 'count_if': Alias('count_if', 'kaskada._timestream.Timestream.count_if'), 'max': Alias('max', 'kaskada._timestream.Timestream.max'), 'min': Alias('min', 'kaskada._timestream.Timestream.min'), 'mean': Alias('mean', 'kaskada._timestream.Timestream.mean'), 'stddev': Alias('stddev', 'kaskada._timestream.Timestream.stddev'), 'variance': Alias('variance', 'kaskada._timestream.Timestream.variance'), 'cast': Alias('cast', 'kaskada._timestream.Timestream.cast'), 'else_': Alias('else_', 'kaskada._timestream.Timestream.else_'), 'seconds_since': Alias('seconds_since', 'kaskada._timestream.Timestream.seconds_since'), 'seconds_since_previous': Alias('seconds_since_previous', 'kaskada._timestream.Timestream.seconds_since_previous'), 'flatten': Alias('flatten', 'kaskada._timestream.Timestream.flatten'), 'union': Alias('union', 'kaskada._timestream.Timestream.union'), 'record': Alias('record', 'kaskada._timestream.Timestream.record'), 'round': Alias('round', 'kaskada._timestream.Timestream.round'), 'sqrt': Alias('sqrt', 'kaskada._timestream.Timestream.sqrt'), 'upper': Alias('upper', 'kaskada._timestream.Timestream.upper'), 'greatest': Alias('greatest', 'kaskada._timestream.Timestream.greatest'), 'least': Alias('least', 'kaskada._timestream.Timestream.least'), 'preview': Alias('preview', 'kaskada._timestream.Timestream.preview'), 'to_pandas': Alias('to_pandas', 'kaskada._timestream.Timestream.to_pandas'), 'write': Alias('write', 'kaskada._timestream.Timestream.write'), 'run_iter': Alias('run_iter', 'kaskada._timestream.Timestream.run_iter'), '_execute': Alias('_execute', 'kaskada._timestream.Timestream._execute')}\n",
      "docstring: A `Timestream` represents a computation producing a Timestream.\n",
      "\n"
     ]
    }
   ],
   "source": [
    "for c in kaskada.classes:\n",
    "    c = kaskada.classes[c]\n",
    "    print(f'name: {c.name}')\n",
    "    print(f'bases: {c.bases}')\n",
    "    print(f'attributes: {c.attributes}')\n",
    "    print(f'decorators: {c.decorators}')\n",
    "    print(f'functions: {c.functions}')\n",
    "    print(f'docstring: {c.docstring.parsed[0].value}')\n",
    "    print()"
   ]
  },
  {
   "cell_type": "code",
   "execution_count": 28,
   "metadata": {},
   "outputs": [],
   "source": [
    "from jinja2 import Template\n",
    "\n",
    "# Load the template from a file (e.g., 'template.html')\n",
    "with open('reference.qmd.tmpl', 'r') as template_file:\n",
    "    template_content = template_file.read()\n",
    "\n",
    "# Create a Jinja2 template object\n",
    "template = Template(template_content)\n",
    "\n",
    "for a in kaskada.attributes:\n",
    "    attr = kaskada.attributes[a]\n",
    "    if attr.name == '__all__':\n",
    "        continue\n",
    "\n",
    "    title = f'kaskada.{attr.name}'\n",
    "    data = {\n",
    "        'title': title,\n",
    "        'description': \"\"\n",
    "    }\n",
    "    if attr.is_alias:\n",
    "        data['alias'] = attr.value\n",
    "\n",
    "    with open(f'reference/{title}.qmd', 'w') as file:\n",
    "        file.write(template.render(data))"
   ]
  },
  {
   "cell_type": "code",
   "execution_count": 92,
   "metadata": {},
   "outputs": [
    {
     "data": {
      "text/plain": [
       "ExprSubscript(left=ExprName(name='Optional', parent=Class('Timestream', 70, 1204)), slice=ExprAttribute(values=[ExprName(name='kd', parent=Class('Timestream', 70, 1204)), ExprName(name='windows', parent=ExprName(name='kd', parent=Class('Timestream', 70, 1204))), ExprName(name='Window', parent=ExprName(name='windows', parent=ExprName(name='kd', parent=Class('Timestream', 70, 1204))))]))"
      ]
     },
     "execution_count": 92,
     "metadata": {},
     "output_type": "execute_result"
    }
   ],
   "source": [
    "ds[1].value[0].annotation"
   ]
  },
  {
   "cell_type": "code",
   "execution_count": 93,
   "metadata": {},
   "outputs": [
    {
     "data": {
      "text/plain": [
       "'None'"
      ]
     },
     "execution_count": 93,
     "metadata": {},
     "output_type": "execute_result"
    }
   ],
   "source": [
    "ds[1].value[0].default"
   ]
  },
  {
   "cell_type": "code",
   "execution_count": 94,
   "metadata": {},
   "outputs": [
    {
     "data": {
      "text/plain": [
       "'The window to use for the aggregation. Defaults to the entire Timestream.'"
      ]
     },
     "execution_count": 94,
     "metadata": {},
     "output_type": "execute_result"
    }
   ],
   "source": [
    "ds[1].value[0].description"
   ]
  },
  {
   "cell_type": "code",
   "execution_count": 95,
   "metadata": {},
   "outputs": [
    {
     "data": {
      "text/plain": [
       "'window'"
      ]
     },
     "execution_count": 95,
     "metadata": {},
     "output_type": "execute_result"
    }
   ],
   "source": [
    "ds[1].value[0].name"
   ]
  },
  {
   "cell_type": "code",
   "execution_count": 96,
   "metadata": {},
   "outputs": [
    {
     "data": {
      "text/plain": [
       "'None'"
      ]
     },
     "execution_count": 96,
     "metadata": {},
     "output_type": "execute_result"
    }
   ],
   "source": [
    "ds[1].value[0].value"
   ]
  },
  {
   "cell_type": "code",
   "execution_count": 98,
   "metadata": {},
   "outputs": [
    {
     "data": {
      "text/plain": [
       "'See Also'"
      ]
     },
     "execution_count": 98,
     "metadata": {},
     "output_type": "execute_result"
    }
   ],
   "source": [
    "ds[2].title"
   ]
  },
  {
   "cell_type": "code",
   "execution_count": 104,
   "metadata": {},
   "outputs": [
    {
     "data": {
      "text/plain": [
       "'This returns the maximum of values in a column. See\\n:func:`greatest` to get the maximum value\\nbetween Timestreams at each point.'"
      ]
     },
     "execution_count": 104,
     "metadata": {},
     "output_type": "execute_result"
    }
   ],
   "source": [
    "ds[2].value.description"
   ]
  },
  {
   "cell_type": "code",
   "execution_count": 105,
   "metadata": {},
   "outputs": [
    {
     "data": {
      "text/plain": [
       "<griffe.docstrings.dataclasses.DocstringSectionText at 0x12f137810>"
      ]
     },
     "execution_count": 105,
     "metadata": {},
     "output_type": "execute_result"
    }
   ],
   "source": [
    "ds[3]"
   ]
  }
 ],
 "metadata": {
  "kernelspec": {
   "display_name": "Python 3",
   "language": "python",
   "name": "python3"
  },
  "language_info": {
   "codemirror_mode": {
    "name": "ipython",
    "version": 3
   },
   "file_extension": ".py",
   "mimetype": "text/x-python",
   "name": "python",
   "nbconvert_exporter": "python",
   "pygments_lexer": "ipython3",
   "version": "3.11.4"
  },
  "orig_nbformat": 4
 },
 "nbformat": 4,
 "nbformat_minor": 2
}
