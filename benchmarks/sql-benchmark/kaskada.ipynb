{
 "cells": [
  {
   "cell_type": "code",
   "execution_count": null,
   "metadata": {},
   "outputs": [],
   "source": [
    "%pip install pandas kaskada"
   ]
  },
  {
   "cell_type": "code",
   "execution_count": null,
   "metadata": {},
   "outputs": [],
   "source": [
    "# Configure reloading of loaded modules (useful for the visualization function)\n",
    "%reload_ext autoreload\n",
    "%autoreload 2"
   ]
  },
  {
   "cell_type": "code",
   "execution_count": null,
   "metadata": {},
   "outputs": [],
   "source": [
    "# Import pandas\n",
    "import pandas as pd"
   ]
  },
  {
   "cell_type": "code",
   "execution_count": null,
   "metadata": {},
   "outputs": [],
   "source": [
    "# Create the Kaskada Session\n",
    "from kaskada.api.session import LocalBuilder\n",
    "session = LocalBuilder().build()"
   ]
  },
  {
   "cell_type": "code",
   "execution_count": null,
   "metadata": {},
   "outputs": [],
   "source": [
    "%reload_ext fenlmagic"
   ]
  },
  {
   "cell_type": "code",
   "execution_count": null,
   "metadata": {},
   "outputs": [],
   "source": [
    "from kaskada import table\n",
    "\n",
    "# Change this to the (relative) path to the generated input.\n",
    "INPUT_PATH = '6x_1'\n",
    "\n",
    "try:\n",
    "    view.delete_view('ReviewsByItem')\n",
    "except:\n",
    "    pass\n",
    "\n",
    "try:\n",
    "  table.delete_table('Purchases')\n",
    "except:\n",
    "  pass\n",
    "\n",
    "table.create_table(\n",
    "  table_name = 'Purchases',\n",
    "  time_column_name = 'time',\n",
    "  entity_key_column_name = 'user',\n",
    "  grouping_id = 'user',\n",
    ")\n",
    "\n",
    "table.load(\n",
    "  table_name = 'Purchases',\n",
    "  file = f'{INPUT_PATH}/purchases.parquet',\n",
    ")\n",
    "\n",
    "try:\n",
    "  table.delete_table('PageViews')\n",
    "except:\n",
    "  pass\n",
    "\n",
    "table.create_table(\n",
    "  table_name = 'PageViews',\n",
    "  time_column_name = 'time',\n",
    "  entity_key_column_name = 'user',\n",
    "  grouping_id = 'user',\n",
    ")\n",
    "\n",
    "table.load(\n",
    "  table_name = 'PageViews',\n",
    "  file = f'{INPUT_PATH}/page_views.parquet',\n",
    ")\n",
    "\n",
    "try:\n",
    "  table.delete_table('Ratings')\n",
    "except:\n",
    "  pass\n",
    "\n",
    "table.create_table(\n",
    "  table_name = 'Reviews',\n",
    "  time_column_name = 'time',\n",
    "  entity_key_column_name = 'user',\n",
    "  grouping_id = 'user',\n",
    ")\n",
    "\n",
    "table.load(\n",
    "  table_name = 'Reviews',\n",
    "  file = f'{INPUT_PATH}/reviews.parquet',\n",
    ")"
   ]
  },
  {
   "attachments": {},
   "cell_type": "markdown",
   "metadata": {},
   "source": [
    "# Aggregation / History"
   ]
  },
  {
   "cell_type": "code",
   "execution_count": null,
   "metadata": {},
   "outputs": [],
   "source": [
    "%%fenl --var=aggregate_history\n",
    "{ \n",
    "    sum_amount: sum(Purchases.amount)\n",
    "}"
   ]
  },
  {
   "attachments": {},
   "cell_type": "markdown",
   "metadata": {},
   "source": [
    "# Aggregation / Snapshot"
   ]
  },
  {
   "cell_type": "code",
   "execution_count": null,
   "metadata": {},
   "outputs": [],
   "source": [
    "%%fenl --var=aggregate_snapshot --result-behavior final-results\n",
    "{ \n",
    "    sum_amount: sum(Purchases.amount)\n",
    "}"
   ]
  },
  {
   "attachments": {},
   "cell_type": "markdown",
   "metadata": {},
   "source": [
    "# Windowed Aggregation / History"
   ]
  },
  {
   "cell_type": "code",
   "execution_count": null,
   "metadata": {},
   "outputs": [],
   "source": [
    "%%fenl --var=windowed_history\n",
    "{ \n",
    "    sum_amount: sum(Purchases.amount, window=since(monthly()))\n",
    "        # Hack to work-around https://github.com/kaskada-ai/kaskada/issues/297\n",
    "        | if({ tick: monthly(), input: is_valid($input)} | not($input.tick | else(false)))\n",
    "}"
   ]
  },
  {
   "attachments": {},
   "cell_type": "markdown",
   "metadata": {},
   "source": [
    "# Windowed Aggregation / Snapshot"
   ]
  },
  {
   "cell_type": "code",
   "execution_count": null,
   "metadata": {},
   "outputs": [],
   "source": [
    "%%fenl --var=windowed_snapshot --result-behavior final-results\n",
    "{ \n",
    "    sum_amount: sum(Purchases.amount, window=since(monthly()))\n",
    "        # Hack to work-around https://github.com/kaskada-ai/kaskada/issues/297\n",
    "        | if({ tick: monthly(), input: is_valid($input)} | not($input.tick | else(false)))\n",
    "}"
   ]
  },
  {
   "attachments": {},
   "cell_type": "markdown",
   "metadata": {},
   "source": [
    "# Data-Defined Windowed Aggregation / History"
   ]
  },
  {
   "cell_type": "code",
   "execution_count": null,
   "metadata": {},
   "outputs": [],
   "source": [
    "%%fenl --var=data_defined_history\n",
    "let page_views_since_purchase_raw = count(PageViews, window=since(is_valid(Purchases)))\n",
    "  | when(is_valid(Purchases))\n",
    "in {\n",
    "  result:  page_views_since_purchase_raw | mean()\n",
    "}"
   ]
  },
  {
   "attachments": {},
   "cell_type": "markdown",
   "metadata": {},
   "source": [
    "# Temporal Join / Snapshot"
   ]
  },
  {
   "cell_type": "code",
   "execution_count": null,
   "metadata": {},
   "outputs": [],
   "source": [
    "%%fenl --var=reviews_by_item\n",
    "let reviews_by_item = Reviews | with_key($input.item)\n",
    "in { average_score: reviews_by_item.rating | mean() }"
   ]
  },
  {
   "cell_type": "code",
   "execution_count": null,
   "metadata": {},
   "outputs": [],
   "source": [
    "from kaskada import view\n",
    "\n",
    "try:\n",
    "    view.delete_view('ReviewsByItem')\n",
    "except:\n",
    "    pass\n",
    "\n",
    "view.create_view(\n",
    "    view_name = 'ReviewsByItem',\n",
    "    expression = reviews_by_item.expression,\n",
    ")"
   ]
  },
  {
   "cell_type": "code",
   "execution_count": null,
   "metadata": {},
   "outputs": [],
   "source": [
    "%%fenl --var=temporal_join_snapshot --result-behavior final-results\n",
    "{\n",
    "  average_review: lookup(Purchases.item, ReviewsByItem.average_score)\n",
    "}"
   ]
  }
 ],
 "metadata": {
  "kernelspec": {
   "display_name": ".venv",
   "language": "python",
   "name": "python3"
  },
  "language_info": {
   "codemirror_mode": {
    "name": "ipython",
    "version": 3
   },
   "file_extension": ".py",
   "mimetype": "text/x-python",
   "name": "python",
   "nbconvert_exporter": "python",
   "pygments_lexer": "ipython3",
   "version": "3.11.3"
  },
  "orig_nbformat": 4
 },
 "nbformat": 4,
 "nbformat_minor": 2
}
