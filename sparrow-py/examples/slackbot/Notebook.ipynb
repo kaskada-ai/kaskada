{
 "cells": [
  {
   "cell_type": "markdown",
   "id": "235d821b-1ff8-4ef6-8f0b-559c95254479",
   "metadata": {},
   "source": [
    "# Slackbot Example\n",
    "\n",
    "SlackBot keeps you in the loop without disturbing your focus. Its personalized, intelligent AI continuously monitors your Slack workspace, alerting you to important conversations and freeing you to concentrate on what’s most important.\n",
    "\n",
    "SlackBot reads the full history of your (public) Slack workspace and trains a Generative AI model to predict when you need to engage with a conversation. This training process gives the AI a deep understanding of your interests, expertise, and relationships. Using this understanding, SlackBot watches conversations in real-time and notifies you when an important conversation is happening without you. With SlackBot200 you can focus on getting things done without worrying about missing out.\n",
    "\n",
    "In this notebook, you’ll see you how to build and deploy SlackBot in 15 minutes using only OpenAI’s API’s and open-source Python libraries - Data Science PhD not required.\n",
    "\n"
   ]
  },
  {
   "cell_type": "code",
   "execution_count": 1,
   "id": "70440303",
   "metadata": {},
   "outputs": [
    {
     "name": "stdout",
     "output_type": "stream",
     "text": [
      "Collecting openai\n",
      "  Using cached openai-0.27.8-py3-none-any.whl (73 kB)\n",
      "Collecting kaskada\n",
      "  Using cached kaskada-0.5.1-py3-none-any.whl (106 kB)\n",
      "Requirement already satisfied: requests>=2.20 in /Users/jordan.frazier/.pyenv/versions/3.11.2/lib/python3.11/site-packages (from openai) (2.31.0)\n",
      "Collecting tqdm\n",
      "  Using cached tqdm-4.65.0-py3-none-any.whl (77 kB)\n",
      "Collecting aiohttp\n",
      "  Downloading aiohttp-3.8.5-cp311-cp311-macosx_11_0_arm64.whl (339 kB)\n",
      "\u001b[2K     \u001b[90m━━━━━━━━━━━━━━━━━━━━━━━━━━━━━━━━━━━━━━━\u001b[0m \u001b[32m339.6/339.6 kB\u001b[0m \u001b[31m1.9 MB/s\u001b[0m eta \u001b[36m0:00:00\u001b[0m00:01\u001b[0m00:01\u001b[0m\n",
      "\u001b[?25hCollecting certifi<2023.0.0,>=2022.12.7\n",
      "  Using cached certifi-2022.12.7-py3-none-any.whl (155 kB)\n",
      "Collecting domonic<0.10.0,>=0.9.11\n",
      "  Using cached domonic-0.9.11-py3-none-any.whl (313 kB)\n",
      "Collecting googleapis-common-protos<2.0.0,>=1.58.0\n",
      "  Using cached googleapis_common_protos-1.60.0-py2.py3-none-any.whl (227 kB)\n",
      "Collecting grpcio<2.0.0,>=1.51.1\n",
      "  Downloading grpcio-1.56.2-cp311-cp311-macosx_10_10_universal2.whl (8.9 MB)\n",
      "\u001b[2K     \u001b[90m━━━━━━━━━━━━━━━━━━━━━━━━━━━━━━━━━━━━━━━━\u001b[0m \u001b[32m8.9/8.9 MB\u001b[0m \u001b[31m6.8 MB/s\u001b[0m eta \u001b[36m0:00:00\u001b[0m00:01\u001b[0m00:01\u001b[0m\n",
      "\u001b[?25hCollecting grpcio-health-checking<2.0.0,>=1.54.2\n",
      "  Using cached grpcio_health_checking-1.56.2-py3-none-any.whl (8.5 kB)\n",
      "Collecting grpcio-status<2.0.0,>=1.51.1\n",
      "  Using cached grpcio_status-1.56.2-py3-none-any.whl (5.1 kB)\n",
      "Collecting html5lib<2.0,>=1.1\n",
      "  Using cached html5lib-1.1-py2.py3-none-any.whl (112 kB)\n",
      "Collecting ipython==7.34.0\n",
      "  Using cached ipython-7.34.0-py3-none-any.whl (793 kB)\n",
      "Collecting pandas<1.4,>=1.3\n",
      "  Using cached pandas-1.3.5.tar.gz (4.7 MB)\n",
      "  Installing build dependencies ... \u001b[?25ldone\n",
      "\u001b[?25h  Getting requirements to build wheel ... \u001b[?25ldone\n",
      "\u001b[?25h  Preparing metadata (pyproject.toml) ... \u001b[?25ldone\n",
      "\u001b[?25hCollecting pyarrow<11.0.0,>=10.0.1\n",
      "  Downloading pyarrow-10.0.1-cp311-cp311-macosx_11_0_arm64.whl (22.9 MB)\n",
      "\u001b[2K     \u001b[90m━━━━━━━━━━━━━━━━━━━━━━━━━━━━━━━━━━━━━━━━\u001b[0m \u001b[32m22.9/22.9 MB\u001b[0m \u001b[31m6.2 MB/s\u001b[0m eta \u001b[36m0:00:00\u001b[0m00:01\u001b[0m00:01\u001b[0m\n",
      "\u001b[?25hCollecting pygithub<2.0,>=1.57\n",
      "  Using cached PyGithub-1.59.1-py3-none-any.whl (342 kB)\n",
      "Requirement already satisfied: setuptools>=18.5 in /Users/jordan.frazier/.pyenv/versions/3.11.2/lib/python3.11/site-packages (from ipython==7.34.0->kaskada) (65.5.0)\n",
      "Requirement already satisfied: jedi>=0.16 in /Users/jordan.frazier/.pyenv/versions/3.11.2/lib/python3.11/site-packages (from ipython==7.34.0->kaskada) (0.19.0)\n",
      "Requirement already satisfied: decorator in /Users/jordan.frazier/.pyenv/versions/3.11.2/lib/python3.11/site-packages (from ipython==7.34.0->kaskada) (5.1.1)\n",
      "Requirement already satisfied: pickleshare in /Users/jordan.frazier/.pyenv/versions/3.11.2/lib/python3.11/site-packages (from ipython==7.34.0->kaskada) (0.7.5)\n",
      "Requirement already satisfied: traitlets>=4.2 in /Users/jordan.frazier/.pyenv/versions/3.11.2/lib/python3.11/site-packages (from ipython==7.34.0->kaskada) (5.9.0)\n",
      "Requirement already satisfied: prompt-toolkit!=3.0.0,!=3.0.1,<3.1.0,>=2.0.0 in /Users/jordan.frazier/.pyenv/versions/3.11.2/lib/python3.11/site-packages (from ipython==7.34.0->kaskada) (3.0.39)\n",
      "Requirement already satisfied: pygments in /Users/jordan.frazier/.pyenv/versions/3.11.2/lib/python3.11/site-packages (from ipython==7.34.0->kaskada) (2.15.1)\n",
      "Requirement already satisfied: backcall in /Users/jordan.frazier/.pyenv/versions/3.11.2/lib/python3.11/site-packages (from ipython==7.34.0->kaskada) (0.2.0)\n",
      "Requirement already satisfied: matplotlib-inline in /Users/jordan.frazier/.pyenv/versions/3.11.2/lib/python3.11/site-packages (from ipython==7.34.0->kaskada) (0.1.6)\n",
      "Requirement already satisfied: pexpect>4.3 in /Users/jordan.frazier/.pyenv/versions/3.11.2/lib/python3.11/site-packages (from ipython==7.34.0->kaskada) (4.8.0)\n",
      "Requirement already satisfied: appnope in /Users/jordan.frazier/.pyenv/versions/3.11.2/lib/python3.11/site-packages (from ipython==7.34.0->kaskada) (0.1.3)\n",
      "Collecting elementpath~=2.5.2\n",
      "  Using cached elementpath-2.5.3-py3-none-any.whl (181 kB)\n",
      "Requirement already satisfied: python-dateutil==2.8.2 in /Users/jordan.frazier/.pyenv/versions/3.11.2/lib/python3.11/site-packages (from domonic<0.10.0,>=0.9.11->kaskada) (2.8.2)\n",
      "Collecting requests>=2.20\n",
      "  Using cached requests-2.28.2-py3-none-any.whl (62 kB)\n",
      "Collecting urllib3~=1.26.9\n",
      "  Using cached urllib3-1.26.16-py2.py3-none-any.whl (143 kB)\n",
      "Collecting cssselect~=1.1.0\n",
      "  Using cached cssselect-1.1.0-py2.py3-none-any.whl (16 kB)\n",
      "Requirement already satisfied: six>=1.5 in /Users/jordan.frazier/.pyenv/versions/3.11.2/lib/python3.11/site-packages (from python-dateutil==2.8.2->domonic<0.10.0,>=0.9.11->kaskada) (1.16.0)\n",
      "Collecting protobuf!=3.20.0,!=3.20.1,!=4.21.1,!=4.21.2,!=4.21.3,!=4.21.4,!=4.21.5,<5.0.0.dev0,>=3.19.5\n",
      "  Using cached protobuf-4.23.4-cp37-abi3-macosx_10_9_universal2.whl (400 kB)\n",
      "Requirement already satisfied: webencodings in /Users/jordan.frazier/.pyenv/versions/3.11.2/lib/python3.11/site-packages (from html5lib<2.0,>=1.1->kaskada) (0.5.1)\n",
      "Collecting pytz>=2017.3\n",
      "  Using cached pytz-2023.3-py2.py3-none-any.whl (502 kB)\n",
      "Collecting numpy>=1.21.0\n",
      "  Using cached numpy-1.25.2-cp311-cp311-macosx_11_0_arm64.whl (14.0 MB)\n",
      "Collecting deprecated\n",
      "  Using cached Deprecated-1.2.14-py2.py3-none-any.whl (9.6 kB)\n",
      "Collecting pyjwt[crypto]>=2.4.0\n",
      "  Using cached PyJWT-2.8.0-py3-none-any.whl (22 kB)\n",
      "Collecting pynacl>=1.4.0\n",
      "  Using cached PyNaCl-1.5.0-cp36-abi3-macosx_10_10_universal2.whl (349 kB)\n",
      "Requirement already satisfied: charset-normalizer<4,>=2 in /Users/jordan.frazier/.pyenv/versions/3.11.2/lib/python3.11/site-packages (from requests>=2.20->openai) (3.2.0)\n",
      "Requirement already satisfied: idna<4,>=2.5 in /Users/jordan.frazier/.pyenv/versions/3.11.2/lib/python3.11/site-packages (from requests>=2.20->openai) (3.4)\n",
      "Requirement already satisfied: attrs>=17.3.0 in /Users/jordan.frazier/.pyenv/versions/3.11.2/lib/python3.11/site-packages (from aiohttp->openai) (23.1.0)\n",
      "Collecting multidict<7.0,>=4.5\n",
      "  Downloading multidict-6.0.4-cp311-cp311-macosx_11_0_arm64.whl (29 kB)\n",
      "Collecting async-timeout<5.0,>=4.0.0a3\n",
      "  Using cached async_timeout-4.0.2-py3-none-any.whl (5.8 kB)\n",
      "Collecting yarl<2.0,>=1.0\n",
      "  Downloading yarl-1.9.2-cp311-cp311-macosx_11_0_arm64.whl (61 kB)\n",
      "\u001b[2K     \u001b[90m━━━━━━━━━━━━━━━━━━━━━━━━━━━━━━━━━━━━━━━\u001b[0m \u001b[32m61.3/61.3 kB\u001b[0m \u001b[31m660.8 kB/s\u001b[0m eta \u001b[36m0:00:00\u001b[0ma \u001b[36m0:00:01\u001b[0m\n",
      "\u001b[?25hCollecting frozenlist>=1.1.1\n",
      "  Downloading frozenlist-1.4.0-cp311-cp311-macosx_11_0_arm64.whl (46 kB)\n",
      "\u001b[2K     \u001b[90m━━━━━━━━━━━━━━━━━━━━━━━━━━━━━━━━━━━━━━━━\u001b[0m \u001b[32m46.7/46.7 kB\u001b[0m \u001b[31m1.3 MB/s\u001b[0m eta \u001b[36m0:00:00\u001b[0m\n",
      "\u001b[?25hCollecting aiosignal>=1.1.2\n",
      "  Using cached aiosignal-1.3.1-py3-none-any.whl (7.6 kB)\n",
      "Requirement already satisfied: parso<0.9.0,>=0.8.3 in /Users/jordan.frazier/.pyenv/versions/3.11.2/lib/python3.11/site-packages (from jedi>=0.16->ipython==7.34.0->kaskada) (0.8.3)\n",
      "Requirement already satisfied: ptyprocess>=0.5 in /Users/jordan.frazier/.pyenv/versions/3.11.2/lib/python3.11/site-packages (from pexpect>4.3->ipython==7.34.0->kaskada) (0.7.0)\n",
      "Requirement already satisfied: wcwidth in /Users/jordan.frazier/.pyenv/versions/3.11.2/lib/python3.11/site-packages (from prompt-toolkit!=3.0.0,!=3.0.1,<3.1.0,>=2.0.0->ipython==7.34.0->kaskada) (0.2.6)\n",
      "Collecting cryptography>=3.4.0\n",
      "  Using cached cryptography-41.0.3-cp37-abi3-macosx_10_12_universal2.whl (5.3 MB)\n",
      "Requirement already satisfied: cffi>=1.4.1 in /Users/jordan.frazier/.pyenv/versions/3.11.2/lib/python3.11/site-packages (from pynacl>=1.4.0->pygithub<2.0,>=1.57->kaskada) (1.15.1)\n",
      "Collecting wrapt<2,>=1.10\n",
      "  Downloading wrapt-1.15.0-cp311-cp311-macosx_11_0_arm64.whl (36 kB)\n",
      "Requirement already satisfied: pycparser in /Users/jordan.frazier/.pyenv/versions/3.11.2/lib/python3.11/site-packages (from cffi>=1.4.1->pynacl>=1.4.0->pygithub<2.0,>=1.57->kaskada) (2.21)\n",
      "Building wheels for collected packages: pandas\n",
      "  Building wheel for pandas (pyproject.toml) ... \u001b[?25ldone\n",
      "\u001b[?25h  Created wheel for pandas: filename=pandas-1.3.5-cp311-cp311-macosx_12_0_arm64.whl size=10193706 sha256=25abd82dd5dadeabc82b5d8939cc11cb513ff2b93082010294f363407ea308f5\n",
      "  Stored in directory: /Users/jordan.frazier/Library/Caches/pip/wheels/9a/59/ee/b02b6097e2cffe4252ed6b3adff32dca0fd6bf7b494bbacb57\n",
      "Successfully built pandas\n",
      "Installing collected packages: pytz, wrapt, urllib3, tqdm, pyjwt, protobuf, numpy, multidict, html5lib, grpcio, frozenlist, elementpath, cssselect, certifi, async-timeout, yarl, requests, pynacl, pyarrow, pandas, ipython, grpcio-health-checking, googleapis-common-protos, deprecated, cryptography, aiosignal, grpcio-status, domonic, aiohttp, pygithub, openai, kaskada\n",
      "  Attempting uninstall: urllib3\n",
      "    Found existing installation: urllib3 2.0.4\n",
      "    Uninstalling urllib3-2.0.4:\n",
      "      Successfully uninstalled urllib3-2.0.4\n",
      "  Attempting uninstall: certifi\n",
      "    Found existing installation: certifi 2023.7.22\n",
      "    Uninstalling certifi-2023.7.22:\n",
      "      Successfully uninstalled certifi-2023.7.22\n",
      "  Attempting uninstall: requests\n",
      "    Found existing installation: requests 2.31.0\n",
      "    Uninstalling requests-2.31.0:\n",
      "      Successfully uninstalled requests-2.31.0\n",
      "  Attempting uninstall: ipython\n",
      "    Found existing installation: ipython 8.14.0\n",
      "    Uninstalling ipython-8.14.0:\n",
      "      Successfully uninstalled ipython-8.14.0\n",
      "Successfully installed aiohttp-3.8.5 aiosignal-1.3.1 async-timeout-4.0.2 certifi-2022.12.7 cryptography-41.0.3 cssselect-1.1.0 deprecated-1.2.14 domonic-0.9.11 elementpath-2.5.3 frozenlist-1.4.0 googleapis-common-protos-1.60.0 grpcio-1.56.2 grpcio-health-checking-1.56.2 grpcio-status-1.56.2 html5lib-1.1 ipython-7.34.0 kaskada-0.5.1 multidict-6.0.4 numpy-1.25.2 openai-0.27.8 pandas-1.3.5 protobuf-4.23.4 pyarrow-12.0.1 pygithub-1.59.1 pyjwt-2.8.0 pynacl-1.5.0 pytz-2023.3 requests-2.28.2 tqdm-4.65.0 urllib3-1.26.16 wrapt-1.15.0 yarl-1.9.2\n",
      "\n",
      "\u001b[1m[\u001b[0m\u001b[34;49mnotice\u001b[0m\u001b[1;39;49m]\u001b[0m\u001b[39;49m A new release of pip available: \u001b[0m\u001b[31;49m22.3.1\u001b[0m\u001b[39;49m -> \u001b[0m\u001b[32;49m23.2.1\u001b[0m\n",
      "\u001b[1m[\u001b[0m\u001b[34;49mnotice\u001b[0m\u001b[1;39;49m]\u001b[0m\u001b[39;49m To update, run: \u001b[0m\u001b[32;49mpip install --upgrade pip\u001b[0m\n"
     ]
    }
   ],
   "source": [
    "!pip install openai kaskada"
   ]
  },
  {
   "cell_type": "code",
   "execution_count": null,
   "id": "bbe4c44d",
   "metadata": {},
   "outputs": [],
   "source": []
  },
  {
   "cell_type": "code",
   "execution_count": 2,
   "id": "61ea2e95-6d9d-4068-ab98-8cf94bc4d9d0",
   "metadata": {},
   "outputs": [
    {
     "ename": "ModuleNotFoundError",
     "evalue": "No module named 'sklearn'",
     "output_type": "error",
     "traceback": [
      "\u001b[0;31m---------------------------------------------------------------------------\u001b[0m",
      "\u001b[0;31mModuleNotFoundError\u001b[0m                       Traceback (most recent call last)",
      "Cell \u001b[0;32mIn[2], line 2\u001b[0m\n\u001b[1;32m      1\u001b[0m \u001b[38;5;28;01mfrom\u001b[39;00m \u001b[38;5;21;01mdatetime\u001b[39;00m \u001b[38;5;28;01mimport\u001b[39;00m datetime, timedelta\n\u001b[0;32m----> 2\u001b[0m \u001b[38;5;28;01mfrom\u001b[39;00m \u001b[38;5;21;01msklearn\u001b[39;00m\u001b[38;5;21;01m.\u001b[39;00m\u001b[38;5;21;01mmodel_selection\u001b[39;00m \u001b[38;5;28;01mimport\u001b[39;00m train_test_split\n\u001b[1;32m      3\u001b[0m \u001b[38;5;28;01mfrom\u001b[39;00m \u001b[38;5;21;01mslack_sdk\u001b[39;00m\u001b[38;5;21;01m.\u001b[39;00m\u001b[38;5;21;01msocket_mode\u001b[39;00m \u001b[38;5;28;01mimport\u001b[39;00m SocketModeClient\n\u001b[1;32m      4\u001b[0m \u001b[38;5;28;01mimport\u001b[39;00m \u001b[38;5;21;01mopenai\u001b[39;00m\n",
      "\u001b[0;31mModuleNotFoundError\u001b[0m: No module named 'sklearn'"
     ]
    }
   ],
   "source": [
    "from datetime import datetime, timedelta\n",
    "from sklearn.model_selection import train_test_split\n",
    "from slack_sdk.socket_mode import SocketModeClient\n",
    "import openai\n",
    "import sparrow_pi as k\n",
    "import sparrow_pi.sources as sources\n",
    "import openai\n",
    "import getpass\n",
    "import pyarrow\n",
    "\n",
    "# Initialize Kaskada with a local execution context.\n",
    "k.init_session()\n",
    "\n",
    "# Initialize OpenAI\n",
    "openai.api_key = getpass.getpass('OpenAI: API Key')\n",
    "\n",
    "# Initialize Slack\n",
    "slack = SocketModeClient(\n",
    "    app_token=getpass.getpass('Slack: App Token'),\n",
    "    web_client=getpass.getpass('Slack: Bot Token'),\n",
    ")"
   ]
  },
  {
   "cell_type": "markdown",
   "id": "9b8a144d-8d79-4943-b99b-d3470ee96283",
   "metadata": {},
   "source": [
    "## Prompt Engineering"
   ]
  },
  {
   "cell_type": "code",
   "execution_count": null,
   "id": "e95d4d50",
   "metadata": {
    "tags": []
   },
   "outputs": [],
   "source": [
    "SYSTEM_CONTEXT = \"\"\"\n",
    "You are a helpful assistant designed to suggest the Slack usernames of \n",
    "people who need to know about a Slack conversation.\n",
    "\n",
    "Only respond as a JSON list containing the Slack usernames of people to notify \n",
    "of the conversation, or return an empty list if no should be notified.\n",
    "\n",
    "The Slack conversation is as follows, formatted as a JSON object:\n",
    "\n",
    "\"\"\" "
   ]
  },
  {
   "cell_type": "code",
   "execution_count": null,
   "id": "cf3ec0e3-c943-4974-922b-9b9c965ba0ff",
   "metadata": {
    "tags": []
   },
   "outputs": [],
   "source": [
    "def prompt(messages):\n",
    "    # A conversation starts when a new messages is more than 5 minutes after the previous message\n",
    "    #last_message = messages.lag(1)\n",
    "    #since_last_message = messages.time().seconds_since(last_message.time())\n",
    "    #conversation_start = since_last_message > k.minutes(5)\n",
    "\n",
    "    k.record({\n",
    "        # A list of all messages over the past 10 minutes (up to 100)\n",
    "        \"recent_messages\": messages\n",
    "            #.select(\"user\", \"type\", \"text\")\n",
    "            .select(False, \"user\", \"subtype\", \"text\")\n",
    "            #.collect(window=since(conversation_start), max=100),\n",
    "            .last(),\n",
    "\n",
    "        # How many messages have been reacted to in the conversation\n",
    "        \"reaction_count\": messages\n",
    "            #.filter(messages[\"reactions\"].is_not_null())\n",
    "            #.count(window=since(conversation_start)),\n",
    "            [\"reply_count\"].sum(),\n",
    "    })"
   ]
  },
  {
   "cell_type": "code",
   "execution_count": null,
   "id": "fdb2d959-d371-4026-9f8d-4ab26cfbf317",
   "metadata": {},
   "outputs": [],
   "source": [
    "def examples(messages):\n",
    "    # We'll train ChatGPT to generate the user ID who will engage next\n",
    "    k.record({\n",
    "        # For each example, use the previous prompt\n",
    "        \"prompt\": prompt(messages)\n",
    "            #.lag(1),\n",
    "            .last(),\n",
    "\n",
    "        # ...and the current user ID\n",
    "        \"completion\": messages[\"user\"],\n",
    "    })"
   ]
  },
  {
   "cell_type": "code",
   "execution_count": null,
   "id": "0be6bde5-9602-43e6-89bf-e0e1470fc7c0",
   "metadata": {},
   "outputs": [],
   "source": [
    "# Format the data for OpenAI\n",
    "def format_prompt(prompt):\n",
    "    return SYSTEM_CONTEXT + json.dumps(prompt) + \"\\n\\n###\\n\\n\"\n",
    "def format_completion(completion):\n",
    "    return completion + \"###\""
   ]
  },
  {
   "cell_type": "markdown",
   "id": "0035f558-23bd-4b4d-95a0-ed5e8fece673",
   "metadata": {},
   "source": [
    "## Fine-tune the model"
   ]
  },
  {
   "cell_type": "code",
   "execution_count": null,
   "id": "af7d2a45-eb89-47ce-b471-a39ad8c7bbc7",
   "metadata": {},
   "outputs": [],
   "source": [
    "# Compute examples from historical data\n",
    "#tl = examples(messages = k.source.read_parquet(\n",
    "#   entity_column=\"channel\", \n",
    "#    time_column=\"ts\", \n",
    "#    files=[\"./messages.parquet\"]))\n",
    "tl = examples(sources.ArrowSource(\"ts\", \"channel\", pandas.read_parquet(\"./messages.parquet\")))\n",
    "\n",
    "\n",
    "# Limit to the examples we want to use for training\n",
    "#tl = tl.filter(tl[\"prompt\"].is_not_null())\n",
    "#examples_df = tl.run().to_pandas()\n",
    "examples_df = tl.run()\n",
    "\n",
    "# Format for the OpenAI API\n",
    "examples_df[\"prompt\"] = examples_df[\"prompt\"].apply(format_prompt)\n",
    "examples_df[\"completion\"] = examples_df[\"completion\"].apply(format_completion)\n",
    "\n",
    "# Split training & validation\n",
    "train, valid = train_test_split(examples_df, test_size=0.2, random_state=42)\n",
    "train.to_json(\"train.jsonl\", orient='records', lines=True)\n",
    "valid.to_json(\"valid.jsonl\", orient='records', lines=True)"
   ]
  },
  {
   "cell_type": "code",
   "execution_count": null,
   "id": "83914ada-d108-422b-b4c0-7a0d9576d031",
   "metadata": {
    "tags": []
   },
   "outputs": [],
   "source": [
    "%%bash\n",
    "openai api fine_tunes.create -t \"train.jsonl\" -v \"valid.jsonl\""
   ]
  },
  {
   "cell_type": "markdown",
   "id": "b3e29109-cc00-4bf5-ba23-069e8db1f179",
   "metadata": {
    "jp-MarkdownHeadingCollapsed": true,
    "tags": []
   },
   "source": [
    "## Notify users of conversations they need to know about"
   ]
  },
  {
   "cell_type": "code",
   "execution_count": null,
   "id": "540afff7-4ebc-427f-8205-1ed145e0c59a",
   "metadata": {
    "tags": []
   },
   "outputs": [],
   "source": [
    "# Receive Slack messages in real-time\n",
    "live_messages = k.source.read_stream(entity_column=\"channel\", time_column=\"ts\")\n",
    "\n",
    "# Receive messages from Slack\n",
    "def handle_message(client, req):\n",
    "    # Acknowledge the message back to Slack\n",
    "    client.send_socket_mode_response(SocketModeResponse(envelope_id=req.envelope_id))\n",
    "    \n",
    "    # Deliver the message to Kaskada\n",
    "    live_messages.add_event(pyarrow.json.read_json(req.payload))\n",
    "client.socket_mode_request_listeners.append(handle_message)\n",
    "client.connect()\n",
    "\n",
    "# Handle messages in realtime\n",
    "for p in prompt(live_messages).run(starting=datetime.now()).to_generator():\n",
    "    \n",
    "    # Ask the model who should be notified\n",
    "    completions = openai.Completion.create(\n",
    "        model=\"ft-2zaA7qi0rxJduWQpdvOvmGn3\", \n",
    "        prompt=format_prompt(p),\n",
    "        max_tokens=10,\n",
    "        temperature=0,\n",
    "    )\n",
    "    users = json.loads(completions.choices[0].text)\n",
    "    \n",
    "    # Send notification to users\n",
    "    for user in users:\n",
    "        permalink = slack.web_client.chat_getPermalink(\n",
    "            channel=prompt[\"_entity\"],\n",
    "            message_ts=prompt[\"_time\"],\n",
    "        )[\"permalink\"]\n",
    "        \n",
    "        app_channel = slack.web_client.users_conversations(\n",
    "            types=\"im\",\n",
    "            user=user,\n",
    "        )[\"channels\"][0][\"id\"]\n",
    "        \n",
    "        slack.web_client.chat_postMessage(\n",
    "            channel=app_channel,\n",
    "            text=f'You put eyes on this message: <{link}|{message_text}>'\n",
    "        )"
   ]
  },
  {
   "cell_type": "markdown",
   "id": "8bdd2b13",
   "metadata": {
    "tags": []
   },
   "source": [
    "## Legacy Implementation\n"
   ]
  },
  {
   "cell_type": "code",
   "execution_count": null,
   "id": "f14d9d3f",
   "metadata": {
    "tags": []
   },
   "outputs": [],
   "source": [
    "%load_ext fenlmagic"
   ]
  },
  {
   "cell_type": "code",
   "execution_count": null,
   "id": "ac261293",
   "metadata": {
    "tags": []
   },
   "outputs": [],
   "source": [
    "from kaskada.api.session import LocalBuilder\n",
    "from kaskada import table\n",
    "\n",
    "session = LocalBuilder().build()"
   ]
  },
  {
   "cell_type": "code",
   "execution_count": 5,
   "id": "9ff7c0a7",
   "metadata": {
    "tags": []
   },
   "outputs": [
    {
     "data": {
      "text/html": [
       "<div><div class=\"kda_tab\"><button class=\"kda_tablinks kda_active\" onclick=\"openTab(event, 'details')\">Details</button><button class=\"kda_tablinks\" onclick=\"openTab(event, 'raw')\">Raw</button></div><div class=\"details kda_tabcontent\" style=\"display:block;\"><div class=\"kda_scroll_container\"><table class=\"kda_table\"><tr><td><b>table</b></td><td><table class=\"kda_table\"><tr><td><b>table_name</b></td><td><pre>Message</pre></td></tr><tr><td><b>entity_key_column_name</b></td><td><pre>channel</pre></td></tr><tr><td><b>time_column_name</b></td><td><pre>ts</pre></td></tr><tr><td><b>grouping_id</b></td><td><pre>Channel</pre></td></tr><tr><td><b>version</b></td><td><pre>0</pre></td></tr><tr><td><b>create_time</b></td><td><pre>2023-08-03T09:29:52.105594</pre></td></tr><tr><td><b>update_time</b></td><td><pre>2023-08-03T09:29:52.105594</pre></td></tr></table></td></tr><tr><td><b>request_details</b></td><td><table class=\"kda_table\"><tr><td><b>request_id</b></td><td><pre>81452f5e9fbcff7f453eb99d2ebb15bc</pre></td></tr></table></td></tr></table></div></div><div class=\"raw kda_tabcontent\" style=\"display:none;\"><div class=\"kda_scroll_container\"><pre>table {\n",
       "  table_id: \"90fa6463-028c-4fe9-9795-341cf2f197d4\"\n",
       "  table_name: \"Message\"\n",
       "  time_column_name: \"ts\"\n",
       "  entity_key_column_name: \"channel\"\n",
       "  grouping_id: \"Channel\"\n",
       "  create_time {\n",
       "    seconds: 1691080192\n",
       "    nanos: 105594000\n",
       "  }\n",
       "  update_time {\n",
       "    seconds: 1691080192\n",
       "    nanos: 105594000\n",
       "  }\n",
       "  source {\n",
       "    kaskada {\n",
       "    }\n",
       "  }\n",
       "}\n",
       "request_details {\n",
       "  request_id: \"81452f5e9fbcff7f453eb99d2ebb15bc\"\n",
       "}\n",
       "</pre></div></div></div>"
      ],
      "text/plain": [
       "table {\n",
       "  table_id: \"90fa6463-028c-4fe9-9795-341cf2f197d4\"\n",
       "  table_name: \"Message\"\n",
       "  time_column_name: \"ts\"\n",
       "  entity_key_column_name: \"channel\"\n",
       "  grouping_id: \"Channel\"\n",
       "  create_time {\n",
       "    seconds: 1691080192\n",
       "    nanos: 105594000\n",
       "  }\n",
       "  update_time {\n",
       "    seconds: 1691080192\n",
       "    nanos: 105594000\n",
       "  }\n",
       "  source {\n",
       "    kaskada {\n",
       "    }\n",
       "  }\n",
       "}\n",
       "request_details {\n",
       "  request_id: \"81452f5e9fbcff7f453eb99d2ebb15bc\"\n",
       "}"
      ]
     },
     "execution_count": 5,
     "metadata": {},
     "output_type": "execute_result"
    }
   ],
   "source": [
    "\n",
    "#table.delete_table(\"Message\")\n",
    "\n",
    "table.create_table(\n",
    "  # The table's name\n",
    "  table_name = \"Message\",\n",
    "  # The name of the column in the data that contains the time associated with each row\n",
    "  time_column_name = \"ts\",\n",
    "  # The name of the column in the data that contains the entity key associated with each row\n",
    "  entity_key_column_name = \"channel\",\n",
    "  grouping_id = \"Channel\",\n",
    ")\n"
   ]
  },
  {
   "cell_type": "code",
   "execution_count": 6,
   "id": "fc8df2a6",
   "metadata": {
    "tags": []
   },
   "outputs": [
    {
     "data": {
      "text/html": [
       "<div><div class=\"kda_tab\"><button class=\"kda_tablinks kda_active\" onclick=\"openTab(event, 'details')\">Details</button><button class=\"kda_tablinks\" onclick=\"openTab(event, 'raw')\">Raw</button></div><div class=\"details kda_tabcontent\" style=\"display:block;\"><div class=\"kda_scroll_container\"><table class=\"kda_table\"><tr><td><b>data_token_id</b></td><td><pre>ebdaa884-33d9-49f1-9e9d-61af6235dddb</pre></td></tr><tr><td><b>request_details</b></td><td><table class=\"kda_table\"><tr><td><b>request_id</b></td><td><pre>895b6120d06754bf458f27c15be4839b</pre></td></tr></table></td></tr></table></div></div><div class=\"raw kda_tabcontent\" style=\"display:none;\"><div class=\"kda_scroll_container\"><pre>data_token_id: \"ebdaa884-33d9-49f1-9e9d-61af6235dddb\"\n",
       "request_details {\n",
       "  request_id: \"895b6120d06754bf458f27c15be4839b\"\n",
       "}\n",
       "</pre></div></div></div>"
      ],
      "text/plain": [
       "data_token_id: \"ebdaa884-33d9-49f1-9e9d-61af6235dddb\"\n",
       "request_details {\n",
       "  request_id: \"895b6120d06754bf458f27c15be4839b\"\n",
       "}"
      ]
     },
     "execution_count": 6,
     "metadata": {},
     "output_type": "execute_result"
    }
   ],
   "source": [
    "\n",
    "table.load(table_name = \"Message\", file = \"messages.parquet\")"
   ]
  },
  {
   "cell_type": "code",
   "execution_count": 7,
   "id": "8de2b745",
   "metadata": {
    "tags": []
   },
   "outputs": [
    {
     "name": "stderr",
     "output_type": "stream",
     "text": [
      "IPython.core.error.UsageError: Missing optional dependency 'fsspec'.  Use pip or conda to install fsspec.\n"
     ]
    },
    {
     "name": "stdout",
     "output_type": "stream",
     "text": [
      "WARNING:kaskada.api.local_session.local_session_keep_alive:Kaskada services are not available (Attempt: #1)\n",
      "WARNING:kaskada.api.local_session.local_session_keep_alive:Kaskada services are not available (Attempt: #2)\n",
      "WARNING:kaskada.api.local_session.local_session_keep_alive:Kaskada services are not available (Attempt: #3)\n",
      "INFO:kaskada.api.local_session.local_session_keep_alive:Attempting to recover from an invalid session.\n"
     ]
    }
   ],
   "source": [
    "%%fenl\n",
    "Message"
   ]
  },
  {
   "cell_type": "code",
   "execution_count": null,
   "id": "bdb3d7bb",
   "metadata": {},
   "outputs": [],
   "source": [
    "%%fenl\n",
    "let message = Message | when(Message.subtype == \"message\")\n",
    "\n",
    "let last_message = message.lag(1)\n",
    "let since_last_message = seconds_between(message.time_of(), last_message.time_of()) as i64\n",
    "let conversation_start = since_last_message > 5 * 60\n",
    "\n",
    "let prompt = {\n",
    "    # TODO: List rather than last\n",
    "    recent_messages: message | select_fields($input, \"user\", \"text\") | last(),\n",
    "\n",
    "    # # TODO: List support (for reactions field)\n",
    "    engage_count: message\n",
    "    | when(message.reactions | is_valid())\n",
    "    | count(window=since(conversation_start)),\n",
    "}\n",
    "\n",
    "let completion = message.user\n",
    "\n",
    "let examples = {\n",
    "    prompt: prompt, # TODO: Support lag: | lag(1),\n",
    "    completion: completion,\n",
    "}\n",
    "\n",
    "in examples | when($input.prompt | is_valid())"
   ]
  },
  {
   "cell_type": "code",
   "execution_count": null,
   "id": "e895a49a",
   "metadata": {},
   "outputs": [],
   "source": [
    "# Split training & validation\n",
    "from sklearn.model_selection import train_test_split\n",
    "train, valid = train_test_split(\n",
    "  examples.dataframe,\n",
    "  test_size=0.2, random_state=42\n",
    ")\n",
    "train.to_json(\"train.jsonl\", orient='records', lines=True)\n",
    "valid.to_json(\"valid.jsonl\", orient='records', lines=True)\n",
    "\n",
    "# Fine tune a model\n",
    "!openai api fine_tunes.create -t \"train.jsonl\" -v \"valid.jsonl\""
   ]
  }
 ],
 "metadata": {
  "kernelspec": {
   "display_name": "Python 3 (ipykernel)",
   "language": "python",
   "name": "python3"
  },
  "language_info": {
   "codemirror_mode": {
    "name": "ipython",
    "version": 3
   },
   "file_extension": ".py",
   "mimetype": "text/x-python",
   "name": "python",
   "nbconvert_exporter": "python",
   "pygments_lexer": "ipython3",
   "version": "3.11.2"
  }
 },
 "nbformat": 4,
 "nbformat_minor": 5
}
