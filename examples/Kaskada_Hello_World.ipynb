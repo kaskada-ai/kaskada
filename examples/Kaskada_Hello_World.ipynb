{
 "cells": [
  {
   "cell_type": "markdown",
   "metadata": {
    "id": "f07j41yeHlne"
   },
   "source": [
    "# Kaskada: Hello World\n",
    "\n",
    "#### A minimal workflow for building continuous-time features using Kaskada's time-centric feature engine\n",
    "\n",
    "If you have any issues at all, please contact us using the chat/message widget on [Kaskada.com](https://kaskada.com/).\n",
    "\n",
    "---\n",
    "\n",
    "### Minimal Kaskada workflow in this notebook:\n",
    "\n",
    "1. Set up the Python libraries to run `kaskada`\n",
    "2. Create a table and load data into that table\n",
    "3. Query the table in a few different ways\n",
    "4. Build features directly from event data\n",
    "5. Save the feature set as a view to share with other notebooks and people or to use in production"
   ]
  },
  {
   "cell_type": "markdown",
   "metadata": {
    "id": "-8yq7sRCIguU"
   },
   "source": [
    "### Kaskada API\n",
    "\n",
    "Most interactions with Kaskada are performed via an API. The `kaskada` Python\n",
    "library is designed to provide convenient access to the Kaskada API for data\n",
    "scientists and other users of python notebooks.\n",
    "\n",
    "Fenl is the **F**eature **En**gineering **L**anguage used by Kaskada's feature\n",
    "engine to abstract and simplify the construction of features. \n"
   ]
  },
  {
   "cell_type": "code",
   "execution_count": null,
   "metadata": {
    "tags": []
   },
   "outputs": [],
   "source": [
    "from kaskada.api.session import LocalBuilder\n",
    "session = LocalBuilder().download(False).build()\n",
    "%load_ext fenlmagic"
   ]
  },
  {
   "cell_type": "markdown",
   "metadata": {
    "id": "gTUb9_OGS4iI"
   },
   "source": [
    "## Loading Data\n",
    "\n",
    "Kaskada stores data in tables, similar to tables you might query using SQL or\n",
    "DataFrames in Python's `pandas`. Like these, tables have named columns and any\n",
    "number of rows.\n"
   ]
  },
  {
   "cell_type": "markdown",
   "metadata": {
    "id": "z4NhBtUbS4iI"
   },
   "source": [
    "### Tables in Kaskada\n",
    "\n",
    "Tables in Kaskada are designed for time-centric analysis of event data. This\n",
    "means that, for many common calculations, time is handled implicitly and without\n",
    "any need to write extra lines of code making sure that time points line up.\n",
    "\n",
    "The two key elements in any event are the\n",
    "[`entity`](https://docs.kaskada.com/docs/entities) with which the event is\n",
    "associated and the\n",
    "[`timestamp`](https://docs.kaskada.com/docs/temporal-aggregation) for when the\n",
    "event occurred.\n",
    "\n",
    "Therefore, when creating a table, you must specify as parameters the columns\n",
    "that contain `entity` and `timestamp`, in addition to a table name and a fourth\n",
    "optional parameter called `subsort_column_name`, which is used to order events\n",
    "only when multiple events have the same `timestamp`. \n",
    "\n",
    "So, creating a table has four parameters:\n",
    "\n",
    "1. `table_name`\n",
    "2. `entity_key_column_name`\n",
    "3. `time_column_name`\n",
    "4. (optional) `subsort_column_name`\n"
   ]
  },
  {
   "cell_type": "markdown",
   "metadata": {
    "id": "hM2CDw2bS4iJ"
   },
   "source": [
    "### Building a Sample Data Set"
   ]
  },
  {
   "cell_type": "code",
   "execution_count": null,
   "metadata": {
    "id": "opp2UPNxS4iK",
    "tags": []
   },
   "outputs": [],
   "source": [
    "# This is a sample csv dataset that we will load into kaskada.\n",
    "\n",
    "data = \"\"\"event_at,entity_id,event_name,commit_count\n",
    "2022-01-01 12:00:00+00:00,ada,wrote_code,1\n",
    "2022-01-01 13:10:00+00:00,ada,wrote_code,1\n",
    "2022-01-01 13:20:00+00:00,ada,wrote_code,1\n",
    "2022-01-01 14:00:00+00:00,ada,wrote_code,3\n",
    "2022-01-01 12:00:00+00:00,brian,data_scienced,1\n",
    "2022-01-01 12:20:00+00:00,brian,data_scienced,2\n",
    "2022-01-01 13:40:00+00:00,brian,data_scienced,1\n",
    "2022-01-01 15:00:00+00:00,brian,data_scienced,1\"\"\"\n"
   ]
  },
  {
   "cell_type": "markdown",
   "metadata": {
    "id": "5lK4tOz0S4iL"
   },
   "source": [
    "### Creating a Kaskada Table and Uploading Data\n",
    "\n",
    "Below, we load the above csv directly into Kaskada. When a table\n",
    "is created, it is persisted in your Kaskada environment.\n",
    "\n",
    "Kaskada also allows uploading data from parquet files.\n"
   ]
  },
  {
   "cell_type": "code",
   "execution_count": null,
   "metadata": {
    "id": "roJPc5BDKUHq",
    "tags": []
   },
   "outputs": [],
   "source": [
    "import kaskada.table as ktable\n",
    "# delete the existing table object, if needed\n",
    "try:\n",
    "  ktable.delete_table(\"SampleEvents\",\n",
    "                      force=True)\n",
    "except:\n",
    "  pass\n",
    "\n",
    "  \n",
    "# Create a table object in Kaskada. It is empty until loaded with data.\n",
    "ktable.create_table(\n",
    "  table_name = \"SampleEvents\",\n",
    "  entity_key_column_name = \"entity_id\",\n",
    "  time_column_name = \"event_at\",\n",
    "  # subsort_column_name = \"subsort_id\",  # (optional parameter)\n",
    ")\n",
    "\n"
   ]
  },
  {
   "cell_type": "code",
   "execution_count": null,
   "metadata": {
    "tags": []
   },
   "outputs": [],
   "source": [
    "# Save the data csv to a temp file and load it into the Purchase table\n",
    "import tempfile\n",
    "temp_file = tempfile.NamedTemporaryFile(\n",
    "    prefix=\"kaskada_\", suffix=\".csv\", delete=False\n",
    ")\n",
    "temp_file.write(bytes(data, 'utf-8'))\n",
    "temp_file.close()\n",
    "\n",
    "ktable.load(table_name=\"SampleEvents\", file=temp_file.name)\n"
   ]
  },
  {
   "cell_type": "markdown",
   "metadata": {
    "id": "RWYEgGG_LeMo"
   },
   "source": [
    "### Working With Your Kaskada Environment\n"
   ]
  },
  {
   "cell_type": "code",
   "execution_count": null,
   "metadata": {
    "id": "0RFXmM5wLrxJ",
    "tags": []
   },
   "outputs": [],
   "source": [
    "# Get the table after loading data\n",
    "ktable.get_table(\"SampleEvents\")"
   ]
  },
  {
   "cell_type": "markdown",
   "metadata": {
    "id": "aC1uJDgpL4-N"
   },
   "source": [
    "### Viewing table data\n",
    "\n",
    "Above, we created a Kaskada table called `SampleEvents`. We can retreive it\n",
    "again---now or in a future session---via a query using `fenl`.\n",
    "\n",
    "Here, we use the `%%fenl` magic function to run a query using the fenl syntax.\n",
    "The `--var` flag causes the result of the query to be stored in a python\n",
    "variable called `query_result`.\n",
    "\n"
   ]
  },
  {
   "cell_type": "code",
   "execution_count": null,
   "metadata": {
    "id": "vy7d3Jj-S4iP",
    "tags": []
   },
   "outputs": [],
   "source": [
    "%%fenl --var query_result\n",
    "\n",
    "SampleEvents\n"
   ]
  },
  {
   "cell_type": "markdown",
   "metadata": {
    "id": "c4Iia7vGS4iP"
   },
   "source": [
    "You may notice that the query result object (that we have named `query_result`) contains more than just the results of the query. There is also a few types of metadata that can be used for troubleshooting, reproducibility, and other functionality of the Kaskada API. To access the results of the query, as in rows and columns of data, we can access\n",
    "the original pandas dataframe as below."
   ]
  },
  {
   "cell_type": "code",
   "execution_count": null,
   "metadata": {
    "id": "HeffwFZuS4iQ",
    "tags": []
   },
   "outputs": [],
   "source": [
    "dat_orig = query_result.dataframe\n",
    "\n",
    "dat_orig"
   ]
  },
  {
   "cell_type": "markdown",
   "metadata": {
    "id": "WSq3ZYv4S4iR"
   },
   "source": [
    "The table `SampleEvents` will be  persisted in your Kaskada environment, where\n",
    "you can access it in any future session by connecting to Kaskada.\n",
    "\n",
    "Note that table definitions are currently immutable, which means that you can't\n",
    "update or change table columns or which of them is the `entity_key` or `time_column`. You can, however, add data to a table, and you can always delete a\n",
    "table and then re-create it with modifications.\n"
   ]
  },
  {
   "cell_type": "markdown",
   "metadata": {
    "id": "eW3vw08lS4iR"
   },
   "source": [
    "### Deleting a table\n",
    "\n",
    "Deleting a table also deletes Kaskada's copy of the data---but your original\n",
    "data is not affected. You can delete a table as in:\n",
    "```\n",
    "ktable.delete_table(\"SampleEvents\")\n",
    "```\n"
   ]
  },
  {
   "cell_type": "markdown",
   "metadata": {
    "id": "QUGIakbJS4iS"
   },
   "source": [
    "## Fenl Queries\n",
    "\n",
    "Fenl is a compact, composable, expressive syntax designed for calculating\n",
    "time-centric feature values on event data.\n",
    "\n",
    "Fenl syntax:\n",
    "* implicitly handles event timing unless you explicitly declare other relavant\n",
    "  points or windows in time (implicit time JOINs)\n",
    "* implicitly calculates on the defined primary `entity`, unless\n",
    "  declared otherwise (implicit entity JOINs)\n",
    "* treats feature values implicitly as continuous time, not forcing you to set\n",
    "  rigid time points or time windows until you need to further downstream\n",
    "\n",
    "\n",
    "### Fenl Syntax Basics\n",
    "\n",
    "Fenl queries are enclosed in a query block prefixed with with `%%fenl` on a new\n",
    "line.\n",
    "\n",
    "Here is the same whole-table query as above (SELECT everything):\n"
   ]
  },
  {
   "cell_type": "code",
   "execution_count": null,
   "metadata": {
    "id": "jmZq7hCLBwzs",
    "tags": []
   },
   "outputs": [],
   "source": [
    "%%fenl --var query_result\n",
    "\n",
    "SampleEvents\n"
   ]
  },
  {
   "cell_type": "markdown",
   "metadata": {
    "id": "QEkana1PBy1q"
   },
   "source": [
    "Fenl offers pipe notation (`first_thing | second_thing`) to denote that the\n",
    "results of `first_thing` are passed along to the `second_thing` via the keyword\n",
    "`$input`. In many cases, this keyword is not needed when the `second_thing` has\n",
    "an obvious default way to use the input; there are many examples of this below.\n",
    "\n",
    "In this next example, all data in the `SampleEvents` table are passed along to\n",
    "the `when()` function, which can filter data like SQL `WHERE` clause but also\n",
    "has some temporal functionality that we show later.\n"
   ]
  },
  {
   "cell_type": "code",
   "execution_count": null,
   "metadata": {
    "id": "oaOWmXPlB1jZ",
    "tags": []
   },
   "outputs": [],
   "source": [
    "%%fenl --var query_result\n",
    "\n",
    "SampleEvents | when($input.entity_id == \"ada\")  # make sure to use double-quotes, not single\n"
   ]
  },
  {
   "cell_type": "markdown",
   "metadata": {
    "id": "8uny6WgAS4iT"
   },
   "source": [
    "### Composing Queries\n",
    "\n",
    "We can build queries by using curly braces containing column names\n",
    "and the `fenl` expressions describing those columns. Column descriptions can\n",
    "contain input data and pipes to functions like `count()`, `sum()`, or `max()`."
   ]
  },
  {
   "cell_type": "code",
   "execution_count": null,
   "metadata": {
    "id": "E2L1snABS4iT",
    "tags": []
   },
   "outputs": [],
   "source": [
    "%%fenl --var query_result\n",
    "\n",
    "{\n",
    "    timestamp: SampleEvents.event_at,\n",
    "    username: SampleEvents.entity_id,\n",
    "    event_count: SampleEvents | count(),\n",
    "    commit_total: SampleEvents.commit_count | sum(),\n",
    "    commit_event_max: SampleEvents.commit_count | max(),\n",
    "}\n"
   ]
  },
  {
   "cell_type": "markdown",
   "metadata": {
    "id": "-ZnFgIX5B3ty"
   },
   "source": [
    "### Time Series in Continuous Time\n",
    "\n",
    "Computations in `fenl` are inherently temporal:\n",
    "\n",
    "* Most aggregated columns can be thought of as continuous time series\n",
    "* These continuous time series can be queried at any arbitrary points in time,\n",
    "  not just at the timestamps of the rows\n",
    "\n",
    "Read more about continuous time series in the [Fenl Language\n",
    "Guide](https://docs.kaskada.com/docs/language-guide)\n",
    "\n",
    "For example, regardless of the timestamps of the input data, we can easily\n",
    "aggregate hourly statistics for each entity without having to write any time\n",
    "windowing or JOIN logic other than a parameter specification\n",
    "`window=since(hourly())`."
   ]
  },
  {
   "cell_type": "code",
   "execution_count": null,
   "metadata": {
    "id": "yG6n1yxHS4iW",
    "tags": []
   },
   "outputs": [],
   "source": [
    "%%fenl --var query_result\n",
    "\n",
    "# build continuous time series versions of the username so that we\n",
    "# can query it at any time point, including between events in the data set\n",
    "let username_continuous = SampleEvents.entity_id | last()\n",
    "\n",
    "in {\n",
    "    username_continuous,\n",
    "\n",
    "    # calculate continuous time series columns for the total event count and\n",
    "    # hourly event count\n",
    "    count_hourly: SampleEvents | count(window=since(hourly())),\n",
    "    event_count_total: SampleEvents | count(),\n",
    "\n",
    "    # note in the results that these non-continuous columns won't have a value\n",
    "    # at many time points \n",
    "    event_time_not_continuous: SampleEvents.event_at,\n",
    "    event_username_not_continuous: SampleEvents.entity_id,\n",
    "}\n",
    "| extend({\n",
    "    # we use the `extend` function to add columns dealing with time values that\n",
    "    # are relative to other events or calculated values\n",
    "    timestamp_continuous: time_of($input),\n",
    "})\n",
    "| when(hourly())  # filter results to only the hourly time points"
   ]
  },
  {
   "cell_type": "markdown",
   "metadata": {
    "id": "h-D6dMHgS4iX"
   },
   "source": [
    "### Features for Hourly User Activity\n",
    "\n",
    "In this next example, we build a set of basic features for hourly activity for\n",
    "each user."
   ]
  },
  {
   "cell_type": "code",
   "execution_count": null,
   "metadata": {
    "id": "WvOl2w3PM39G",
    "tags": []
   },
   "outputs": [],
   "source": [
    "%%fenl --var query_result\n",
    "\n",
    "# continuous time series columns\n",
    "let event_count_total = SampleEvents | count()\n",
    "let count_hourly = SampleEvents | count(window=since(hourly()))\n",
    "let first_event_time = SampleEvents.event_at | first(window=since(hourly()))\n",
    "let last_event_time = SampleEvents.event_at | last(window=since(hourly()))\n",
    "let commit_total = SampleEvents.commit_count | sum(window=since(hourly())) | else(0)\n",
    "let commit_event_max = SampleEvents.commit_count | max(window=since(hourly()))\n",
    "\n",
    "# continuous time series versions\n",
    "let timestamp_continuous = event_count_total | time_of()\n",
    "let username_continuous = SampleEvents.entity_id | last()\n",
    "\n",
    "in {\n",
    "    username_continuous,\n",
    "    first_event_time,\n",
    "    last_event_time,\n",
    "    count_hourly,\n",
    "    event_count_total,\n",
    "    commit_total,\n",
    "    commit_event_max,\n",
    "}\n",
    "| extend({\n",
    "    timestamp_continuous: time_of($input),\n",
    "})\n",
    "| when(hourly())"
   ]
  },
  {
   "cell_type": "markdown",
   "metadata": {
    "id": "WnVuzc0_S4iY"
   },
   "source": [
    "## Saving, Publishing, and Sharing Queries\n",
    "\n",
    "To save a query in the Kaskada system, we can create a **view**. Views can be\n",
    "retrieved later, shared with others, or put into production.\n",
    "\n",
    "To create a view from one of the queries above, note that the query response was\n",
    "saved in the `query_result` python variable, and use that variable in one of the\n",
    "parameters of the Kaskada `create_view()` function as below."
   ]
  },
  {
   "cell_type": "code",
   "execution_count": null,
   "metadata": {
    "id": "nzSDbZmWS4iZ",
    "tags": []
   },
   "outputs": [],
   "source": [
    "from kaskada import view as kview\n",
    "\n",
    "# delete the existing view object, if needed\n",
    "try:\n",
    "  kview.delete_view(\"SampleView\")  # delete the view before updating or re-creating it\n",
    "except:\n",
    "  pass\n",
    "\n",
    "kview.create_view(\n",
    "    view_name = \"SampleView\",\n",
    "    expression = query_result.query,\n",
    ")\n"
   ]
  },
  {
   "cell_type": "markdown",
   "metadata": {
    "id": "lktee1f2S4iZ"
   },
   "source": [
    "We can interact with views via a few functions, such as:\n",
    "\n",
    "```\n",
    "# lists all views\n",
    "kview.list_views()\n",
    "\n",
    "# search for views by partial name\n",
    "kview.list_views(search=\"Sample\")\n",
    "\n",
    "# get the specification of a view (not the view's query results)\n",
    "kview.get_view(\"SampleView\")\n",
    "\n",
    "# delete the view\n",
    "kview.delete_view(\"SampleView\")\n",
    "```"
   ]
  }
 ],
 "metadata": {
  "colab": {
   "private_outputs": true,
   "provenance": []
  },
  "gpuClass": "standard",
  "kernelspec": {
   "display_name": "Python 3",
   "language": "python",
   "name": "python3"
  },
  "language_info": {
   "codemirror_mode": {
    "name": "ipython",
    "version": 3
   },
   "file_extension": ".py",
   "mimetype": "text/x-python",
   "name": "python",
   "nbconvert_exporter": "python",
   "pygments_lexer": "ipython3",
   "version": "3.9.6 (default, Oct 18 2022, 12:41:40) \n[Clang 14.0.0 (clang-1400.0.29.202)]"
  },
  "vscode": {
   "interpreter": {
    "hash": "31f2aee4e71d21fbe5cf8b01ff0e069b9275f58929596ceb00d14d90e3e16cd6"
   }
  }
 },
 "nbformat": 4,
 "nbformat_minor": 4
}
