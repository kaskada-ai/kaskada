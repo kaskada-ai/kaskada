{
 "cells": [
  {
   "cell_type": "markdown",
   "metadata": {
    "id": "f07j41yeHlne"
   },
   "source": [
    "# Kaskada: ML example"
   ]
  },
  {
   "cell_type": "markdown",
   "metadata": {
    "id": "-8yq7sRCIguU",
    "tags": []
   },
   "source": [
    "### Setting up a Kaskada environment\n"
   ]
  },
  {
   "cell_type": "code",
   "execution_count": 1,
   "metadata": {
    "tags": []
   },
   "outputs": [
    {
     "name": "stdout",
     "output_type": "stream",
     "text": [
      "Requirement already satisfied: kaskada in /Users/jordan.frazier/.pyenv/versions/3.8.16/lib/python3.8/site-packages (0.1.6)\n",
      "Requirement already satisfied: certifi<2023.0.0,>=2022.12.7 in /Users/jordan.frazier/.pyenv/versions/3.8.16/lib/python3.8/site-packages (from kaskada) (2022.12.7)\n",
      "Requirement already satisfied: domonic<0.10.0,>=0.9.11 in /Users/jordan.frazier/.pyenv/versions/3.8.16/lib/python3.8/site-packages (from kaskada) (0.9.11)\n",
      "Requirement already satisfied: googleapis-common-protos<2.0.0,>=1.58.0 in /Users/jordan.frazier/.pyenv/versions/3.8.16/lib/python3.8/site-packages (from kaskada) (1.58.0)\n",
      "Requirement already satisfied: grpcio<2.0.0,>=1.51.1 in /Users/jordan.frazier/.pyenv/versions/3.8.16/lib/python3.8/site-packages (from kaskada) (1.51.3)\n",
      "Requirement already satisfied: grpcio-status<2.0.0,>=1.51.1 in /Users/jordan.frazier/.pyenv/versions/3.8.16/lib/python3.8/site-packages (from kaskada) (1.51.3)\n",
      "Requirement already satisfied: html5lib<2.0,>=1.1 in /Users/jordan.frazier/.pyenv/versions/3.8.16/lib/python3.8/site-packages (from kaskada) (1.1)\n",
      "Requirement already satisfied: ipython==7.34.0 in /Users/jordan.frazier/.pyenv/versions/3.8.16/lib/python3.8/site-packages (from kaskada) (7.34.0)\n",
      "Requirement already satisfied: pandas<1.4,>=1.3 in /Users/jordan.frazier/.pyenv/versions/3.8.16/lib/python3.8/site-packages (from kaskada) (1.3.5)\n",
      "Requirement already satisfied: pyarrow<11.0.0,>=10.0.1 in /Users/jordan.frazier/.pyenv/versions/3.8.16/lib/python3.8/site-packages (from kaskada) (10.0.1)\n",
      "Requirement already satisfied: pygithub<2.0,>=1.57 in /Users/jordan.frazier/.pyenv/versions/3.8.16/lib/python3.8/site-packages (from kaskada) (1.58.0)\n",
      "Requirement already satisfied: requests<3.0.0,>=2.28.2 in /Users/jordan.frazier/.pyenv/versions/3.8.16/lib/python3.8/site-packages (from kaskada) (2.28.2)\n",
      "Requirement already satisfied: tqdm<5.0.0,>=4.64.1 in /Users/jordan.frazier/.pyenv/versions/3.8.16/lib/python3.8/site-packages (from kaskada) (4.65.0)\n",
      "Requirement already satisfied: setuptools>=18.5 in /Users/jordan.frazier/.pyenv/versions/3.8.16/lib/python3.8/site-packages (from ipython==7.34.0->kaskada) (56.0.0)\n",
      "Requirement already satisfied: jedi>=0.16 in /Users/jordan.frazier/.pyenv/versions/3.8.16/lib/python3.8/site-packages (from ipython==7.34.0->kaskada) (0.18.2)\n",
      "Requirement already satisfied: decorator in /Users/jordan.frazier/.pyenv/versions/3.8.16/lib/python3.8/site-packages (from ipython==7.34.0->kaskada) (5.1.1)\n",
      "Requirement already satisfied: pickleshare in /Users/jordan.frazier/.pyenv/versions/3.8.16/lib/python3.8/site-packages (from ipython==7.34.0->kaskada) (0.7.5)\n",
      "Requirement already satisfied: traitlets>=4.2 in /Users/jordan.frazier/.pyenv/versions/3.8.16/lib/python3.8/site-packages (from ipython==7.34.0->kaskada) (5.9.0)\n",
      "Requirement already satisfied: prompt-toolkit!=3.0.0,!=3.0.1,<3.1.0,>=2.0.0 in /Users/jordan.frazier/.pyenv/versions/3.8.16/lib/python3.8/site-packages (from ipython==7.34.0->kaskada) (3.0.38)\n",
      "Requirement already satisfied: pygments in /Users/jordan.frazier/.pyenv/versions/3.8.16/lib/python3.8/site-packages (from ipython==7.34.0->kaskada) (2.14.0)\n",
      "Requirement already satisfied: backcall in /Users/jordan.frazier/.pyenv/versions/3.8.16/lib/python3.8/site-packages (from ipython==7.34.0->kaskada) (0.2.0)\n",
      "Requirement already satisfied: matplotlib-inline in /Users/jordan.frazier/.pyenv/versions/3.8.16/lib/python3.8/site-packages (from ipython==7.34.0->kaskada) (0.1.6)\n",
      "Requirement already satisfied: pexpect>4.3 in /Users/jordan.frazier/.pyenv/versions/3.8.16/lib/python3.8/site-packages (from ipython==7.34.0->kaskada) (4.8.0)\n",
      "Requirement already satisfied: appnope in /Users/jordan.frazier/.pyenv/versions/3.8.16/lib/python3.8/site-packages (from ipython==7.34.0->kaskada) (0.1.3)\n",
      "Requirement already satisfied: elementpath~=2.5.2 in /Users/jordan.frazier/.pyenv/versions/3.8.16/lib/python3.8/site-packages (from domonic<0.10.0,>=0.9.11->kaskada) (2.5.3)\n",
      "Requirement already satisfied: python-dateutil==2.8.2 in /Users/jordan.frazier/.pyenv/versions/3.8.16/lib/python3.8/site-packages (from domonic<0.10.0,>=0.9.11->kaskada) (2.8.2)\n",
      "Requirement already satisfied: urllib3~=1.26.9 in /Users/jordan.frazier/.pyenv/versions/3.8.16/lib/python3.8/site-packages (from domonic<0.10.0,>=0.9.11->kaskada) (1.26.14)\n",
      "Requirement already satisfied: cssselect~=1.1.0 in /Users/jordan.frazier/.pyenv/versions/3.8.16/lib/python3.8/site-packages (from domonic<0.10.0,>=0.9.11->kaskada) (1.1.0)\n",
      "Requirement already satisfied: six>=1.5 in /Users/jordan.frazier/.pyenv/versions/3.8.16/lib/python3.8/site-packages (from python-dateutil==2.8.2->domonic<0.10.0,>=0.9.11->kaskada) (1.16.0)\n",
      "Requirement already satisfied: protobuf!=3.20.0,!=3.20.1,!=4.21.1,!=4.21.2,!=4.21.3,!=4.21.4,!=4.21.5,<5.0.0dev,>=3.19.5 in /Users/jordan.frazier/.pyenv/versions/3.8.16/lib/python3.8/site-packages (from googleapis-common-protos<2.0.0,>=1.58.0->kaskada) (4.22.0)\n",
      "Requirement already satisfied: webencodings in /Users/jordan.frazier/.pyenv/versions/3.8.16/lib/python3.8/site-packages (from html5lib<2.0,>=1.1->kaskada) (0.5.1)\n",
      "Requirement already satisfied: pytz>=2017.3 in /Users/jordan.frazier/.pyenv/versions/3.8.16/lib/python3.8/site-packages (from pandas<1.4,>=1.3->kaskada) (2022.7.1)\n",
      "Requirement already satisfied: numpy>=1.20.0 in /Users/jordan.frazier/.pyenv/versions/3.8.16/lib/python3.8/site-packages (from pandas<1.4,>=1.3->kaskada) (1.24.2)\n",
      "Requirement already satisfied: deprecated in /Users/jordan.frazier/.pyenv/versions/3.8.16/lib/python3.8/site-packages (from pygithub<2.0,>=1.57->kaskada) (1.2.13)\n",
      "Requirement already satisfied: pyjwt>=2.4.0 in /Users/jordan.frazier/.pyenv/versions/3.8.16/lib/python3.8/site-packages (from pygithub<2.0,>=1.57->kaskada) (2.6.0)\n",
      "Requirement already satisfied: pynacl>=1.4.0 in /Users/jordan.frazier/.pyenv/versions/3.8.16/lib/python3.8/site-packages (from pygithub<2.0,>=1.57->kaskada) (1.5.0)\n",
      "Requirement already satisfied: charset-normalizer<4,>=2 in /Users/jordan.frazier/.pyenv/versions/3.8.16/lib/python3.8/site-packages (from requests<3.0.0,>=2.28.2->kaskada) (3.1.0)\n",
      "Requirement already satisfied: idna<4,>=2.5 in /Users/jordan.frazier/.pyenv/versions/3.8.16/lib/python3.8/site-packages (from requests<3.0.0,>=2.28.2->kaskada) (3.4)\n",
      "Requirement already satisfied: parso<0.9.0,>=0.8.0 in /Users/jordan.frazier/.pyenv/versions/3.8.16/lib/python3.8/site-packages (from jedi>=0.16->ipython==7.34.0->kaskada) (0.8.3)\n",
      "Requirement already satisfied: ptyprocess>=0.5 in /Users/jordan.frazier/.pyenv/versions/3.8.16/lib/python3.8/site-packages (from pexpect>4.3->ipython==7.34.0->kaskada) (0.7.0)\n",
      "Requirement already satisfied: wcwidth in /Users/jordan.frazier/.pyenv/versions/3.8.16/lib/python3.8/site-packages (from prompt-toolkit!=3.0.0,!=3.0.1,<3.1.0,>=2.0.0->ipython==7.34.0->kaskada) (0.2.6)\n",
      "Requirement already satisfied: cffi>=1.4.1 in /Users/jordan.frazier/.pyenv/versions/3.8.16/lib/python3.8/site-packages (from pynacl>=1.4.0->pygithub<2.0,>=1.57->kaskada) (1.15.1)\n",
      "Requirement already satisfied: wrapt<2,>=1.10 in /Users/jordan.frazier/.pyenv/versions/3.8.16/lib/python3.8/site-packages (from deprecated->pygithub<2.0,>=1.57->kaskada) (1.15.0)\n",
      "Requirement already satisfied: pycparser in /Users/jordan.frazier/.pyenv/versions/3.8.16/lib/python3.8/site-packages (from cffi>=1.4.1->pynacl>=1.4.0->pygithub<2.0,>=1.57->kaskada) (2.21)\n"
     ]
    }
   ],
   "source": [
    "!pip install kaskada"
   ]
  },
  {
   "cell_type": "code",
   "execution_count": 2,
   "metadata": {
    "tags": []
   },
   "outputs": [
    {
     "name": "stdout",
     "output_type": "stream",
     "text": [
      "INFO:kaskada.api.release:Using latest release version: engine@v0.10.0\n",
      "INFO:kaskada.api.release:Skipping download. Using binary: /Users/jordan.frazier/.cache/kaskada/bin/engine@v0.10.0/kaskada-engine\n",
      "INFO:kaskada.api.release:Skipping download. Using binary: /Users/jordan.frazier/.cache/kaskada/bin/engine@v0.10.0/kaskada-manager\n",
      "INFO:kaskada.api.session:Initializing manager process\n",
      "INFO:kaskada.api.session:Logging manager STDOUT to /Users/jordan.frazier/.cache/kaskada/logs/e1f602fe-9dd6-40c6-a5ec-f2216c2db012/manager_stdout.txt\n",
      "INFO:kaskada.api.session:Logging manager STDERR to /Users/jordan.frazier/.cache/kaskada/logs/e1f602fe-9dd6-40c6-a5ec-f2216c2db012/manager_stderr.txt\n",
      "INFO:kaskada.api.session:Initializing engine process\n",
      "INFO:kaskada.api.session:Logging engine STDOUT to /Users/jordan.frazier/.cache/kaskada/logs/e1f602fe-9dd6-40c6-a5ec-f2216c2db012/engine_stdout.txt\n",
      "INFO:kaskada.api.session:Logging engine STDERR to /Users/jordan.frazier/.cache/kaskada/logs/e1f602fe-9dd6-40c6-a5ec-f2216c2db012/engine_stderr.txt\n",
      "INFO:kaskada.api.session:Successfully connected to session.\n"
     ]
    },
    {
     "data": {
      "text/html": [
       "<style>table.kda_table {\n",
       "    border: 1px solid grey !important;\n",
       "    border-collapse: collapse !important;\n",
       "    border-spacing: 0 !important;\n",
       "    font-size: 14px !important;\n",
       "    margin-bottom: 6px !important;\n",
       "}\n",
       "\n",
       "table.kda_table table {\n",
       "    margin-bottom: 0 !important;\n",
       "}\n",
       "\n",
       ".kda_table td, .kda_table th {\n",
       "    border: 1px solid grey !important;\n",
       "    border-collapse: collapse !important;\n",
       "    padding: 6px !important;\n",
       "    text-align: left !important;\n",
       "    vertical-align: top !important;\n",
       "}\n",
       "\n",
       ".kda_table tr {\n",
       "    background-color: inherit !important;\n",
       "}\n",
       "\n",
       "/* Style the tab */\n",
       ".kda_tab {\n",
       "    overflow: hidden;\n",
       "    border-bottom: 1px solid grey;\n",
       "    background-color: inherit;\n",
       "}\n",
       "\n",
       "/* Style the buttons that are used to open the tab content */\n",
       ".kda_tab button {\n",
       "    background-color: inherit;\n",
       "    border-top: 1px solid grey;\n",
       "    border-right: 1px solid grey;\n",
       "    border-left: 1px solid grey;\n",
       "    border-bottom: none;\n",
       "    border-radius: 5px 5px 0px 0px;\n",
       "    color: inherit;\n",
       "    cursor: pointer;\n",
       "    float: left;\n",
       "    margin: 2px 8px 0px 2px;\n",
       "    outline: none;\n",
       "    padding: 5px 16px;\n",
       "    transition: 0.3s;\n",
       "}\n",
       "\n",
       "/* Change background color of buttons on hover */\n",
       ".kda_tab button:hover {\n",
       "    background-color: grey;\n",
       "}\n",
       "\n",
       "/* Create an active/current tablink class */\n",
       ".kda_tab button.kda_active {\n",
       "    outline: 2px solid grey;\n",
       "}\n",
       "\n",
       "/* Style the tab content */\n",
       ".kda_tabcontent {\n",
       "    display: none;\n",
       "    padding: 6px;\n",
       "    border: 1px solid grey;\n",
       "    border-top: none;\n",
       "}\n",
       "\n",
       ".kda_scroll_container {\n",
       "    max-height: 400px;\n",
       "    overflow: auto;\n",
       "}\n",
       "</style>"
      ],
      "text/plain": [
       "<IPython.core.display.HTML object>"
      ]
     },
     "metadata": {},
     "output_type": "display_data"
    },
    {
     "data": {
      "text/html": [
       "<script type=\"text/javascript\">function openTab(evt, tabName) {\n",
       "    // Declare all variables\n",
       "    var i, rootElement, tabcontent, tablinks, tabshow;\n",
       "\n",
       "    // Get all elements with class=\"tabcontent\" and hide them\n",
       "    rootElement = evt.currentTarget.parentElement.parentElement;\n",
       "    tabcontent = rootElement.getElementsByClassName(\"kda_tabcontent\");\n",
       "    for (i = 0; i < tabcontent.length; i++) {\n",
       "        tabcontent[i].style.display = \"none\";\n",
       "    }\n",
       "\n",
       "    // Get all elements with class=\"tablinks\" and remove the class \"active\"\n",
       "    tablinks = rootElement.getElementsByClassName(\"kda_tablinks\");\n",
       "    for (i = 0; i < tablinks.length; i++) {\n",
       "        tablinks[i].className = tablinks[i].className.replace(\" kda_active\", \"\");\n",
       "    }\n",
       "\n",
       "    // Show the current tab, and add an \"active\" class to the button that opened the tab\n",
       "    tabshow = rootElement.getElementsByClassName(tabName);\n",
       "    for (i = 0; i < tabshow.length; i++) {\n",
       "        tabshow[i].style.display = \"block\";\n",
       "    }\n",
       "    evt.currentTarget.className += \" kda_active\";\n",
       "}\n",
       "</script>"
      ],
      "text/plain": [
       "<IPython.core.display.HTML object>"
      ]
     },
     "metadata": {},
     "output_type": "display_data"
    }
   ],
   "source": [
    "from kaskada.api.session import LocalBuilder\n",
    "session = LocalBuilder().build()\n",
    "%load_ext fenlmagic"
   ]
  },
  {
   "cell_type": "markdown",
   "metadata": {
    "id": "hM2CDw2bS4iJ"
   },
   "source": [
    "### Build a Sample Data Set\n",
    "\n",
    "In this simple example, we're collecting and storing events about what users are doing.\n",
    "These events describe when users win, when they lose, when they buy things, etc.\n",
    "Events are stored in two CSV files: \n",
    "\n",
    "`game_play.csv` describes each time a player completes a game"
   ]
  },
  {
   "cell_type": "code",
   "execution_count": null,
   "metadata": {
    "id": "opp2UPNxS4iK",
    "tags": []
   },
   "outputs": [],
   "source": [
    "%%writefile game_play.csv\n",
    "event_at,entity_id,duration,won\n",
    "2022-01-01 02:30:00+00:00,Alice,10,true\n",
    "2022-01-01 02:35:00+00:00,Bob,3,false\n",
    "2022-01-01 03:46:00+00:00,Bob,8,false\n",
    "2022-01-01 03:58:00+00:00,Bob,23,true\n",
    "2022-01-01 04:25:00+00:00,Bob,8,true\n",
    "2022-01-01 05:05:00+00:00,Alice,53,true\n",
    "2022-01-01 05:36:00+00:00,Alice,2,false\n",
    "2022-01-01 07:22:00+00:00,Bob,7,false\n",
    "2022-01-01 08:35:00+00:00,Alice,5,false\n",
    "2022-01-01 10:01:00+00:00,Alice,43,true"
   ]
  },
  {
   "cell_type": "markdown",
   "metadata": {
    "tags": []
   },
   "source": [
    "`purchase.csv` describes each time a player makes a purchase"
   ]
  },
  {
   "cell_type": "code",
   "execution_count": null,
   "metadata": {
    "tags": []
   },
   "outputs": [],
   "source": [
    "%%writefile purchase.csv\n",
    "event_at,entity_id\n",
    "2022-01-01 01:02:00+00:00,Alice\n",
    "2022-01-01 01:35:00+00:00,Alice\n",
    "2022-01-01 03:51:00+00:00,Bob"
   ]
  },
  {
   "cell_type": "markdown",
   "metadata": {
    "id": "5lK4tOz0S4iL",
    "tags": []
   },
   "source": [
    "### Creating a Kaskada Table and Uploading Data\n",
    "\n",
    "Below, we load the above csv into Kaskada. When a table\n",
    "is created, it is persisted in your Kaskada environment.\n",
    "\n",
    "Kaskada also allows uploading data from parquet files.\n"
   ]
  },
  {
   "cell_type": "code",
   "execution_count": 3,
   "metadata": {
    "id": "roJPc5BDKUHq",
    "tags": []
   },
   "outputs": [
    {
     "data": {
      "text/html": [
       "<div><div class=\"kda_tab\"><button class=\"kda_tablinks kda_active\" onclick=\"openTab(event, 'details')\">Details</button><button class=\"kda_tablinks\" onclick=\"openTab(event, 'raw')\">Raw</button></div><div class=\"details kda_tabcontent\" style=\"display:block;\"><div class=\"kda_scroll_container\"><table class=\"kda_table\"><tr><td><b>table</b></td><td><table class=\"kda_table\"><tr><td><b>table_name</b></td><td><pre>Supplant</pre></td></tr><tr><td><b>entity_key_column_name</b></td><td><pre>sensor_serial</pre></td></tr><tr><td><b>time_column_name</b></td><td><pre>timestamp_utc</pre></td></tr><tr><td><b>version</b></td><td><pre>0</pre></td></tr><tr><td><b>create_time</b></td><td><pre>2023-07-28T10:49:32.591029</pre></td></tr><tr><td><b>update_time</b></td><td><pre>2023-07-28T10:49:32.591030</pre></td></tr></table></td></tr><tr><td><b>request_details</b></td><td><table class=\"kda_table\"><tr><td><b>request_id</b></td><td><pre>51b871d3e66a6682d5d83dd8091b6ca4</pre></td></tr></table></td></tr></table></div></div><div class=\"raw kda_tabcontent\" style=\"display:none;\"><div class=\"kda_scroll_container\"><pre>table {\n",
       "  table_id: \"6ea8f565-2176-413d-93d3-ab2ab3b88f5e\"\n",
       "  table_name: \"Supplant\"\n",
       "  time_column_name: \"timestamp_utc\"\n",
       "  entity_key_column_name: \"sensor_serial\"\n",
       "  create_time {\n",
       "    seconds: 1690566572\n",
       "    nanos: 591029000\n",
       "  }\n",
       "  update_time {\n",
       "    seconds: 1690566572\n",
       "    nanos: 591030000\n",
       "  }\n",
       "  source {\n",
       "    kaskada {\n",
       "    }\n",
       "  }\n",
       "}\n",
       "request_details {\n",
       "  request_id: \"51b871d3e66a6682d5d83dd8091b6ca4\"\n",
       "}\n",
       "</pre></div></div></div>"
      ],
      "text/plain": [
       "table {\n",
       "  table_id: \"6ea8f565-2176-413d-93d3-ab2ab3b88f5e\"\n",
       "  table_name: \"Supplant\"\n",
       "  time_column_name: \"timestamp_utc\"\n",
       "  entity_key_column_name: \"sensor_serial\"\n",
       "  create_time {\n",
       "    seconds: 1690566572\n",
       "    nanos: 591029000\n",
       "  }\n",
       "  update_time {\n",
       "    seconds: 1690566572\n",
       "    nanos: 591030000\n",
       "  }\n",
       "  source {\n",
       "    kaskada {\n",
       "    }\n",
       "  }\n",
       "}\n",
       "request_details {\n",
       "  request_id: \"51b871d3e66a6682d5d83dd8091b6ca4\"\n",
       "}"
      ]
     },
     "execution_count": 3,
     "metadata": {},
     "output_type": "execute_result"
    }
   ],
   "source": [
    "import kaskada.table\n",
    "\n",
    "# Create the table named transactions with the time and name column\n",
    "kaskada.table.create_table('Supplant', 'timestamp_utc', 'sensor_serial')"
   ]
  },
  {
   "cell_type": "code",
   "execution_count": 4,
   "metadata": {
    "tags": []
   },
   "outputs": [
    {
     "data": {
      "text/html": [
       "<div><div class=\"kda_tab\"><button class=\"kda_tablinks kda_active\" onclick=\"openTab(event, 'details')\">Details</button><button class=\"kda_tablinks\" onclick=\"openTab(event, 'raw')\">Raw</button></div><div class=\"details kda_tabcontent\" style=\"display:block;\"><div class=\"kda_scroll_container\"><table class=\"kda_table\"><tr><td><b>table</b></td><td><table class=\"kda_table\"><tr><td><b>table_name</b></td><td><pre>Test</pre></td></tr><tr><td><b>entity_key_column_name</b></td><td><pre>key</pre></td></tr><tr><td><b>time_column_name</b></td><td><pre>time</pre></td></tr><tr><td><b>grouping_id</b></td><td><pre>User</pre></td></tr><tr><td><b>version</b></td><td><pre>0</pre></td></tr><tr><td><b>create_time</b></td><td><pre>2023-07-28T10:49:32.976370</pre></td></tr><tr><td><b>update_time</b></td><td><pre>2023-07-28T10:49:32.976373</pre></td></tr></table></td></tr><tr><td><b>request_details</b></td><td><table class=\"kda_table\"><tr><td><b>request_id</b></td><td><pre>416e95c850493183bb9ca3f052c5d255</pre></td></tr></table></td></tr></table></div></div><div class=\"raw kda_tabcontent\" style=\"display:none;\"><div class=\"kda_scroll_container\"><pre>table {\n",
       "  table_id: \"f8f9fddb-e2bb-46b9-912b-7b8181e1397a\"\n",
       "  table_name: \"Test\"\n",
       "  time_column_name: \"time\"\n",
       "  entity_key_column_name: \"key\"\n",
       "  grouping_id: \"User\"\n",
       "  create_time {\n",
       "    seconds: 1690566572\n",
       "    nanos: 976370000\n",
       "  }\n",
       "  update_time {\n",
       "    seconds: 1690566572\n",
       "    nanos: 976373000\n",
       "  }\n",
       "  source {\n",
       "    kaskada {\n",
       "    }\n",
       "  }\n",
       "}\n",
       "request_details {\n",
       "  request_id: \"416e95c850493183bb9ca3f052c5d255\"\n",
       "}\n",
       "</pre></div></div></div>"
      ],
      "text/plain": [
       "table {\n",
       "  table_id: \"f8f9fddb-e2bb-46b9-912b-7b8181e1397a\"\n",
       "  table_name: \"Test\"\n",
       "  time_column_name: \"time\"\n",
       "  entity_key_column_name: \"key\"\n",
       "  grouping_id: \"User\"\n",
       "  create_time {\n",
       "    seconds: 1690566572\n",
       "    nanos: 976370000\n",
       "  }\n",
       "  update_time {\n",
       "    seconds: 1690566572\n",
       "    nanos: 976373000\n",
       "  }\n",
       "  source {\n",
       "    kaskada {\n",
       "    }\n",
       "  }\n",
       "}\n",
       "request_details {\n",
       "  request_id: \"416e95c850493183bb9ca3f052c5d255\"\n",
       "}"
      ]
     },
     "execution_count": 4,
     "metadata": {},
     "output_type": "execute_result"
    }
   ],
   "source": [
    "kaskada.table.create_table(\n",
    "  table_name = \"Test\",\n",
    "  entity_key_column_name = \"key\",\n",
    "  time_column_name = \"time\",\n",
    "  grouping_id = \"User\",\n",
    ")"
   ]
  },
  {
   "cell_type": "code",
   "execution_count": 5,
   "metadata": {
    "tags": []
   },
   "outputs": [
    {
     "data": {
      "text/html": [
       "<div><div class=\"kda_tab\"><button class=\"kda_tablinks kda_active\" onclick=\"openTab(event, 'details')\">Details</button><button class=\"kda_tablinks\" onclick=\"openTab(event, 'raw')\">Raw</button></div><div class=\"details kda_tabcontent\" style=\"display:block;\"><div class=\"kda_scroll_container\"><table class=\"kda_table\"><tr><td><b>data_token_id</b></td><td><pre>874aa8d0-90ae-4418-8aec-f9cc3ca4431c</pre></td></tr><tr><td><b>request_details</b></td><td><table class=\"kda_table\"><tr><td><b>request_id</b></td><td><pre>f4a3060ff7df559d7aa132fee84b506b</pre></td></tr></table></td></tr></table></div></div><div class=\"raw kda_tabcontent\" style=\"display:none;\"><div class=\"kda_scroll_container\"><pre>data_token_id: \"874aa8d0-90ae-4418-8aec-f9cc3ca4431c\"\n",
       "request_details {\n",
       "  request_id: \"f4a3060ff7df559d7aa132fee84b506b\"\n",
       "}\n",
       "</pre></div></div></div>"
      ],
      "text/plain": [
       "data_token_id: \"874aa8d0-90ae-4418-8aec-f9cc3ca4431c\"\n",
       "request_details {\n",
       "  request_id: \"f4a3060ff7df559d7aa132fee84b506b\"\n",
       "}"
      ]
     },
     "execution_count": 5,
     "metadata": {},
     "output_type": "execute_result"
    }
   ],
   "source": [
    "# Load the data to the table\n",
    "kaskada.table.load('Supplant', 'supplant.parquet')"
   ]
  },
  {
   "cell_type": "code",
   "execution_count": 6,
   "metadata": {
    "tags": []
   },
   "outputs": [
    {
     "name": "stderr",
     "output_type": "stream",
     "text": [
      "Exception: An error occurred in your request.\n",
      "\tError Code: INTERNAL\n",
      "\tError Message: failed getting source metadata: schema error: 'Unable to encode schema Schema { fields: [Field { name: \"time\", data_type: Timestamp(Nanosecond, None), nullable: false, dict_id: 0, dict_is_ordered: false, metadata: {} }, Field { name: \"subsort\", data_type: UInt64, nullable: false, dict_id: 0, dict_is_ordered: false, metadata: {} }, Field { name: \"key\", data_type: UInt64, nullable: false, dict_id: 0, dict_is_ordered: false, metadata: {} }, Field { name: \"i64_list\", data_type: List(Field { name: \"item\", data_type: Int64, nullable: true, dict_id: 0, dict_is_ordered: false, metadata: {} }), nullable: true, dict_id: 0, dict_is_ordered: false, metadata: {} }, Field { name: \"bool_list\", data_type: List(Field { name: \"item\", data_type: Boolean, nullable: true, dict_id: 0, dict_is_ordered: false, metadata: {} }), nullable: true, dict_id: 0, dict_is_ordered: false, metadata: {} }, Field { name: \"string_list\", data_type: List(Field { name: \"item\", data_type: Utf8, nullable: true, dict_id: 0, dict_is_ordered: false, metadata: {} }), nullable: true, dict_id: 0, dict_is_ordered: false, metadata: {} }, Field { name: \"index\", data_type: Int32, nullable: false, dict_id: 0, dict_is_ordered: false, metadata: {} }], metadata: {} }'\n",
      "Details: \n",
      "\trequest_id: \"f62381a378ef2e4050ce525b05039458\"\n",
      "\n",
      "\n"
     ]
    }
   ],
   "source": [
    "# Load the data into the Purchase table\n",
    "kaskada.table.load('Test', 'data_with_list.parquet')"
   ]
  },
  {
   "cell_type": "markdown",
   "metadata": {
    "id": "RWYEgGG_LeMo"
   },
   "source": [
    "### Working With Your Kaskada Environment\n"
   ]
  },
  {
   "cell_type": "code",
   "execution_count": null,
   "metadata": {
    "id": "0RFXmM5wLrxJ",
    "tags": []
   },
   "outputs": [],
   "source": [
    "# Get the table after loading data\n",
    "kaskada.table.get_table(\"Supplant\")"
   ]
  },
  {
   "cell_type": "code",
   "execution_count": null,
   "metadata": {
    "id": "jmZq7hCLBwzs",
    "tags": []
   },
   "outputs": [],
   "source": [
    "%%fenl\n",
    "# Query the table to see that data has been loaded\n",
    "Supplant"
   ]
  },
  {
   "cell_type": "markdown",
   "metadata": {
    "id": "QUGIakbJS4iS",
    "tags": []
   },
   "source": [
    "## Step 1: Define features\n",
    "\n",
    "We want to predict if a user will pay for an upgrade - step one is to compute features from events. As a first simple feature, we describe the amount of time a user as spent losing at the game - users who lose a lot are probably more likely to pay for upgrades.\n"
   ]
  },
  {
   "cell_type": "code",
   "execution_count": null,
   "metadata": {
    "id": "oaOWmXPlB1jZ",
    "tags": []
   },
   "outputs": [],
   "source": [
    "%%fenl\n",
    "\n",
    "let GameDefeat = GamePlay | when(not(GamePlay.won))\n",
    "\n",
    "let features = {\n",
    "    loss_duration: sum(GameDefeat.duration) }\n",
    "\n",
    "in features"
   ]
  },
  {
   "cell_type": "markdown",
   "metadata": {
    "tags": []
   },
   "source": [
    "Notice that the result is a timeline describing the step function of how this feature has changed over time. We can “observe” the value of this step function at any time, regardless of the times at which the original events occurred.\n",
    "\n",
    "Another thing to notice is that these results are automatically grouped by user. We didn’t have to explicitly group by user because tables in Kaskada specify an \"entity\" associated with each row."
   ]
  },
  {
   "cell_type": "markdown",
   "metadata": {
    "id": "8uny6WgAS4iT"
   },
   "source": [
    "### Step 2: Define prediction times\n",
    "\n",
    "The second step is to observe our feature at the times a prediction would have been made. Let’s assume that the game designers want to offer an upgrade any time a user loses the game twice in a row. We can construct a set of examples associated with this prediction time by observing our feature when the user loses twice in a row."
   ]
  },
  {
   "cell_type": "code",
   "execution_count": null,
   "metadata": {
    "id": "E2L1snABS4iT",
    "tags": []
   },
   "outputs": [],
   "source": [
    "%%fenl\n",
    "\n",
    "let GameDefeat = GamePlay | when(not(GamePlay.won))\n",
    "\n",
    "let features = {\n",
    "    loss_duration: sum(GameDefeat.duration) }\n",
    "\n",
    "let is_prediction_time = not(GamePlay.won) and count(GameDefeat, window=since(GamePlay.won)) == 2\n",
    "\n",
    "let example = features | when(is_prediction_time)\n",
    "    \n",
    "in example"
   ]
  },
  {
   "cell_type": "markdown",
   "metadata": {},
   "source": [
    "This query gives us a set of examples, each containing input features computed at the specific times we would like to make a prediction."
   ]
  },
  {
   "cell_type": "markdown",
   "metadata": {
    "tags": []
   },
   "source": [
    "### Step 3: Shift examples\n",
    "\n",
    "The third step is to move each example to the time when the outcome we’re predicting can be observed. We want to give the user some time to see the upgrade offer, decide to accept it, and pay - let’s check to see if they accepted an hour after we make the offer."
   ]
  },
  {
   "cell_type": "code",
   "execution_count": null,
   "metadata": {
    "tags": []
   },
   "outputs": [],
   "source": [
    "%%fenl\n",
    "\n",
    "let GameDefeat = GamePlay | when(not(GamePlay.won))\n",
    "\n",
    "let features = {\n",
    "    loss_duration: sum(GameDefeat.duration) }\n",
    "\n",
    "let is_prediction_time = not(GamePlay.won) and (count(GameDefeat, window=since(GamePlay.won)) == 2)\n",
    "\n",
    "let example = features | when(is_prediction_time) | shift_by(seconds(60*10))\n",
    "\n",
    "in example"
   ]
  },
  {
   "cell_type": "markdown",
   "metadata": {},
   "source": [
    "Our training examples have now moved to the point in time when the label we want to predict can be observed. Notice that the values in the time column are an hour later than the previous step."
   ]
  },
  {
   "cell_type": "markdown",
   "metadata": {
    "tags": []
   },
   "source": [
    "### Step 4: Label examples\n",
    "\n",
    "The final step is to see if a purchase happened after the prediction was made. This will be our target value and we’ll add it to the records that currently contain our feature."
   ]
  },
  {
   "cell_type": "code",
   "execution_count": null,
   "metadata": {
    "tags": []
   },
   "outputs": [],
   "source": [
    "%%fenl --var training\n",
    "\n",
    "let GameDefeat = GamePlay | when(not(GamePlay.won))\n",
    "\n",
    "let features = {\n",
    "    loss_duration: sum(GameDefeat.duration),\n",
    "    purchase_count: count(Purchase) }\n",
    "\n",
    "let is_prediction_time = not(GamePlay.won) and (count(GameDefeat, window=since(GamePlay.won)) == 2)\n",
    "\n",
    "let example = features | when(is_prediction_time)\n",
    "    | shift_to(time_of($input) | add_time(seconds(60*10)))\n",
    "\n",
    "let target = count(Purchase) > (example.purchase_count | else(0))\n",
    "    \n",
    "in extend(example, {target}) | when(is_valid($input.loss_duration))"
   ]
  },
  {
   "cell_type": "markdown",
   "metadata": {},
   "source": [
    "## Train a model!\n",
    "\n",
    "Now that we've observed features and labels at the correct points in time, we can train a model from our examples. This toy dataset won't produce a very good model, of course."
   ]
  },
  {
   "cell_type": "code",
   "execution_count": null,
   "metadata": {
    "tags": []
   },
   "outputs": [],
   "source": [
    "from sklearn.linear_model import LogisticRegression\n",
    "from sklearn import preprocessing\n",
    "\n",
    "X = training.dataframe[['loss_duration']]\n",
    "y = training.dataframe['target']\n",
    "\n",
    "scaler = preprocessing.StandardScaler().fit(X)\n",
    "X_scaled = scaler.transform(X)\n",
    "\n",
    "model = LogisticRegression(max_iter=1000)\n",
    "model.fit(X_scaled, y)"
   ]
  }
 ],
 "metadata": {
  "colab": {
   "private_outputs": true,
   "provenance": []
  },
  "gpuClass": "standard",
  "kernelspec": {
   "display_name": "Python 3 (ipykernel)",
   "language": "python",
   "name": "python3"
  },
  "language_info": {
   "codemirror_mode": {
    "name": "ipython",
    "version": 3
   },
   "file_extension": ".py",
   "mimetype": "text/x-python",
   "name": "python",
   "nbconvert_exporter": "python",
   "pygments_lexer": "ipython3",
   "version": "3.8.16"
  },
  "vscode": {
   "interpreter": {
    "hash": "31f2aee4e71d21fbe5cf8b01ff0e069b9275f58929596ceb00d14d90e3e16cd6"
   }
  }
 },
 "nbformat": 4,
 "nbformat_minor": 4
}
