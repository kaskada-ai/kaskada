{
 "cells": [
  {
   "cell_type": "markdown",
   "metadata": {
    "id": "f07j41yeHlne"
   },
   "source": [
    "# Kaskada: ML example"
   ]
  },
  {
   "cell_type": "markdown",
   "metadata": {
    "id": "-8yq7sRCIguU",
    "tags": []
   },
   "source": [
    "### Setting up a Kaskada environment\n"
   ]
  },
  {
   "cell_type": "code",
   "execution_count": null,
   "metadata": {
    "tags": []
   },
   "outputs": [],
   "source": [
    "!pip install kaskada"
   ]
  },
  {
   "cell_type": "code",
   "execution_count": null,
   "metadata": {
    "tags": []
   },
   "outputs": [],
   "source": [
    "from kaskada.api.session import LocalBuilder\n",
    "session = LocalBuilder().build()\n",
    "%load_ext fenlmagic"
   ]
  },
  {
   "cell_type": "markdown",
   "metadata": {
    "id": "hM2CDw2bS4iJ"
   },
   "source": [
    "### Build a Sample Data Set\n",
    "\n",
    "In this simple example, we're collecting and storing events about what users are doing.\n",
    "These events describe when users win, when they lose, when they buy things, etc.\n",
    "Events are stored in two CSV files: \n",
    "\n",
    "`game_play.csv` describes each time a player completes a game"
   ]
  },
  {
   "cell_type": "code",
   "execution_count": null,
   "metadata": {
    "id": "opp2UPNxS4iK",
    "tags": []
   },
   "outputs": [],
   "source": [
    "%%writefile game_play.csv\n",
    "event_at,entity_id,duration,won\n",
    "2022-01-01 02:30:00+00:00,Alice,10,true\n",
    "2022-01-01 02:35:00+00:00,Bob,3,false\n",
    "2022-01-01 03:46:00+00:00,Bob,8,false\n",
    "2022-01-01 03:58:00+00:00,Bob,23,true\n",
    "2022-01-01 04:25:00+00:00,Bob,8,true\n",
    "2022-01-01 05:05:00+00:00,Alice,53,true\n",
    "2022-01-01 05:36:00+00:00,Alice,2,false\n",
    "2022-01-01 07:22:00+00:00,Bob,7,false\n",
    "2022-01-01 08:35:00+00:00,Alice,5,false\n",
    "2022-01-01 10:01:00+00:00,Alice,43,true"
   ]
  },
  {
   "cell_type": "markdown",
   "metadata": {
    "tags": []
   },
   "source": [
    "`purchase.csv` describes each time a player makes a purchase"
   ]
  },
  {
   "cell_type": "code",
   "execution_count": null,
   "metadata": {
    "tags": []
   },
   "outputs": [],
   "source": [
    "%%writefile purchase.csv\n",
    "event_at,entity_id\n",
    "2022-01-01 01:02:00+00:00,Alice\n",
    "2022-01-01 01:35:00+00:00,Alice\n",
    "2022-01-01 03:51:00+00:00,Bob"
   ]
  },
  {
   "cell_type": "markdown",
   "metadata": {
    "id": "5lK4tOz0S4iL",
    "tags": []
   },
   "source": [
    "### Creating a Kaskada Table and Uploading Data\n",
    "\n",
    "Below, we load the above csv into Kaskada. When a table\n",
    "is created, it is persisted in your Kaskada environment.\n",
    "\n",
    "Kaskada also allows uploading data from parquet files.\n"
   ]
  },
  {
   "cell_type": "code",
   "execution_count": null,
   "metadata": {
    "id": "roJPc5BDKUHq",
    "tags": []
   },
   "outputs": [],
   "source": [
    "import kaskada.table as ktable\n",
    "\n",
    "# Create table objects in Kaskada.\n",
    "ktable.create_table(\n",
    "  table_name = \"GamePlay\",\n",
    "  entity_key_column_name = \"entity_id\",\n",
    "  time_column_name = \"event_at\",\n",
    "  grouping_id = \"User\",\n",
    ")"
   ]
  },
  {
   "cell_type": "code",
   "execution_count": null,
   "metadata": {
    "tags": []
   },
   "outputs": [],
   "source": [
    "ktable.create_table(\n",
    "  table_name = \"Purchase\",\n",
    "  entity_key_column_name = \"entity_id\",\n",
    "  time_column_name = \"event_at\",\n",
    "  grouping_id = \"User\",\n",
    ")"
   ]
  },
  {
   "cell_type": "code",
   "execution_count": null,
   "metadata": {
    "tags": []
   },
   "outputs": [],
   "source": [
    "# Load the data into the Purchase table\n",
    "ktable.load(table_name=\"GamePlay\", file=\"game_play.csv\")"
   ]
  },
  {
   "cell_type": "code",
   "execution_count": null,
   "metadata": {
    "tags": []
   },
   "outputs": [],
   "source": [
    "# Load the data into the Purchase table\n",
    "ktable.load(table_name=\"Purchase\", file=\"purchase.csv\")"
   ]
  },
  {
   "cell_type": "markdown",
   "metadata": {
    "id": "RWYEgGG_LeMo"
   },
   "source": [
    "### Working With Your Kaskada Environment\n"
   ]
  },
  {
   "cell_type": "code",
   "execution_count": null,
   "metadata": {
    "id": "0RFXmM5wLrxJ",
    "tags": []
   },
   "outputs": [],
   "source": [
    "# Get the table after loading data\n",
    "ktable.get_table(\"GamePlay\")"
   ]
  },
  {
   "cell_type": "code",
   "execution_count": null,
   "metadata": {
    "id": "jmZq7hCLBwzs",
    "tags": []
   },
   "outputs": [],
   "source": [
    "%%fenl\n",
    "# Query the table to see that data has been loaded\n",
    "GamePlay"
   ]
  },
  {
   "cell_type": "markdown",
   "metadata": {
    "id": "QUGIakbJS4iS",
    "tags": []
   },
   "source": [
    "## Step 1: Define features\n",
    "\n",
    "We want to predict if a user will pay for an upgrade - step one is to compute features from events. As a first simple feature, we describe the amount of time a user as spent losing at the game - users who lose a lot are probably more likely to pay for upgrades.\n"
   ]
  },
  {
   "cell_type": "code",
   "execution_count": null,
   "metadata": {
    "id": "oaOWmXPlB1jZ",
    "tags": []
   },
   "outputs": [],
   "source": [
    "%%fenl\n",
    "\n",
    "let GameDefeat = GamePlay | when(not(GamePlay.won))\n",
    "\n",
    "let features = {\n",
    "    loss_duration: sum(GameDefeat.duration) }\n",
    "\n",
    "in features"
   ]
  },
  {
   "cell_type": "markdown",
   "metadata": {
    "tags": []
   },
   "source": [
    "Notice that the result is a timeline describing the step function of how this feature has changed over time. We can “observe” the value of this step function at any time, regardless of the times at which the original events occurred.\n",
    "\n",
    "Another thing to notice is that these results are automatically grouped by user. We didn’t have to explicitly group by user because tables in Kaskada specify an \"entity\" associated with each row."
   ]
  },
  {
   "cell_type": "markdown",
   "metadata": {
    "id": "8uny6WgAS4iT"
   },
   "source": [
    "### Step 2: Define prediction times\n",
    "\n",
    "The second step is to observe our feature at the times a prediction would have been made. Let’s assume that the game designers want to offer an upgrade any time a user loses the game twice in a row. We can construct a set of examples associated with this prediction time by observing our feature when the user loses twice in a row."
   ]
  },
  {
   "cell_type": "code",
   "execution_count": null,
   "metadata": {
    "id": "E2L1snABS4iT",
    "tags": []
   },
   "outputs": [],
   "source": [
    "%%fenl\n",
    "\n",
    "let GameDefeat = GamePlay | when(not(GamePlay.won))\n",
    "\n",
    "let features = {\n",
    "    loss_duration: sum(GameDefeat.duration) }\n",
    "\n",
    "let is_prediction_time = not(GamePlay.won) and count(GameDefeat, window=since(GamePlay.won)) == 2\n",
    "\n",
    "let example = features | when(is_prediction_time)\n",
    "    \n",
    "in example"
   ]
  },
  {
   "cell_type": "markdown",
   "metadata": {},
   "source": [
    "This query gives us a set of examples, each containing input features computed at the specific times we would like to make a prediction."
   ]
  },
  {
   "cell_type": "markdown",
   "metadata": {
    "tags": []
   },
   "source": [
    "### Step 3: Shift examples\n",
    "\n",
    "The third step is to move each example to the time when the outcome we’re predicting can be observed. We want to give the user some time to see the upgrade offer, decide to accept it, and pay - let’s check to see if they accepted an hour after we make the offer."
   ]
  },
  {
   "cell_type": "code",
   "execution_count": null,
   "metadata": {
    "tags": []
   },
   "outputs": [],
   "source": [
    "%%fenl\n",
    "\n",
    "let GameDefeat = GamePlay | when(not(GamePlay.won))\n",
    "\n",
    "let features = {\n",
    "    loss_duration: sum(GameDefeat.duration) }\n",
    "\n",
    "let is_prediction_time = not(GamePlay.won) and (count(GameDefeat, window=since(GamePlay.won)) == 2)\n",
    "\n",
    "let example = features | when(is_prediction_time) | shift_by(seconds(60*10))\n",
    "\n",
    "in example"
   ]
  },
  {
   "cell_type": "markdown",
   "metadata": {},
   "source": [
    "Our training examples have now moved to the point in time when the label we want to predict can be observed. Notice that the values in the time column are an hour later than the previous step."
   ]
  },
  {
   "cell_type": "markdown",
   "metadata": {
    "tags": []
   },
   "source": [
    "### Step 4: Label examples\n",
    "\n",
    "The final step is to see if a purchase happened after the prediction was made. This will be our target value and we’ll add it to the records that currently contain our feature."
   ]
  },
  {
   "cell_type": "code",
   "execution_count": null,
   "metadata": {
    "tags": []
   },
   "outputs": [],
   "source": [
    "%%fenl --var training\n",
    "\n",
    "let GameDefeat = GamePlay | when(not(GamePlay.won))\n",
    "\n",
    "let features = {\n",
    "    loss_duration: sum(GameDefeat.duration),\n",
    "    purchase_count: count(Purchase) }\n",
    "\n",
    "let is_prediction_time = not(GamePlay.won) and (count(GameDefeat, window=since(GamePlay.won)) == 2)\n",
    "\n",
    "let example = features | when(is_prediction_time)\n",
    "    | shift_to(time_of($input) | add_time(seconds(60*10)))\n",
    "\n",
    "let target = count(Purchase) > (example.purchase_count | else(0))\n",
    "    \n",
    "in extend(example, {target}) | when(is_valid($input.loss_duration))"
   ]
  },
  {
   "cell_type": "markdown",
   "metadata": {},
   "source": [
    "## Train a model!\n",
    "\n",
    "Now that we've observed features and labels at the correct points in time, we can train a model from our examples. This toy dataset won't produce a very good model, of course."
   ]
  },
  {
   "cell_type": "code",
   "execution_count": null,
   "metadata": {
    "tags": []
   },
   "outputs": [],
   "source": [
    "from sklearn.linear_model import LogisticRegression\n",
    "from sklearn import preprocessing\n",
    "\n",
    "X = training.dataframe[['loss_duration']]\n",
    "y = training.dataframe['target']\n",
    "\n",
    "scaler = preprocessing.StandardScaler().fit(X)\n",
    "X_scaled = scaler.transform(X)\n",
    "\n",
    "model = LogisticRegression(max_iter=1000)\n",
    "model.fit(X_scaled, y)"
   ]
  }
 ],
 "metadata": {
  "colab": {
   "private_outputs": true,
   "provenance": []
  },
  "gpuClass": "standard",
  "kernelspec": {
   "display_name": "Python 3 (ipykernel)",
   "language": "python",
   "name": "python3"
  },
  "language_info": {
   "codemirror_mode": {
    "name": "ipython",
    "version": 3
   },
   "file_extension": ".py",
   "mimetype": "text/x-python",
   "name": "python",
   "nbconvert_exporter": "python",
   "pygments_lexer": "ipython3",
   "version": "3.9.6"
  },
  "vscode": {
   "interpreter": {
    "hash": "31f2aee4e71d21fbe5cf8b01ff0e069b9275f58929596ceb00d14d90e3e16cd6"
   }
  }
 },
 "nbformat": 4,
 "nbformat_minor": 4
}
