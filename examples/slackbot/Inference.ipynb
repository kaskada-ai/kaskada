{
 "cells": [
  {
   "attachments": {},
   "cell_type": "markdown",
   "metadata": {},
   "source": [
    "# Inference\n",
    "\n",
    "### For the 3 models, try to predict on some messages\n"
   ]
  },
  {
   "cell_type": "code",
   "execution_count": 2,
   "metadata": {},
   "outputs": [],
   "source": [
    "!pip3 install --upgrade openai -q"
   ]
  },
  {
   "cell_type": "code",
   "execution_count": 1,
   "metadata": {},
   "outputs": [],
   "source": [
    "import json, openai, time, pandas, random, getpass\n",
    "from openai import cli\n",
    "from types import SimpleNamespace\n",
    "from sklearn.model_selection import train_test_split\n",
    "from file_read_backwards import FileReadBackwards\n",
    "\n",
    "work_dir = \"/Users/eric.pinzur/Documents/slackbot2000\"\n",
    "openai.api_key = getpass.getpass(prompt=\"Please enter your OpenAI API Key\")"
   ]
  },
  {
   "attachments": {},
   "cell_type": "markdown",
   "metadata": {},
   "source": [
    "### Model IDs"
   ]
  },
  {
   "cell_type": "code",
   "execution_count": 3,
   "metadata": {},
   "outputs": [],
   "source": [
    "next_message_model = 'ada:ft-personal:next-message-user-full-kaskada-2023-08-03-15-42-55'\n",
    "\n",
    "next_reaction_model = 'ada:ft-personal:next-reaction-full-kaskada-2023-08-03-17-03-13'\n",
    "\n",
    "next_users_model = 'ada:ft-personal:next-users-in-window-full-kaskada-2023-08-03-18-17-36'"
   ]
  },
  {
   "attachments": {},
   "cell_type": "markdown",
   "metadata": {},
   "source": [
    "## Next Message User\n",
    "\n",
    "For a set of recent messages, try to predict the next user that will reply.\n",
    "\n",
    "This is a classification problem, so we can get log probabilities"
   ]
  },
  {
   "cell_type": "code",
   "execution_count": 2,
   "metadata": {},
   "outputs": [],
   "source": [
    "nm_completion_separator = \"\"\n",
    "\n",
    "nm_train = pandas.read_json(f'{work_dir}/next_message_user_cleaned_train.jsonl', lines=True)\n",
    "nm_valid = pandas.read_json(f'{work_dir}/next_message_user_cleaned_valid.jsonl', lines=True)"
   ]
  },
  {
   "attachments": {},
   "cell_type": "markdown",
   "metadata": {},
   "source": [
    "### With Training Data"
   ]
  },
  {
   "cell_type": "code",
   "execution_count": 4,
   "metadata": {},
   "outputs": [
    {
     "name": "stdout",
     "output_type": "stream",
     "text": [
      "Choice:  1, Actual: 1, Log Probabilites:\n",
      "{\n",
      "  \" 1\": -0.9657385,\n",
      "  \" 2\": -1.4050677,\n",
      "  \" 4\": -1.596037\n",
      "}\n",
      "\n",
      "Choice:  1, Actual: 2, Log Probabilites:\n",
      "{\n",
      "  \" 1\": -1.0685356,\n",
      "  \" 2\": -1.5028064,\n",
      "  \" 4\": -1.3944669\n",
      "}\n",
      "\n",
      "Choice:  1, Actual: 2, Log Probabilites:\n",
      "{\n",
      "  \" 1\": -1.050273,\n",
      "  \" 2\": -1.5859404,\n",
      "  \" 4\": -1.3914024\n",
      "}\n",
      "\n",
      "Choice:  4, Actual: 1, Log Probabilites:\n",
      "{\n",
      "  \" 1\": -1.2921542,\n",
      "  \" 2\": -1.9428157,\n",
      "  \" 4\": -1.2020205\n",
      "}\n",
      "\n",
      "Choice:  4, Actual: 1, Log Probabilites:\n",
      "{\n",
      "  \" 1\": -1.3886855,\n",
      "  \" 2\": -1.8444825,\n",
      "  \" 4\": -1.2994654\n",
      "}\n",
      "\n",
      "Choice:  1, Actual: 3, Log Probabilites:\n",
      "{\n",
      "  \" 1\": -0.8068829,\n",
      "  \" 4\": -1.8223191,\n",
      "  \" 6\": -1.9705716\n",
      "}\n",
      "\n",
      "Choice:  1, Actual: 1, Log Probabilites:\n",
      "{\n",
      "  \" 1\": -0.81668377,\n",
      "  \" 2\": -1.960412,\n",
      "  \" 4\": -1.8723706\n",
      "}\n",
      "\n",
      "Choice:  1, Actual: 4, Log Probabilites:\n",
      "{\n",
      "  \" 1\": -0.9468565,\n",
      "  \" 4\": -1.9926653,\n",
      "  \" 6\": -1.6005487\n",
      "}\n",
      "\n",
      "Choice:  1, Actual: 4, Log Probabilites:\n",
      "{\n",
      "  \" 1\": -1.0770806,\n",
      "  \" 4\": -1.8575277,\n",
      "  \" 6\": -1.674056\n",
      "}\n",
      "\n",
      "Choice:  1, Actual: 1, Log Probabilites:\n",
      "{\n",
      "  \" 1\": -1.084494,\n",
      "  \" 2\": -1.88415,\n",
      "  \" 4\": -1.8517728\n",
      "}\n",
      "\n"
     ]
    }
   ],
   "source": [
    "for i in range(10):\n",
    "    prompt = nm_train['prompt'][i]\n",
    "    completion = nm_train['completion'][i]\n",
    "\n",
    "    res = openai.Completion.create(model=next_message_model, prompt=prompt, max_tokens=1, temperature=0, logprobs=3)\n",
    "    choice = res['choices'][0]['text']\n",
    "    log_probs = res['choices'][0]['logprobs']['top_logprobs'][0]\n",
    "\n",
    "    print(f'Choice: {choice}, Actual: {completion}, Log Probabilites:')\n",
    "    print(log_probs) \n",
    "    print()"
   ]
  },
  {
   "attachments": {},
   "cell_type": "markdown",
   "metadata": {},
   "source": [
    "### With Validation Data"
   ]
  },
  {
   "cell_type": "code",
   "execution_count": 15,
   "metadata": {},
   "outputs": [
    {
     "name": "stdout",
     "output_type": "stream",
     "text": [
      "With Validation data:\n",
      "\n",
      "Choice:  1, Actual: 2, Log Probabilites:\n",
      "{\n",
      "  \" 1\": -1.1703091,\n",
      "  \" 2\": -1.7772275,\n",
      "  \" 4\": -1.2289906\n",
      "}\n",
      "\n",
      "Choice:  1, Actual: 4, Log Probabilites:\n",
      "{\n",
      "  \" 1\": -0.9397264,\n",
      "  \" 4\": -1.7467943,\n",
      "  \" 6\": -1.9116483\n",
      "}\n",
      "\n",
      "Choice:  4, Actual: 1, Log Probabilites:\n",
      "{\n",
      "  \" 1\": -1.6808176,\n",
      "  \" 2\": -1.3595152,\n",
      "  \" 4\": -1.3301457\n",
      "}\n",
      "\n",
      "Choice:  4, Actual: 1, Log Probabilites:\n",
      "{\n",
      "  \" 1\": -1.2772946,\n",
      "  \" 4\": -1.2063621,\n",
      "  \" 6\": -1.9627421\n",
      "}\n",
      "\n",
      "Choice:  4, Actual: 1, Log Probabilites:\n",
      "{\n",
      "  \" 1\": -1.5786409,\n",
      "  \" 4\": -1.0844089,\n",
      "  \" 6\": -1.70502\n",
      "}\n",
      "\n",
      "Choice:  1, Actual: 2, Log Probabilites:\n",
      "{\n",
      "  \" 1\": -1.3150066,\n",
      "  \" 4\": -1.3966527,\n",
      "  \" 6\": -1.5908817\n",
      "}\n",
      "\n",
      "Choice:  1, Actual: 1, Log Probabilites:\n",
      "{\n",
      "  \" 1\": -0.8575319,\n",
      "  \" 2\": -2.4999099,\n",
      "  \" 4\": -1.3080171\n",
      "}\n",
      "\n",
      "Choice:  1, Actual: 6, Log Probabilites:\n",
      "{\n",
      "  \" 1\": -0.82480097,\n",
      "  \" 4\": -1.3392587,\n",
      "  \" 6\": -2.303694\n",
      "}\n",
      "\n",
      "Choice:  1, Actual: 5, Log Probabilites:\n",
      "{\n",
      "  \" 1\": -0.7997786,\n",
      "  \" 4\": -1.4031092,\n",
      "  \" 6\": -2.1099305\n",
      "}\n",
      "\n",
      "Choice:  1, Actual: 3, Log Probabilites:\n",
      "{\n",
      "  \" 1\": -1.1703154,\n",
      "  \" 4\": -1.2558333,\n",
      "  \" 6\": -2.043351\n",
      "}\n",
      "\n"
     ]
    }
   ],
   "source": [
    "for i in range(10):\n",
    "    prompt = nm_valid['prompt'][i]\n",
    "    completion = nm_valid['completion'][i]\n",
    "\n",
    "    res = openai.Completion.create(model=next_message_model, prompt=prompt, max_tokens=1, temperature=0, logprobs=3)\n",
    "    choice = res['choices'][0]['text']\n",
    "    log_probs = res['choices'][0]['logprobs']['top_logprobs'][0]\n",
    "\n",
    "    print(f'Choice: {choice}, Actual: {completion}, Log Probabilites:')\n",
    "    print(log_probs) \n",
    "    print()"
   ]
  },
  {
   "attachments": {},
   "cell_type": "markdown",
   "metadata": {},
   "source": [
    "## Next Reaction\n",
    "\n",
    "For a set of recent messages, try to predict the reaction (if any) to the next message."
   ]
  },
  {
   "cell_type": "code",
   "execution_count": 21,
   "metadata": {},
   "outputs": [],
   "source": [
    "nr_completion_separator = \" END\"\n",
    "\n",
    "nr_train = pandas.read_json(f'{work_dir}/next_reaction_train.jsonl', lines=True)\n",
    "nr_valid = pandas.read_json(f'{work_dir}/next_reaction_valid.jsonl', lines=True)"
   ]
  },
  {
   "attachments": {},
   "cell_type": "markdown",
   "metadata": {},
   "source": [
    "### With Training Data"
   ]
  },
  {
   "cell_type": "code",
   "execution_count": 29,
   "metadata": {},
   "outputs": [
    {
     "name": "stdout",
     "output_type": "stream",
     "text": [
      "Choice:  , Actual:   END\n",
      "\n",
      "Choice:  , Actual:   END\n",
      "\n",
      "Choice:  , Actual:   END\n",
      "\n",
      "Choice:  , Actual:   END\n",
      "\n",
      "Choice:  , Actual:   END\n",
      "\n",
      "Choice:  , Actual:  [{\"name\": \"+1\", \"users\": [\"UU5C7MNMA\"], \"count\": 1}] END\n",
      "\n",
      "Choice:  , Actual:  [{\"name\": \"partygopher\", \"users\": [\"UU5C7MNMA\"], \"count\": 1}] END\n",
      "\n",
      "Choice:  , Actual:  [{\"name\": \"doot\", \"users\": [\"U017T5TFW58\", \"U016TM9NXEY\"], \"count\": 2}] END\n",
      "\n",
      "Choice:  , Actual:  [{\"name\": \"+1\", \"users\": [\"UU5C7MNMA\"], \"count\": 1}] END\n",
      "\n",
      "Choice:  , Actual:  [{\"name\": \"+1\", \"users\": [\"UU5C7MNMA\"], \"count\": 1}] END\n",
      "\n"
     ]
    }
   ],
   "source": [
    "examples = 5\n",
    "\n",
    "random.seed()\n",
    "pos_count = 0\n",
    "neg_count = 0\n",
    "\n",
    "i = 0\n",
    "while True:\n",
    "    if pos_count == examples and neg_count == examples:\n",
    "        break\n",
    "\n",
    "    i += random.randint(0, 10)\n",
    "    prompt = nr_train['prompt'][i]\n",
    "    completion = nr_train['completion'][i]\n",
    "\n",
    "    pos = completion != f' {nr_completion_separator}'\n",
    "    if pos:\n",
    "        if pos_count < examples:\n",
    "            pos_count += 1\n",
    "        else:\n",
    "            continue\n",
    "    else:\n",
    "        if neg_count < examples:\n",
    "            neg_count += 1\n",
    "        else: \n",
    "            continue\n",
    "\n",
    "    res = openai.Completion.create(model=next_reaction_model, prompt=prompt, max_tokens=20, temperature=0, stop=nr_completion_separator)\n",
    "    choice = res['choices'][0]['text']\n",
    "\n",
    "    print(f'Choice: {choice}, Actual: {completion}')\n",
    "    print()"
   ]
  },
  {
   "attachments": {},
   "cell_type": "markdown",
   "metadata": {},
   "source": [
    "### With Validation Data"
   ]
  },
  {
   "cell_type": "code",
   "execution_count": 30,
   "metadata": {},
   "outputs": [
    {
     "name": "stdout",
     "output_type": "stream",
     "text": [
      "Choice:  , Actual:   END\n",
      "\n",
      "Choice:  , Actual:   END\n",
      "\n",
      "Choice:  , Actual:   END\n",
      "\n",
      "Choice:  , Actual:   END\n",
      "\n",
      "Choice:  , Actual:   END\n",
      "\n",
      "Choice:  , Actual:  [{\"name\": \"+1\", \"users\": [\"UU5C7MNMA\"], \"count\": 1}] END\n",
      "\n",
      "Choice:  , Actual:  [{\"name\": \"+1\", \"users\": [\"U03RNK543HC\"], \"count\": 1}] END\n",
      "\n",
      "Choice:  , Actual:  [{\"name\": \"+1\", \"users\": [\"U012CLUV1KJ\"], \"count\": 1}] END\n",
      "\n",
      "Choice:  , Actual:  [{\"name\": \"sweat_smile\", \"users\": [\"U012CLUV1KJ\"], \"count\": 1}] END\n",
      "\n",
      "Choice:  , Actual:  [{\"name\": \"+1\", \"users\": [\"U012CLUV1KJ\"], \"count\": 1}] END\n",
      "\n"
     ]
    }
   ],
   "source": [
    "examples = 5\n",
    "\n",
    "random.seed()\n",
    "pos_count = 0\n",
    "neg_count = 0\n",
    "\n",
    "i = 0\n",
    "while True:\n",
    "    if pos_count == examples and neg_count == examples:\n",
    "        break\n",
    "\n",
    "    i += random.randint(0, 10)\n",
    "    prompt = nr_valid['prompt'][i]\n",
    "    completion = nr_valid['completion'][i]\n",
    "\n",
    "    pos = completion != f' {nr_completion_separator}'\n",
    "    if pos:\n",
    "        if pos_count < examples:\n",
    "            pos_count += 1\n",
    "        else:\n",
    "            continue\n",
    "    else:\n",
    "        if neg_count < examples:\n",
    "            neg_count += 1\n",
    "        else: \n",
    "            continue\n",
    "\n",
    "    res = openai.Completion.create(model=next_reaction_model, prompt=prompt, max_tokens=20, temperature=0, stop=nr_completion_separator)\n",
    "    choice = res['choices'][0]['text']\n",
    "\n",
    "    print(f'Choice: {choice}, Actual: {completion}')\n",
    "    print()"
   ]
  },
  {
   "attachments": {},
   "cell_type": "markdown",
   "metadata": {},
   "source": []
  },
  {
   "attachments": {},
   "cell_type": "markdown",
   "metadata": {},
   "source": [
    "## Next Users in Window\n",
    "\n",
    "For a set of recent messages, try to predict the set of users that might interact next."
   ]
  },
  {
   "cell_type": "code",
   "execution_count": 3,
   "metadata": {},
   "outputs": [],
   "source": [
    "nu_completion_separator = \" END\"\n",
    "\n",
    "nu_train = pandas.read_json(f'{work_dir}/next_users_in_window_train.jsonl', lines=True)\n",
    "nu_valid = pandas.read_json(f'{work_dir}/next_users_in_window_valid.jsonl', lines=True)"
   ]
  },
  {
   "attachments": {},
   "cell_type": "markdown",
   "metadata": {},
   "source": [
    "### With Training Data"
   ]
  },
  {
   "cell_type": "code",
   "execution_count": 12,
   "metadata": {},
   "outputs": [
    {
     "name": "stdout",
     "output_type": "stream",
     "text": [
      "Choice:  [\"U012CLUV1KJ\"], Actual:  [] END\n",
      "\n",
      "Choice:  [\"U017T5TFW58\"], Actual:  [\"U016TM9NXEY\", \"UCZ4VJF6J\"] END\n",
      "\n",
      "Choice:  [\"U012CLUV1KJ\"], Actual:  [\"U012CLUV1KJ\"] END\n",
      "\n",
      "Choice:  [\"U012CLUV1KJ\"], Actual:  [\"U012CLUV1KJ\"] END\n",
      "\n",
      "Choice:  [\"U012CLUV1KJ\"], Actual:  [\"U012CLUV1KJ\"] END\n",
      "\n",
      "Choice:  [\"U012CLUV1KJ\"], Actual:  [] END\n",
      "\n",
      "Choice:  [\"U012CLUV1KJ\"], Actual:  [] END\n",
      "\n",
      "Choice:  [\"UU5C7MNMA\"], Actual:  [] END\n",
      "\n",
      "Choice:  [], Actual:  [\"U012CLUV1KJ\", \"U016TM9NXEY\", \"UCZ4VJF6J\"] END\n",
      "\n",
      "Choice:  [\"U016TM9NXEY\"], Actual:  [] END\n",
      "\n"
     ]
    }
   ],
   "source": [
    "examples = 5\n",
    "\n",
    "random.seed()\n",
    "pos_count = 0\n",
    "neg_count = 0\n",
    "\n",
    "i = 0\n",
    "while True:\n",
    "    if pos_count == examples and neg_count == examples:\n",
    "        break\n",
    "\n",
    "    i += random.randint(0, 5)\n",
    "    prompt = nu_train['prompt'][i]\n",
    "    completion = nu_train['completion'][i]\n",
    "\n",
    "    pos = completion != f' []{nu_completion_separator}'\n",
    "    if pos:\n",
    "        if pos_count < examples:\n",
    "            pos_count += 1\n",
    "        else:\n",
    "            continue\n",
    "    else:\n",
    "        if neg_count < examples:\n",
    "            neg_count += 1\n",
    "        else: \n",
    "            continue\n",
    "\n",
    "    res = openai.Completion.create(model=next_users_model, prompt=prompt, max_tokens=50, temperature=0, stop=nu_completion_separator)\n",
    "    choice = res['choices'][0]['text']\n",
    "\n",
    "    print(f'Choice: {choice}, Actual: {completion}')\n",
    "    print()"
   ]
  },
  {
   "attachments": {},
   "cell_type": "markdown",
   "metadata": {},
   "source": [
    "### With Validation Data"
   ]
  },
  {
   "cell_type": "code",
   "execution_count": 13,
   "metadata": {},
   "outputs": [
    {
     "name": "stdout",
     "output_type": "stream",
     "text": [
      "Choice:  [], Actual:  [] END\n",
      "\n",
      "Choice:  [], Actual:  [] END\n",
      "\n",
      "Choice:  [\"U016TM9NXEY\"], Actual:  [\"UCZ4VJF6J\"] END\n",
      "\n",
      "Choice:  [\"U012CLUV1KJ\"], Actual:  [] END\n",
      "\n",
      "Choice:  [\"U012CLUV1KJ\"], Actual:  [] END\n",
      "\n",
      "Choice:  [\"U012CLUV1KJ\"], Actual:  [] END\n",
      "\n",
      "Choice:  [\"U017T5TFW58\"], Actual:  [\"UCZ4VJF6J\", \"UU5C7MNMA\"] END\n",
      "\n",
      "Choice:  [\"U017T5TFW58\"], Actual:  [\"UCZ4VJF6J\", \"UU5C7MNMA\"] END\n",
      "\n",
      "Choice:  [\"U012CLUV1KJ\"], Actual:  [\"U012CLUV1KJ\", \"U03RNK543HC\"] END\n",
      "\n",
      "Choice:  [\"U012CLUV1KJ\"], Actual:  [\"U012CLUV1KJ\", \"U03RNK543HC\"] END\n",
      "\n"
     ]
    }
   ],
   "source": [
    "examples = 5\n",
    "\n",
    "random.seed()\n",
    "pos_count = 0\n",
    "neg_count = 0\n",
    "\n",
    "i = 0\n",
    "while True:\n",
    "    if pos_count == examples and neg_count == examples:\n",
    "        break\n",
    "\n",
    "    i += random.randint(0, 5)\n",
    "    prompt = nu_valid['prompt'][i]\n",
    "    completion = nu_valid['completion'][i]\n",
    "\n",
    "    pos = completion != f' []{nu_completion_separator}'\n",
    "    if pos:\n",
    "        if pos_count < examples:\n",
    "            pos_count += 1\n",
    "        else:\n",
    "            continue\n",
    "    else:\n",
    "        if neg_count < examples:\n",
    "            neg_count += 1\n",
    "        else: \n",
    "            continue\n",
    "\n",
    "    res = openai.Completion.create(model=next_users_model, prompt=prompt, max_tokens=50, temperature=0, stop=nu_completion_separator)\n",
    "    choice = res['choices'][0]['text']\n",
    "\n",
    "    print(f'Choice: {choice}, Actual: {completion}')\n",
    "    print()"
   ]
  }
 ],
 "metadata": {
  "kernelspec": {
   "display_name": "Python 3",
   "language": "python",
   "name": "python3"
  },
  "language_info": {
   "codemirror_mode": {
    "name": "ipython",
    "version": 3
   },
   "file_extension": ".py",
   "mimetype": "text/x-python",
   "name": "python",
   "nbconvert_exporter": "python",
   "pygments_lexer": "ipython3",
   "version": "3.9.16"
  },
  "orig_nbformat": 4
 },
 "nbformat": 4,
 "nbformat_minor": 2
}
