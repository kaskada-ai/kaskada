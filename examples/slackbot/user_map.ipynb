{
 "cells": [
  {
   "cell_type": "code",
   "execution_count": 15,
   "metadata": {},
   "outputs": [
    {
     "name": "stdout",
     "output_type": "stream",
     "text": [
      "User map: {'UCZ4VJF6J': 1, 'ULJD5H2A2': 2, 'U017T5TFW58': 3, 'U014ZU49HPT': 4, 'UU5C7MNMA': 5, 'U016TM9NXEY': 6, 'U021KG8NMRQ': 7, 'UCXNQ2MPV': 8, 'U02TCUCA7PU': 9, 'U012CLUV1KJ': 10, 'U0332GKB9J8': 11, 'UT62H53R6': 12, 'U03RNK543HC': 13, 'USLACKBOT': 14, 'U011BDYMEG7': 15, 'U01TZK90VSM': 16, 'U02326Q5BG9': 17, 'U017S2GDXF0': 18, 'U0117AWAAEN': 19}\n",
      "Kaskada map: {'UCXNQ2MPV': 'davor', 'UCZ4VJF6J': 'ben', 'UDCRKDQRF': 'jirabot', 'UFABNAQK1': 'erik', 'UGV8EJZ53': 'emily', 'UHXRURY5B': 'paul.townsend', 'UHYRUKU22': 'chrish', 'UKZJ38FP0': 'newell', 'UKZNTG89L': 'aviel.ginzburg', 'UL8Q6L8R1': 'github', 'ULJD5H2A2': 'ryan', 'ULT7GE346': 'ben027', 'UNCN46H3L': 'emily481', 'UNDS39R7Y': 'andrew', 'UNEJUFE94': 'corinne', 'UNW9VTCVC': 'ryan385', 'UP4A6U6PM': 'alexzandria', 'UPNTZH8N9': 'googledrive', 'UR92P8NDC': 'elliott', 'USGJDB7F0': 'kevins', 'UT62H53R6': 'janoo', 'UU5C7MNMA': 'eric', 'U010BBVNML2': 'google_calendar', 'U010Q5EBZEC': 'confluence', 'U010SV9UP7A': 'zoom', 'U0117AWAAEN': 'bradley', 'U011803P62E': 'donut', 'U011BDYMEG7': 'darci', 'U012CLUV1KJ': 'jordan', 'U014A9962MQ': 'tor', 'U014NP1SE81': 'max', 'U014ZU49HPT': 'charna', 'U015LQ1EWRZ': 'simplepoll', 'U016TM9NXEY': 'kevinn', 'U017S2GDXF0': 'pagerduty', 'U017T5TFW58': 'marcial', 'U018YK60UFK': 'alexh', 'U01BJB83K7U': 'nick', 'U01C0J2B858': 'acute', 'U01E49RPW2K': 'anonymous', 'U01ECAHRPE2': 'anonymitybot', 'U01FDHWJ7MY': 'statuspage', 'U01GG23SDL6': 'dev_alertmanager_noti', 'U01HNE4L3FW': 'clockwise', 'U01HPE7EMCH': 'corey', 'U01HQC1TLKD': 'infra_alertmanager_no', 'U01HSH5L665': 'prod_alertmanager_not', 'U01MEF32YV7': 'team', 'U01MQ22REHY': 'miro_feed', 'U01TLQSJWRL': 'dejuan', 'U01TZK90VSM': 'marcus', 'U01UPSELGBS': 'nathan', 'U021KG8NMRQ': 'tina', 'U021MD005EX': 'hubspot', 'U021ZN8RP9P': 'intercom', 'U02326Q5BG9': 'zapier', 'U025E0P87D5': 'figma', 'U029C37MW8G': 'lucidchart', 'U02MH63FXGD': 'dev_argocd_notificati', 'U02MWK82REX': 'infra_argocd_notifica', 'U02N9A3RGHX': 'infra_argocd_notifi2', 'U02TCUCA7PU': 'karina', 'U02U3FA62JU': 'onedrive_sharepoint', 'U0332GKB9J8': 'brian', 'U03RNK543HC': 'theo'}\n",
      "Kaskada AI map: {'U052HH8KE0P': 'jordan.frazier', 'U052RFHJ8EA': 'brian.godsey', 'U052RFM1QK0': 'davor.bonaci', 'U052RFMBRF0': 'eric.pinzur', 'U052V5D3YQM': 'scott.regan', 'U052V5HU11B': 'jbellis', 'U052XUMJF6F': 'ryan.michael', 'U052Y3Y23BL': 'charna.parkey', 'U052Y3ZKGQJ': 'ben.chambers', 'U052Z02AN4E': 'linen2', 'U0530HTBG2Y': 'therapon.skoteiniotis', 'U053AN5E281': 'karina.lawrence', 'U053MQ05DHN': 'kevin.nguyen', 'U053MQ5RDGQ': 'mkennedy', 'U054MCA0R17': 'dailybot', 'U0568CW2SNR': 'balaji.myrtheunjayan', 'U056CCXP1B8': 'jeff.banks', 'U056CRH510D': 'michael.fortman', 'U056FQG3UMQ': 'deon.sanchez', 'U056FUZP8GJ': 'github', 'U056G2BH6BV': 'chris.bartholomew', 'U056H3ESALS': 'eric.hare', 'U056PMD61V3': 'holden.karau', 'U056T47LL2X': 'alan.ho', 'U056UGQKPV4': 'jens.guenther73', 'U056VHDCHE0': 'zznate.m', 'U056XN3A4P9': 'jlee', 'U056ZUL47AB': 'nooberfsh', 'U0575MUKRGE': 'compeau', 'U0576RB6RM0': 'moran', 'U0579CM5T37': '9volts', 'U057B4BMRAA': 'madhavan.sridharan', 'U057CB222RY': 'nakedlookuk_kaskada', 'U057HK6766P': 'diwakarreddy.p01', 'U057JJALHUH': 'ahmed.tadde', 'U057QSX5E9J': 'vikash', 'U057SS37TM3': 'betul.oreilly', 'U05821U8VR6': 'jclarkbell', 'U0583P00V27': 'yoursbalaji', 'U05861MFPUZ': 'alex.leventer', 'U0587CFTKMW': 'stefano.lottini', 'U059678SC67': 'atif.tahir13', 'U059CC0JYJ1': 'khaire.gokul', 'U059K2NFTRP': 'gionata.debebe', 'U059MJKJQE6': 'peter.greiff', 'U059QK80L3U': 'jeremy.artero', 'U059XBVLLSV': 'hugo.smitter', 'U059ZGB3JP3': 'krishna.collage.offic', 'U05A4R1B867': 'chris.latimer', 'U05ARBZB8JC': 'crystalloide', 'U05B07U8S5S': 'rohan.dawkhar', 'U05BW0M3G9M': 'mem', 'U05C3PLQQ5Q': 'google_calendar', 'U05CLD9190B': 'sramzan16', 'U05CYU4CCK1': 'maximillian.hill', 'U05D1G056SU': 'zach.olivier', 'U05D2KRG4AC': 'bobby.potter', 'U05DFACESF5': 'yoshiyuki.kono', 'U05DRK62NQM': 'vimal', 'U05DXUP9PGU': 'preethi.srinivasan', 'U05EKNCA7SS': 'rajeev.dave', 'U05GVMX271C': 'vardanyan.sedrak', 'U05KC4AFD5Z': 'hsun', 'U05KC8AKXK4': 'xiaowei.xu.2011', 'U05L1EZUAF2': 'pm1884', 'U05LL58PYTU': 'ananta.subhash', 'U05ML83HSP2': 'slackea'}\n",
      "UserNumber: 1, KaskadaUser: UCZ4VJF6J, KasakdaName: ben, KaskadaAIName: ben.chambers, KaskadaAIUser: U052Y3ZKGQJ\n",
      "UserNumber: 2, KaskadaUser: ULJD5H2A2, KasakdaName: ryan, KaskadaAIName: ryan.michael, KaskadaAIUser: U052XUMJF6F\n",
      "UserNumber: 4, KaskadaUser: U014ZU49HPT, KasakdaName: charna, KaskadaAIName: charna.parkey, KaskadaAIUser: U052Y3Y23BL\n",
      "UserNumber: 5, KaskadaUser: UU5C7MNMA, KasakdaName: eric, KaskadaAIName: eric.pinzur, KaskadaAIUser: U052RFMBRF0\n",
      "UserNumber: 6, KaskadaUser: U016TM9NXEY, KasakdaName: kevinn, KaskadaAIName: kevin.nguyen, KaskadaAIUser: U053MQ05DHN\n",
      "UserNumber: 8, KaskadaUser: UCXNQ2MPV, KasakdaName: davor, KaskadaAIName: davor.bonaci, KaskadaAIUser: U052RFM1QK0\n",
      "UserNumber: 9, KaskadaUser: U02TCUCA7PU, KasakdaName: karina, KaskadaAIName: karina.lawrence, KaskadaAIUser: U053AN5E281\n",
      "UserNumber: 10, KaskadaUser: U012CLUV1KJ, KasakdaName: jordan, KaskadaAIName: jordan.frazier, KaskadaAIUser: U052HH8KE0P\n",
      "UserNumber: 11, KaskadaUser: U0332GKB9J8, KasakdaName: brian, KaskadaAIName: brian.godsey, KaskadaAIUser: U052RFHJ8EA\n",
      "UserNumber: 13, KaskadaUser: U03RNK543HC, KasakdaName: theo, KaskadaAIName: therapon.skoteiniotis, KaskadaAIUser: U0530HTBG2Y\n"
     ]
    },
    {
     "data": {
      "text/plain": [
       "{1: 'U052Y3ZKGQJ',\n",
       " 2: 'U052XUMJF6F',\n",
       " 4: 'U052Y3Y23BL',\n",
       " 5: 'U052RFMBRF0',\n",
       " 6: 'U053MQ05DHN',\n",
       " 8: 'U052RFM1QK0',\n",
       " 9: 'U053AN5E281',\n",
       " 10: 'U052HH8KE0P',\n",
       " 11: 'U052RFHJ8EA',\n",
       " 13: 'U0530HTBG2Y'}"
      ]
     },
     "execution_count": 15,
     "metadata": {},
     "output_type": "execute_result"
    }
   ],
   "source": [
    "import json\n",
    "\n",
    "user_map = {}\n",
    "with open('./conversation_users_map.json', 'r') as file:\n",
    "    user_map = json.load(file)\n",
    "\n",
    "kaskada_map = {}\n",
    "with open('./kaskada-users.json', 'r') as file:\n",
    "    for item in json.load(file):\n",
    "        kaskada_map[item[\"id\"]] = item[\"name\"]\n",
    "\n",
    "kaskada_ai_map = {}\n",
    "with open('./kaskada-ai-users.json', 'r') as file:\n",
    "    for item in json.load(file):\n",
    "        kaskada_ai_map[item[\"id\"]] = item[\"name\"]\n",
    "\n",
    "print(f'User map: {user_map}')\n",
    "print(f'Kaskada map: {kaskada_map}')\n",
    "print(f'Kaskada AI map: {kaskada_ai_map}')\n",
    "\n",
    "kaskada_to_ai_map = {\n",
    "    \"ben\": \"ben.chambers\",\n",
    "    \"ryan\": \"ryan.michael\",\n",
    "    \"marcial\": \"nil\",\n",
    "    \"charna\": \"charna.parkey\",\n",
    "    \"eric\": \"eric.pinzur\",\n",
    "    \"kevinn\": \"kevin.nguyen\",\n",
    "    \"tina\": \"nil\",\n",
    "    \"davor\": \"davor.bonaci\",\n",
    "    \"karina\": \"karina.lawrence\",\n",
    "    \"jordan\": \"jordan.frazier\",\n",
    "    \"brian\": \"brian.godsey\",\n",
    "    \"janoo\": \"nil\",\n",
    "    \"theo\": \"therapon.skoteiniotis\",\n",
    "}\n",
    "\n",
    "output_map = {}\n",
    "\n",
    "for kaskada_user in user_map:\n",
    "    user_number = user_map[kaskada_user]\n",
    "    if kaskada_user in kaskada_map:\n",
    "        kaskada_user_name = kaskada_map[kaskada_user]\n",
    "        if kaskada_user_name in kaskada_to_ai_map:\n",
    "            kaskada_ai_name = kaskada_to_ai_map[kaskada_user_name]\n",
    "            \n",
    "            for kaskada_ai_user in kaskada_ai_map:\n",
    "                if kaskada_ai_map[kaskada_ai_user] == kaskada_ai_name:\n",
    "                    print(f'UserNumber: {user_number}, KaskadaUser: {kaskada_user}, KasakdaName: {kaskada_user_name}, KaskadaAIName: {kaskada_ai_name}, KaskadaAIUser: {kaskada_ai_user}')\n",
    "                    output_map[user_number] = kaskada_ai_user\n",
    "\n",
    "with open('./conversation_users_output_map.json', 'w') as file:\n",
    "    json.dump(output_map, file)\n",
    "\n",
    "output_map"
   ]
  }
 ],
 "metadata": {
  "kernelspec": {
   "display_name": "Python 3",
   "language": "python",
   "name": "python3"
  },
  "language_info": {
   "codemirror_mode": {
    "name": "ipython",
    "version": 3
   },
   "file_extension": ".py",
   "mimetype": "text/x-python",
   "name": "python",
   "nbconvert_exporter": "python",
   "pygments_lexer": "ipython3",
   "version": "3.9.16"
  },
  "orig_nbformat": 4
 },
 "nbformat": 4,
 "nbformat_minor": 2
}
