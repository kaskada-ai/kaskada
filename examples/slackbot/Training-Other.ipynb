{
 "cells": [
  {
   "attachments": {},
   "cell_type": "markdown",
   "metadata": {},
   "source": [
    "# Training - Other Stuff"
   ]
  },
  {
   "cell_type": "code",
   "execution_count": 1,
   "metadata": {},
   "outputs": [],
   "source": [
    "!pip3 install --upgrade openai -q"
   ]
  },
  {
   "cell_type": "code",
   "execution_count": 27,
   "metadata": {},
   "outputs": [],
   "source": [
    "import json, openai, time, pandas, random, getpass\n",
    "from openai import cli\n",
    "from types import SimpleNamespace\n",
    "from sklearn.model_selection import train_test_split\n",
    "from file_read_backwards import FileReadBackwards\n",
    "\n",
    "work_dir = \"/Users/eric.pinzur/Documents/slackbot2000\"\n",
    "openai.api_key = getpass.getpass(prompt=\"Please enter your OpenAI API Key\")"
   ]
  },
  {
   "attachments": {},
   "cell_type": "markdown",
   "metadata": {},
   "source": [
    "### List Fine-Tunes"
   ]
  },
  {
   "cell_type": "code",
   "execution_count": 58,
   "metadata": {},
   "outputs": [
    {
     "name": "stdout",
     "output_type": "stream",
     "text": [
      "{'id': 'ft-TUEyMRXlB2es1JaeILlCRH7i',\n",
      " 'hyperparams': {'n_epochs': 1,\n",
      "                 'batch_size': None,\n",
      "                 'prompt_loss_weight': 0.01,\n",
      "                 'classification_n_classes': 66,\n",
      "                 'learning_rate_multiplier': None,\n",
      "                 'compute_classification_metrics': True},\n",
      " 'model': 'ada',\n",
      " 'created_at': '2023-08-01T23:29:24',\n",
      " 'updated_at': '2023-08-02T02:00:03',\n",
      " 'status': 'failed',\n",
      " 'fine_tuned_model': None}\n",
      "\n",
      "{'id': 'ft-7YdavGOo9Jjl9dCjT5Mewzvr',\n",
      " 'hyperparams': {'n_epochs': 1,\n",
      "                 'batch_size': 16,\n",
      "                 'prompt_loss_weight': 0.01,\n",
      "                 'classification_n_classes': 8,\n",
      "                 'learning_rate_multiplier': 0.1,\n",
      "                 'compute_classification_metrics': True},\n",
      " 'model': 'ada',\n",
      " 'created_at': '2023-08-02T15:26:20',\n",
      " 'updated_at': '2023-08-02T18:36:40',\n",
      " 'status': 'succeeded',\n",
      " 'fine_tuned_model': 'ada:ft-personal-2023-08-02-16-36-38'}\n",
      "\n",
      "{'id': 'ft-HRty2aFqu6zYDQXDYBsR0Fwr',\n",
      " 'hyperparams': {'n_epochs': 1,\n",
      "                 'batch_size': 32,\n",
      "                 'prompt_loss_weight': 0.01,\n",
      "                 'learning_rate_multiplier': 0.1},\n",
      " 'model': 'ada',\n",
      " 'created_at': '2023-08-03T12:21:09',\n",
      " 'updated_at': '2023-08-03T14:58:54',\n",
      " 'status': 'succeeded',\n",
      " 'fine_tuned_model': 'ada:ft-personal:next-reaction-full-kaskada-2023-08-03-12-58-52'}\n",
      "\n",
      "{'id': 'ft-kLSvHqK2gc0cF4PG61NjDYcL',\n",
      " 'hyperparams': {'n_epochs': 1,\n",
      "                 'batch_size': 16,\n",
      "                 'prompt_loss_weight': 0.01,\n",
      "                 'classification_n_classes': 8,\n",
      "                 'learning_rate_multiplier': 0.1,\n",
      "                 'compute_classification_metrics': True},\n",
      " 'model': 'ada',\n",
      " 'created_at': '2023-08-03T14:54:50',\n",
      " 'updated_at': '2023-08-03T17:42:56',\n",
      " 'status': 'succeeded',\n",
      " 'fine_tuned_model': 'ada:ft-personal:next-message-user-full-kaskada-2023-08-03-15-42-55'}\n",
      "\n",
      "{'id': 'ft-Uy0jb2sUxNxE347gtk2Ixd5p',\n",
      " 'hyperparams': {'n_epochs': 1,\n",
      "                 'batch_size': 32,\n",
      "                 'prompt_loss_weight': 0.01,\n",
      "                 'learning_rate_multiplier': 0.1},\n",
      " 'model': 'ada',\n",
      " 'created_at': '2023-08-03T15:00:05',\n",
      " 'updated_at': '2023-08-03T19:03:14',\n",
      " 'status': 'succeeded',\n",
      " 'fine_tuned_model': 'ada:ft-personal:next-reaction-full-kaskada-2023-08-03-17-03-13'}\n",
      "\n",
      "{'id': 'ft-MqX1fWkyyyX3ZpwTrDo34rU2',\n",
      " 'hyperparams': {'n_epochs': 1,\n",
      "                 'batch_size': 32,\n",
      "                 'prompt_loss_weight': 0.01,\n",
      "                 'learning_rate_multiplier': 0.1},\n",
      " 'model': 'ada',\n",
      " 'created_at': '2023-08-03T18:12:58',\n",
      " 'updated_at': '2023-08-03T20:17:37',\n",
      " 'status': 'succeeded',\n",
      " 'fine_tuned_model': 'ada:ft-personal:next-users-in-window-full-kaskada-2023-08-03-18-17-36'}\n",
      "\n",
      "{'id': 'ft-fKqTAlW2A5AlG3tIoDyYqKx8',\n",
      " 'hyperparams': {'n_epochs': 1,\n",
      "                 'batch_size': None,\n",
      "                 'prompt_loss_weight': 0.01,\n",
      "                 'learning_rate_multiplier': None},\n",
      " 'model': 'ada',\n",
      " 'created_at': '2023-08-04T10:46:17',\n",
      " 'updated_at': '2023-08-04T10:46:17',\n",
      " 'status': 'pending',\n",
      " 'fine_tuned_model': None}\n",
      "\n",
      "{'id': 'ft-w8WsN208whhsUDDMuLhZq8Iz',\n",
      " 'hyperparams': {'n_epochs': 1,\n",
      "                 'batch_size': None,\n",
      "                 'prompt_loss_weight': 0.01,\n",
      "                 'learning_rate_multiplier': None},\n",
      " 'model': 'ada',\n",
      " 'created_at': '2023-08-04T10:51:06',\n",
      " 'updated_at': '2023-08-04T10:51:06',\n",
      " 'status': 'pending',\n",
      " 'fine_tuned_model': None}\n",
      "\n"
     ]
    }
   ],
   "source": [
    "import pprint, datetime\n",
    "\n",
    "result = openai.FineTune.list()\n",
    "\n",
    "for fine_tune in result[\"data\"]:\n",
    "    item = fine_tune.to_dict()\n",
    "    del item[\"object\"]\n",
    "    del item[\"training_files\"]\n",
    "    del item[\"validation_files\"]\n",
    "    del item[\"organization_id\"]\n",
    "    del item[\"result_files\"]\n",
    "    item[\"hyperparams\"] = item[\"hyperparams\"].to_dict()\n",
    "    item[\"created_at\"] = datetime.datetime.fromtimestamp(item[\"created_at\"]).isoformat()\n",
    "    item[\"updated_at\"] = datetime.datetime.fromtimestamp(item[\"updated_at\"]).isoformat()\n",
    "    pprint.pprint(item, sort_dicts=False)\n",
    "    print()"
   ]
  },
  {
   "attachments": {},
   "cell_type": "markdown",
   "metadata": {},
   "source": [
    "### Cancel Fine-Tunes"
   ]
  },
  {
   "cell_type": "code",
   "execution_count": 18,
   "metadata": {},
   "outputs": [
    {
     "ename": "InvalidRequestError",
     "evalue": "Cannot cancel a job ft-TUEyMRXlB2es1JaeILlCRH7i that already has status \"failed\".",
     "output_type": "error",
     "traceback": [
      "\u001b[0;31m---------------------------------------------------------------------------\u001b[0m",
      "\u001b[0;31mInvalidRequestError\u001b[0m                       Traceback (most recent call last)",
      "Cell \u001b[0;32mIn[18], line 1\u001b[0m\n\u001b[0;32m----> 1\u001b[0m openai\u001b[39m.\u001b[39;49mFineTune\u001b[39m.\u001b[39;49mcancel(\u001b[39m\"\u001b[39;49m\u001b[39mft-TUEyMRXlB2es1JaeILlCRH7i\u001b[39;49m\u001b[39m\"\u001b[39;49m)\n",
      "File \u001b[0;32m~/.pyenv/versions/3.9.16/lib/python3.9/site-packages/openai/api_resources/fine_tune.py:67\u001b[0m, in \u001b[0;36mFineTune.cancel\u001b[0;34m(cls, id, api_key, api_type, request_id, api_version, **params)\u001b[0m\n\u001b[1;32m     49\u001b[0m \u001b[39m@classmethod\u001b[39m\n\u001b[1;32m     50\u001b[0m \u001b[39mdef\u001b[39;00m \u001b[39mcancel\u001b[39m(\n\u001b[1;32m     51\u001b[0m     \u001b[39mcls\u001b[39m,\n\u001b[0;32m   (...)\u001b[0m\n\u001b[1;32m     57\u001b[0m     \u001b[39m*\u001b[39m\u001b[39m*\u001b[39mparams,\n\u001b[1;32m     58\u001b[0m ):\n\u001b[1;32m     59\u001b[0m     instance, url \u001b[39m=\u001b[39m \u001b[39mcls\u001b[39m\u001b[39m.\u001b[39m_prepare_cancel(\n\u001b[1;32m     60\u001b[0m         \u001b[39mid\u001b[39m,\n\u001b[1;32m     61\u001b[0m         api_key,\n\u001b[0;32m   (...)\u001b[0m\n\u001b[1;32m     65\u001b[0m         \u001b[39m*\u001b[39m\u001b[39m*\u001b[39mparams,\n\u001b[1;32m     66\u001b[0m     )\n\u001b[0;32m---> 67\u001b[0m     \u001b[39mreturn\u001b[39;00m instance\u001b[39m.\u001b[39;49mrequest(\u001b[39m\"\u001b[39;49m\u001b[39mpost\u001b[39;49m\u001b[39m\"\u001b[39;49m, url, request_id\u001b[39m=\u001b[39;49mrequest_id)\n",
      "File \u001b[0;32m~/.pyenv/versions/3.9.16/lib/python3.9/site-packages/openai/openai_object.py:179\u001b[0m, in \u001b[0;36mOpenAIObject.request\u001b[0;34m(self, method, url, params, headers, stream, plain_old_data, request_id, request_timeout)\u001b[0m\n\u001b[1;32m    171\u001b[0m     params \u001b[39m=\u001b[39m \u001b[39mself\u001b[39m\u001b[39m.\u001b[39m_retrieve_params\n\u001b[1;32m    172\u001b[0m requestor \u001b[39m=\u001b[39m api_requestor\u001b[39m.\u001b[39mAPIRequestor(\n\u001b[1;32m    173\u001b[0m     key\u001b[39m=\u001b[39m\u001b[39mself\u001b[39m\u001b[39m.\u001b[39mapi_key,\n\u001b[1;32m    174\u001b[0m     api_base\u001b[39m=\u001b[39m\u001b[39mself\u001b[39m\u001b[39m.\u001b[39mapi_base_override \u001b[39mor\u001b[39;00m \u001b[39mself\u001b[39m\u001b[39m.\u001b[39mapi_base(),\n\u001b[0;32m   (...)\u001b[0m\n\u001b[1;32m    177\u001b[0m     organization\u001b[39m=\u001b[39m\u001b[39mself\u001b[39m\u001b[39m.\u001b[39morganization,\n\u001b[1;32m    178\u001b[0m )\n\u001b[0;32m--> 179\u001b[0m response, stream, api_key \u001b[39m=\u001b[39m requestor\u001b[39m.\u001b[39;49mrequest(\n\u001b[1;32m    180\u001b[0m     method,\n\u001b[1;32m    181\u001b[0m     url,\n\u001b[1;32m    182\u001b[0m     params\u001b[39m=\u001b[39;49mparams,\n\u001b[1;32m    183\u001b[0m     stream\u001b[39m=\u001b[39;49mstream,\n\u001b[1;32m    184\u001b[0m     headers\u001b[39m=\u001b[39;49mheaders,\n\u001b[1;32m    185\u001b[0m     request_id\u001b[39m=\u001b[39;49mrequest_id,\n\u001b[1;32m    186\u001b[0m     request_timeout\u001b[39m=\u001b[39;49mrequest_timeout,\n\u001b[1;32m    187\u001b[0m )\n\u001b[1;32m    189\u001b[0m \u001b[39mif\u001b[39;00m stream:\n\u001b[1;32m    190\u001b[0m     \u001b[39massert\u001b[39;00m \u001b[39mnot\u001b[39;00m \u001b[39misinstance\u001b[39m(response, OpenAIResponse)  \u001b[39m# must be an iterator\u001b[39;00m\n",
      "File \u001b[0;32m~/.pyenv/versions/3.9.16/lib/python3.9/site-packages/openai/api_requestor.py:298\u001b[0m, in \u001b[0;36mAPIRequestor.request\u001b[0;34m(self, method, url, params, headers, files, stream, request_id, request_timeout)\u001b[0m\n\u001b[1;32m    277\u001b[0m \u001b[39mdef\u001b[39;00m \u001b[39mrequest\u001b[39m(\n\u001b[1;32m    278\u001b[0m     \u001b[39mself\u001b[39m,\n\u001b[1;32m    279\u001b[0m     method,\n\u001b[0;32m   (...)\u001b[0m\n\u001b[1;32m    286\u001b[0m     request_timeout: Optional[Union[\u001b[39mfloat\u001b[39m, Tuple[\u001b[39mfloat\u001b[39m, \u001b[39mfloat\u001b[39m]]] \u001b[39m=\u001b[39m \u001b[39mNone\u001b[39;00m,\n\u001b[1;32m    287\u001b[0m ) \u001b[39m-\u001b[39m\u001b[39m>\u001b[39m Tuple[Union[OpenAIResponse, Iterator[OpenAIResponse]], \u001b[39mbool\u001b[39m, \u001b[39mstr\u001b[39m]:\n\u001b[1;32m    288\u001b[0m     result \u001b[39m=\u001b[39m \u001b[39mself\u001b[39m\u001b[39m.\u001b[39mrequest_raw(\n\u001b[1;32m    289\u001b[0m         method\u001b[39m.\u001b[39mlower(),\n\u001b[1;32m    290\u001b[0m         url,\n\u001b[0;32m   (...)\u001b[0m\n\u001b[1;32m    296\u001b[0m         request_timeout\u001b[39m=\u001b[39mrequest_timeout,\n\u001b[1;32m    297\u001b[0m     )\n\u001b[0;32m--> 298\u001b[0m     resp, got_stream \u001b[39m=\u001b[39m \u001b[39mself\u001b[39;49m\u001b[39m.\u001b[39;49m_interpret_response(result, stream)\n\u001b[1;32m    299\u001b[0m     \u001b[39mreturn\u001b[39;00m resp, got_stream, \u001b[39mself\u001b[39m\u001b[39m.\u001b[39mapi_key\n",
      "File \u001b[0;32m~/.pyenv/versions/3.9.16/lib/python3.9/site-packages/openai/api_requestor.py:700\u001b[0m, in \u001b[0;36mAPIRequestor._interpret_response\u001b[0;34m(self, result, stream)\u001b[0m\n\u001b[1;32m    692\u001b[0m     \u001b[39mreturn\u001b[39;00m (\n\u001b[1;32m    693\u001b[0m         \u001b[39mself\u001b[39m\u001b[39m.\u001b[39m_interpret_response_line(\n\u001b[1;32m    694\u001b[0m             line, result\u001b[39m.\u001b[39mstatus_code, result\u001b[39m.\u001b[39mheaders, stream\u001b[39m=\u001b[39m\u001b[39mTrue\u001b[39;00m\n\u001b[1;32m    695\u001b[0m         )\n\u001b[1;32m    696\u001b[0m         \u001b[39mfor\u001b[39;00m line \u001b[39min\u001b[39;00m parse_stream(result\u001b[39m.\u001b[39miter_lines())\n\u001b[1;32m    697\u001b[0m     ), \u001b[39mTrue\u001b[39;00m\n\u001b[1;32m    698\u001b[0m \u001b[39melse\u001b[39;00m:\n\u001b[1;32m    699\u001b[0m     \u001b[39mreturn\u001b[39;00m (\n\u001b[0;32m--> 700\u001b[0m         \u001b[39mself\u001b[39;49m\u001b[39m.\u001b[39;49m_interpret_response_line(\n\u001b[1;32m    701\u001b[0m             result\u001b[39m.\u001b[39;49mcontent\u001b[39m.\u001b[39;49mdecode(\u001b[39m\"\u001b[39;49m\u001b[39mutf-8\u001b[39;49m\u001b[39m\"\u001b[39;49m),\n\u001b[1;32m    702\u001b[0m             result\u001b[39m.\u001b[39;49mstatus_code,\n\u001b[1;32m    703\u001b[0m             result\u001b[39m.\u001b[39;49mheaders,\n\u001b[1;32m    704\u001b[0m             stream\u001b[39m=\u001b[39;49m\u001b[39mFalse\u001b[39;49;00m,\n\u001b[1;32m    705\u001b[0m         ),\n\u001b[1;32m    706\u001b[0m         \u001b[39mFalse\u001b[39;00m,\n\u001b[1;32m    707\u001b[0m     )\n",
      "File \u001b[0;32m~/.pyenv/versions/3.9.16/lib/python3.9/site-packages/openai/api_requestor.py:763\u001b[0m, in \u001b[0;36mAPIRequestor._interpret_response_line\u001b[0;34m(self, rbody, rcode, rheaders, stream)\u001b[0m\n\u001b[1;32m    761\u001b[0m stream_error \u001b[39m=\u001b[39m stream \u001b[39mand\u001b[39;00m \u001b[39m\"\u001b[39m\u001b[39merror\u001b[39m\u001b[39m\"\u001b[39m \u001b[39min\u001b[39;00m resp\u001b[39m.\u001b[39mdata\n\u001b[1;32m    762\u001b[0m \u001b[39mif\u001b[39;00m stream_error \u001b[39mor\u001b[39;00m \u001b[39mnot\u001b[39;00m \u001b[39m200\u001b[39m \u001b[39m<\u001b[39m\u001b[39m=\u001b[39m rcode \u001b[39m<\u001b[39m \u001b[39m300\u001b[39m:\n\u001b[0;32m--> 763\u001b[0m     \u001b[39mraise\u001b[39;00m \u001b[39mself\u001b[39m\u001b[39m.\u001b[39mhandle_error_response(\n\u001b[1;32m    764\u001b[0m         rbody, rcode, resp\u001b[39m.\u001b[39mdata, rheaders, stream_error\u001b[39m=\u001b[39mstream_error\n\u001b[1;32m    765\u001b[0m     )\n\u001b[1;32m    766\u001b[0m \u001b[39mreturn\u001b[39;00m resp\n",
      "\u001b[0;31mInvalidRequestError\u001b[0m: Cannot cancel a job ft-TUEyMRXlB2es1JaeILlCRH7i that already has status \"failed\"."
     ]
    }
   ],
   "source": [
    "openai.FineTune.cancel(\"ft-TUEyMRXlB2es1JaeILlCRH7i\")"
   ]
  },
  {
   "attachments": {},
   "cell_type": "markdown",
   "metadata": {},
   "source": [
    "### Delete Training Files"
   ]
  },
  {
   "attachments": {},
   "cell_type": "markdown",
   "metadata": {},
   "source": [
    "#### Delete training Files for all finished fine-tunes"
   ]
  },
  {
   "cell_type": "code",
   "execution_count": 19,
   "metadata": {},
   "outputs": [],
   "source": [
    "result = openai.FineTune.list()\n",
    "\n",
    "def delete_files(files):\n",
    "    for file in files:\n",
    "        if file[\"status\"] == \"processed\":\n",
    "            openai.File.delete(file[\"id\"])\n",
    "\n",
    "for fine_tune in result[\"data\"]:\n",
    "    if fine_tune[\"status\"] in [\"failed\", \"succeeded\"]:\n",
    "        delete_files(fine_tune[\"training_files\"])\n",
    "        delete_files(fine_tune[\"validation_files\"])"
   ]
  },
  {
   "attachments": {},
   "cell_type": "markdown",
   "metadata": {},
   "source": [
    "### Delete FineTune Models"
   ]
  },
  {
   "cell_type": "code",
   "execution_count": null,
   "metadata": {},
   "outputs": [],
   "source": []
  },
  {
   "attachments": {},
   "cell_type": "markdown",
   "metadata": {},
   "source": [
    "### Other stuff"
   ]
  },
  {
   "cell_type": "code",
   "execution_count": null,
   "metadata": {},
   "outputs": [],
   "source": [
    "from sklearn.ensemble import RandomForestClassifier\n",
    "from sklearn.model_selection import train_test_split\n",
    "from sklearn.metrics import f1_score\n",
    "from sklearn.preprocessing import MultiLabelBinarizer\n",
    "\n",
    "file1 = open('next_message_user.jsonl', 'r')\n",
    "X = []\n",
    "y = []\n",
    "\n",
    "while True:\n",
    "    line = file1.readline()\n",
    "\n",
    "    if not line:\n",
    "        break\n",
    "\n",
    "    data = json.loads(line)\n",
    "    X.append(data[\"prompt\"])\n",
    "    y.append(data[\"completion\"])\n",
    "\n",
    "file1.close()\n",
    "\n",
    "# Let's assume you have your data in `X` (features) and `y` (labels)\n",
    "# Split data into training and testing set\n",
    "X_train, X_test, y_train, y_test = train_test_split(X, y, test_size=0.2, random_state=42)\n",
    "\n",
    "# Fit a RandomForestClassifier\n",
    "clf = RandomForestClassifier(n_estimators=100, random_state=42)\n",
    "clf.fit(X_train, y_train)\n",
    "\n",
    "# Predict on the test set\n",
    "y_pred = clf.predict(X_test)\n",
    "\n",
    "# Since you have multilabels, convert them into a binary form\n",
    "mlb = MultiLabelBinarizer()\n",
    "y_test_transformed = mlb.fit_transform(y_test)\n",
    "y_pred_transformed = mlb.transform(y_pred)\n",
    "\n",
    "# Calculate the F1 score\n",
    "f1 = f1_score(y_test_transformed, y_pred_transformed, average='macro')  # Or 'micro', 'weighted' based on need\n",
    "\n",
    "print(f\"F1 Score: {f1}\")\n"
   ]
  },
  {
   "cell_type": "code",
   "execution_count": null,
   "metadata": {},
   "outputs": [],
   "source": [
    "!pip3 install -U scikit-learn"
   ]
  },
  {
   "cell_type": "code",
   "execution_count": null,
   "metadata": {},
   "outputs": [],
   "source": [
    "from sklearn.model_selection import train_test_split\n",
    "from sklearn import datasets\n",
    "from sklearn import svm\n",
    "\n",
    "X, y = datasets.load_iris(return_X_y=True)\n",
    "X.shape, y.shape"
   ]
  },
  {
   "cell_type": "code",
   "execution_count": null,
   "metadata": {},
   "outputs": [],
   "source": [
    "X"
   ]
  },
  {
   "cell_type": "code",
   "execution_count": null,
   "metadata": {},
   "outputs": [],
   "source": [
    "y"
   ]
  },
  {
   "cell_type": "code",
   "execution_count": 5,
   "metadata": {},
   "outputs": [
    {
     "name": "stdout",
     "output_type": "stream",
     "text": [
      "Checking for existing uploaded files.\n",
      "Found 2 total uploaded files in the subscription.\n",
      "Found 2 already uploaded files that match our files\n",
      "Deleting already uploaded files.\n"
     ]
    }
   ],
   "source": [
    "print('Checking for existing uploaded files.')\n",
    "results = []\n",
    "\n",
    "# Get the complete list of uploaded files in our subscription.\n",
    "files = openai.File.list().data\n",
    "print(f'Found {len(files)} total uploaded files in the subscription.')\n",
    "\n",
    "# Enumerate all uploaded files, extracting the file IDs for the\n",
    "# files with file names that match your training dataset file and\n",
    "# validation dataset file names.\n",
    "for item in files:\n",
    "    if item[\"filename\"] in [training_file_name, validation_file_name]:\n",
    "        results.append(item[\"id\"])\n",
    "print(f'Found {len(results)} already uploaded files that match our files')\n",
    "\n",
    "# Enumerate the file IDs for our files and delete each file.\n",
    "print(f'Deleting already uploaded files.')\n",
    "for id in results:\n",
    "    openai.File.delete(sid = id)"
   ]
  },
  {
   "attachments": {},
   "cell_type": "markdown",
   "metadata": {},
   "source": []
  }
 ],
 "metadata": {
  "kernelspec": {
   "display_name": "Python 3",
   "language": "python",
   "name": "python3"
  },
  "language_info": {
   "codemirror_mode": {
    "name": "ipython",
    "version": 3
   },
   "file_extension": ".py",
   "mimetype": "text/x-python",
   "name": "python",
   "nbconvert_exporter": "python",
   "pygments_lexer": "ipython3",
   "version": "3.9.16"
  },
  "orig_nbformat": 4
 },
 "nbformat": 4,
 "nbformat_minor": 2
}
