{
 "cells": [
  {
   "cell_type": "markdown",
   "id": "235d821b-1ff8-4ef6-8f0b-559c95254479",
   "metadata": {},
   "source": [
    "# Slackbot Example\n",
    "\n",
    "SlackBot keeps you in the loop without disturbing your focus. Its personalized, intelligent AI continuously monitors your Slack workspace, alerting you to important conversations and freeing you to concentrate on what’s most important.\n",
    "\n",
    "SlackBot reads the full history of your (public) Slack workspace and trains a Generative AI model to predict when you need to engage with a conversation. This training process gives the AI a deep understanding of your interests, expertise, and relationships. Using this understanding, SlackBot watches conversations in real-time and notifies you when an important conversation is happening without you. With SlackBot200 you can focus on getting things done without worrying about missing out.\n",
    "\n",
    "In this notebook, you’ll see you how to build and deploy SlackBot in 15 minutes using only OpenAI’s API’s and open-source Python libraries - Data Science PhD not required.\n",
    "\n"
   ]
  },
  {
   "cell_type": "code",
   "execution_count": null,
   "id": "70440303",
   "metadata": {},
   "outputs": [],
   "source": [
    "%pip install openai kaskada"
   ]
  },
  {
   "cell_type": "code",
   "execution_count": null,
   "id": "61ea2e95-6d9d-4068-ab98-8cf94bc4d9d0",
   "metadata": {},
   "outputs": [],
   "source": [
    "from datetime import datetime, timedelta\n",
    "from slack_sdk.socket_mode import SocketModeClient\n",
    "from slack_sdk.socket_mode.response import SocketModeResponse\n",
    "import sparrow_py as kt\n",
    "import pandas\n",
    "import openai\n",
    "import getpass\n",
    "import pyarrow\n",
    "import datetime\n",
    "\n",
    "# Initialize Kaskada with a local execution context.\n",
    "kt.init_session()\n",
    "\n",
    "# Initialize OpenAI\n",
    "openai.api_key = getpass.getpass('OpenAI: API Key')"
   ]
  },
  {
   "cell_type": "markdown",
   "id": "0035f558-23bd-4b4d-95a0-ed5e8fece673",
   "metadata": {},
   "source": [
    "## Fine-tune the model"
   ]
  },
  {
   "cell_type": "markdown",
   "id": "6c3c5682-bfe0-44ca-9a5a-52a0da74e5de",
   "metadata": {},
   "source": [
    "### Read Historical Messages"
   ]
  },
  {
   "cell_type": "code",
   "execution_count": null,
   "id": "9d224bec-e5a1-4c67-8764-e3dcdbc5e0ac",
   "metadata": {},
   "outputs": [],
   "source": [
    "messages = kt.sources.ArrowSource(\n",
    "    data = pandas.read_parquet(\"./messages.parquet\"), \n",
    "    time_column_name = \"ts\", \n",
    "    key_column_name = \"channel\",\n",
    ")\n",
    "\n",
    "\n",
    "messages.preview(5)"
   ]
  },
  {
   "cell_type": "markdown",
   "id": "22dd5729-ee7b-4de4-88dc-1642424833f0",
   "metadata": {},
   "source": [
    "### Construct prompts"
   ]
  },
  {
   "cell_type": "code",
   "execution_count": null,
   "id": "088e52bd-8f30-4d6e-abbc-4896b88c0837",
   "metadata": {},
   "outputs": [],
   "source": [
    "messages = messages.with_key(kt.record({\n",
    "        \"channel\": messages.col(\"channel\"),\n",
    "        \"thread\": messages.col(\"thread_ts\"),\n",
    "    }))\n",
    "\n",
    "prompts = messages \\\n",
    "    .select(\"user\", \"ts\", \"text\", \"reactions\") \\\n",
    "    .collect(max=20)\n",
    "\n",
    "prompts.preview(5)"
   ]
  },
  {
   "cell_type": "markdown",
   "id": "5076d2bf-6830-460b-a9cb-948d8f106edc",
   "metadata": {},
   "source": [
    "### Build examples"
   ]
  },
  {
   "cell_type": "code",
   "execution_count": null,
   "id": "af7d2a45-eb89-47ce-b471-a39ad8c7bbc7",
   "metadata": {},
   "outputs": [],
   "source": [
    "duration = datetime.timedelta(minutes=5)\n",
    "\n",
    "shifted_conversation = conversations.shift_by(duration)\n",
    "reaction_users = messages.col(\"reactions\").col(\"users\").flatten().collect(max=100).flatten()\n",
    "#reaction_users = messages.col(\"reactions\").flatten().col(\"users\").collect(kt.Trailing(duration)).flatten()\n",
    "#participating_users = conversations.col(\"user\").collect(max=100) #kt.windows.Trailing(duration))\n",
    "engaged_users = reaction_users #kt.union(reaction_users, participating_users)\n",
    "\n",
    "#examples = kt.record({\"prompt\": shifted_conversation, \"completion\": engaged_users}) \\\n",
    "#    .filter(shifted_conversation.is_not_null())\n",
    "examples = kt.record({\"prompt\": conversations, \"completion\": engaged_users})\n",
    "examples.preview(5) # NOTE: completion shouldn't be None"
   ]
  },
  {
   "cell_type": "markdown",
   "id": "fed3b924-e7de-414b-bba5-b119e40921f0",
   "metadata": {},
   "source": [
    "## Fine-tune a model"
   ]
  },
  {
   "cell_type": "markdown",
   "id": "e78fa9bd-9c40-403d-a7ee-a15620a88418",
   "metadata": {},
   "source": [
    "### Create training dataset"
   ]
  },
  {
   "cell_type": "code",
   "execution_count": null,
   "id": "fa93a8db",
   "metadata": {},
   "outputs": [],
   "source": [
    "from sklearn import preprocessing\n",
    "\n",
    "examples_df = examples.run().to_pandas().drop([\"_time\", \"_subsort\", \"_key_hash\", \"_key\"], axis=1)\n",
    "\n",
    "le = preprocessing.LabelEncoder()\n",
    "le.fit(examples_df.completion.explode())\n",
    "\n",
    "# Format for the OpenAI API\n",
    "def format_prompt(prompt):\n",
    "    return \"start -> \" + \"\\n\\n\".join([f' {msg[\"user\"]} --> {msg[\"text\"]} ' for msg in prompt]) + \"\\n\\n###\\n\\n\"\n",
    "examples_df.prompt = examples_df.prompt.apply(format_prompt)\n",
    "\n",
    "def format_completion(completion):\n",
    "    return \" \" + (\" \".join(le.transform(completion).astype(str)) if len(completion) > 0 else \"nil\") + \" end\"\n",
    "examples_df.completion = examples_df.completion.apply(format_completion)\n",
    "\n",
    "# Write examples to file\n",
    "examples_df.to_json(\"examples.jsonl\", orient='records', lines=True)"
   ]
  },
  {
   "cell_type": "markdown",
   "id": "cfc60311-5ca1-49f3-8e35-4070174e0258",
   "metadata": {},
   "source": [
    "### Upload to OpenAI"
   ]
  },
  {
   "cell_type": "code",
   "execution_count": null,
   "id": "83914ada-d108-422b-b4c0-7a0d9576d031",
   "metadata": {
    "tags": []
   },
   "outputs": [],
   "source": [
    "from types import SimpleNamespace\n",
    "from openai import cli\n",
    "\n",
    "# verifiy data format, split for training & validation\n",
    "args = SimpleNamespace(file='./examples.jsonl', quiet=True)\n",
    "cli.FineTune.prepare_data(args)\n",
    "training_id = cli.FineTune._get_or_upload('./examples_prepared_train.jsonl', True)"
   ]
  },
  {
   "cell_type": "markdown",
   "id": "f0808e6e-8239-4487-b22b-14b5a00948c6",
   "metadata": {},
   "source": [
    "### Create the training job"
   ]
  },
  {
   "cell_type": "code",
   "execution_count": null,
   "id": "9a60b77c",
   "metadata": {},
   "outputs": [],
   "source": [
    "import openai\n",
    "\n",
    "resp = openai.FineTune.create(\n",
    "    training_file = training_id,\n",
    "    model = \"davinci\",\n",
    "    n_epochs = 2,\n",
    "    learning_rate_multiplier = 0.02,\n",
    "    suffix = \"coversation_users\"\n",
    ")\n",
    "print(f'Fine-tuning model with job ID: \"{resp[\"id\"]}\"')"
   ]
  }
 ],
 "metadata": {
  "kernelspec": {
   "display_name": "Python 3 (ipykernel)",
   "language": "python",
   "name": "python3"
  },
  "language_info": {
   "codemirror_mode": {
    "name": "ipython",
    "version": 3
   },
   "file_extension": ".py",
   "mimetype": "text/x-python",
   "name": "python",
   "nbconvert_exporter": "python",
   "pygments_lexer": "ipython3",
   "version": "3.11.3"
  }
 },
 "nbformat": 4,
 "nbformat_minor": 5
}
