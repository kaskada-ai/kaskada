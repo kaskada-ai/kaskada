{
 "cells": [
  {
   "attachments": {},
   "cell_type": "markdown",
   "metadata": {},
   "source": [
    "# Setup\n",
    "\n",
    "- Install Pandas, Bokeh (for visualizations) and Kaskada.\n",
    "- Configure Bokeh to render visualizations inline.\n",
    "- Configure auto-reloading\n",
    "- Load timeline visualization function.\n",
    "- Initialize the Kaskada session."
   ]
  },
  {
   "cell_type": "code",
   "execution_count": null,
   "metadata": {},
   "outputs": [],
   "source": [
    "%pip install pandas bokeh kaskada selenium"
   ]
  },
  {
   "cell_type": "code",
   "execution_count": null,
   "metadata": {},
   "outputs": [],
   "source": [
    "# Configure reloading of loaded modules (useful for the visualization function)\n",
    "%reload_ext autoreload\n",
    "%autoreload 2"
   ]
  },
  {
   "cell_type": "code",
   "execution_count": null,
   "metadata": {},
   "outputs": [],
   "source": [
    "# Import Pandas\n",
    "import pandas as pd\n",
    "\n",
    "# Configure bokeh for local output.\n",
    "from bokeh.io import output_notebook, show, export_svg, save\n",
    "from bokeh.resources import CDN\n",
    "output_notebook()\n",
    "\n",
    "# Import visualization helpers\n",
    "from visualize import *"
   ]
  },
  {
   "cell_type": "code",
   "execution_count": null,
   "metadata": {},
   "outputs": [],
   "source": [
    "# Create the Kaskada Session\n",
    "from kaskada.api.session import LocalBuilder\n",
    "\n",
    "# Work around https://github.com/kaskada-ai/kaskada/issues/267\n",
    "session = None\n",
    "import gc\n",
    "gc.collect()\n",
    "\n",
    "session = LocalBuilder().build()"
   ]
  },
  {
   "cell_type": "code",
   "execution_count": null,
   "metadata": {},
   "outputs": [],
   "source": [
    "%reload_ext fenlmagic"
   ]
  },
  {
   "attachments": {},
   "cell_type": "markdown",
   "metadata": {},
   "source": [
    "# Sample Data"
   ]
  },
  {
   "cell_type": "code",
   "execution_count": null,
   "metadata": {},
   "outputs": [],
   "source": [
    "Purchases = pd.DataFrame.from_dict([\n",
    "    { 'time': '2022-11-02', 'user': 'Ben',   'amount': 11, 'item': 'widget' },\n",
    "    { 'time': '2022-11-15', 'user': 'Davor', 'amount': 3,  'item': 'widget' },\n",
    "    { 'time': '2022-11-27', 'user': 'Davor', 'amount': 4,  'item': 'gear' },\n",
    "    { 'time': '2022-12-12', 'user': 'Ben',   'amount': 18, 'item': 'gear' },\n",
    "    { 'time': '2023-01-01', 'user': 'Ben',   'amount': 12, 'item': 'widget' },\n",
    "    { 'time': '2023-01-02', 'user': 'Ben',   'amount': 13, 'item': 'widget' },\n",
    "    { 'time': '2023-01-09', 'user': 'Davor', 'amount': 6,  'item': 'widget' },\n",
    "])\n",
    "Purchases"
   ]
  },
  {
   "cell_type": "code",
   "execution_count": null,
   "metadata": {},
   "outputs": [],
   "source": [
    "PageViews = pd.DataFrame.from_dict([\n",
    "    { 'time': '2022-11-18', 'user': 'Davor', 'item': 'widget' },\n",
    "    { 'time': '2022-11-21', 'user': 'Davor', 'item': 'gear' },\n",
    "    { 'time': '2022-11-24', 'user': 'Davor', 'item': 'widget' },\n",
    "    { 'time': '2022-12-02', 'user': 'Ben',   'item': 'widget' },\n",
    "    { 'time': '2022-12-06', 'user': 'Davor', 'item': 'widget' },\n",
    "    { 'time': '2022-12-10', 'user': 'Davor', 'item': 'gear' },\n",
    "    { 'time': '2022-12-20', 'user': 'Ben',   'item': 'widget' },\n",
    "    { 'time': '2022-12-25', 'user': 'Ben',   'item': 'gear' },\n",
    "    { 'time': '2022-12-30', 'user': 'Ben',   'item': 'widget' },\n",
    "    { 'time': '2022-12-30', 'user': 'Davor', 'item': 'gear' },\n",
    "])\n",
    "PageViews"
   ]
  },
  {
   "cell_type": "code",
   "execution_count": null,
   "metadata": {},
   "outputs": [],
   "source": [
    "Ratings = pd.DataFrame.from_dict([\n",
    "    { 'time': '2022-11-25', 'user': 'Ben',   'item': 'gear',   'score': 3 },\n",
    "    { 'time': '2022-11-28', 'user': 'Ben',   'item': 'gear',   'score': 2 },\n",
    "    { 'time': '2022-12-27', 'user': 'Davor', 'item': 'gear',   'score': 5 },\n",
    "    { 'time': '2022-12-30', 'user': 'Joe',   'item': 'widget', 'score': 1 },\n",
    "    { 'time': '2023-01-25', 'user': 'Joe',   'item': 'gear',   'score': 5 },\n",
    "])\n",
    "Ratings"
   ]
  },
  {
   "cell_type": "code",
   "execution_count": null,
   "metadata": {},
   "outputs": [],
   "source": [
    "from kaskada import table\n",
    "\n",
    "try:\n",
    "    view.delete_view('ReviewsByItem')\n",
    "except:\n",
    "    pass\n",
    "\n",
    "try:\n",
    "  table.delete_table('Purchases')\n",
    "except:\n",
    "  pass\n",
    "\n",
    "table.create_table(\n",
    "  table_name = 'Purchases',\n",
    "  time_column_name = 'time',\n",
    "  entity_key_column_name = 'user',\n",
    "  grouping_id = 'user',\n",
    ")\n",
    "\n",
    "table.load_dataframe(\n",
    "  table_name = 'Purchases',\n",
    "  dataframe = Purchases,\n",
    ")\n",
    "\n",
    "try:\n",
    "  table.delete_table('PageViews')\n",
    "except:\n",
    "  pass\n",
    "\n",
    "table.create_table(\n",
    "  table_name = 'PageViews',\n",
    "  time_column_name = 'time',\n",
    "  entity_key_column_name = 'user',\n",
    "  grouping_id = 'user',\n",
    ")\n",
    "\n",
    "table.load_dataframe(\n",
    "  table_name = 'PageViews',\n",
    "  dataframe = PageViews,\n",
    ")\n",
    "\n",
    "try:\n",
    "  table.delete_table('Ratings')\n",
    "except:\n",
    "  pass\n",
    "\n",
    "table.create_table(\n",
    "  table_name = 'Ratings',\n",
    "  time_column_name = 'time',\n",
    "  entity_key_column_name = 'user',\n",
    "  grouping_id = 'user',\n",
    ")\n",
    "\n",
    "table.load_dataframe(\n",
    "  table_name = 'Ratings',\n",
    "  dataframe = Ratings,\n",
    ")"
   ]
  },
  {
   "attachments": {},
   "cell_type": "markdown",
   "metadata": {},
   "source": [
    "# 1 - Aggregation\n",
    "How much did each users’ spending change over time?"
   ]
  },
  {
   "cell_type": "code",
   "execution_count": null,
   "metadata": {},
   "outputs": [],
   "source": [
    "%%fenl --var=aggregate\n",
    "{ \n",
    "    amount: Purchases.amount,\n",
    "    sum_amount: sum(Purchases.amount)\n",
    "}"
   ]
  },
  {
   "cell_type": "code",
   "execution_count": null,
   "metadata": {},
   "outputs": [],
   "source": [
    "plot = plot_timelines(timelines = [\n",
    "    Timeline('amount', label = 'Purchase amounts'),\n",
    "    Timeline('sum_amount', label = 'Sum of purchase amounts', continuous = True)\n",
    "], data = aggregate.dataframe)\n",
    "\n",
    "# Show the plot\n",
    "show(plot)\n",
    "\n",
    "# Save the plot as HTML (for the blog posts)\n",
    "# save(plot, filename = 'aggregation.html', resources = CDN, title = 'Aggregation')\n",
    "\n",
    "# Save the plot as SVG (for conversion to PNG in slides).\n",
    "export_svg(plot, filename = 'aggregation.svg')"
   ]
  },
  {
   "cell_type": "code",
   "execution_count": null,
   "metadata": {},
   "outputs": [],
   "source": [
    "# Create separate discrete and continuous plots with both entities.\n",
    "discrete_plot = plot_timelines(timelines = [\n",
    "    Timeline('amount', label = 'Purchase amounts'),\n",
    "], data = aggregate.dataframe)\n",
    "\n",
    "continuous_plot = plot_timelines(timelines = [\n",
    "    Timeline('sum_amount', label = 'Sum of purchase amounts', continuous = True)\n",
    "], data = aggregate.dataframe)\n",
    "\n",
    "# Save the plot as SVG (for conversion to PNG in slides).\n",
    "show(discrete_plot)\n",
    "export_svg(discrete_plot, filename = 'discrete.svg')\n",
    "show(continuous_plot)\n",
    "export_svg(continuous_plot, filename = 'continuous.svg')"
   ]
  },
  {
   "cell_type": "code",
   "execution_count": null,
   "metadata": {},
   "outputs": [],
   "source": [
    "# Create separate discrete and continuous plots for just Ben.\n",
    "df = aggregate.dataframe\n",
    "just_ben = df[df['_key'] == 'Ben']\n",
    "\n",
    "discrete_plot = plot_timelines(timelines = [\n",
    "    Timeline('amount', label = 'Purchase amounts'),\n",
    "], data = just_ben)\n",
    "\n",
    "continuous_plot = plot_timelines(timelines = [\n",
    "    Timeline('sum_amount', label = 'Sum of purchase amounts', continuous = True)\n",
    "], data = just_ben)\n",
    "\n",
    "# Save the plot as SVG (for conversion to PNG in slides).\n",
    "show(discrete_plot)\n",
    "export_svg(discrete_plot, filename = 'discrete_single.svg')\n",
    "show(continuous_plot)\n",
    "export_svg(continuous_plot, filename = 'continuous_single.svg')"
   ]
  },
  {
   "cell_type": "code",
   "execution_count": null,
   "metadata": {},
   "outputs": [],
   "source": [
    "df = aggregate.dataframe\n",
    "history = pd.DataFrame({ 'user': df['_key'], 'time': pd.to_datetime(df['_time']), 'value': df['sum_amount']})\n",
    "history"
   ]
  },
  {
   "attachments": {},
   "cell_type": "markdown",
   "metadata": {},
   "source": [
    "# History\n",
    "```\n",
    "{ user: 'Ben',   time: '2022-11-02', value: 11 }\n",
    "{ user: 'Davor', time: '2022-11-15', value: 3 }\n",
    "{ user: 'Davor', time: '2022-11-27', value: 7 }\n",
    "{ user: 'Ben',   time: '2022-12-12', value: 29 }\n",
    "{ user: 'Ben',   time: '2023-01-01', value: 41 }\n",
    "{ user: 'Ben',   time: '2023-01-02', value: 54 }\n",
    "{ user: 'Davor', time: '2023-01-09', value: 13 }\n",
    "```"
   ]
  },
  {
   "attachments": {},
   "cell_type": "markdown",
   "metadata": {},
   "source": [
    "# 2 - Windowed Aggregation\n",
    "How much does each user’s spending change within each month?"
   ]
  },
  {
   "cell_type": "code",
   "execution_count": null,
   "metadata": {},
   "outputs": [],
   "source": [
    "%%fenl --var=windowed_aggregate\n",
    "{ \n",
    "    amount: Purchases.amount,\n",
    "    sum_amount: sum(Purchases.amount, window=since(monthly()))\n",
    "        # Hack to work-around https://github.com/kaskada-ai/kaskada/issues/297\n",
    "        | if({ tick: monthly(), input: is_valid($input)} | not($input.tick | else(false)))\n",
    "}"
   ]
  },
  {
   "cell_type": "code",
   "execution_count": null,
   "metadata": {},
   "outputs": [],
   "source": [
    "# TODO: Add vertical lines for the month boundaries?\n",
    "plot = plot_timelines(data = windowed_aggregate.dataframe, timelines = [\n",
    "    Timeline('amount', label = 'Purchase amounts'),\n",
    "    Timeline('sum_amount', label = 'Sum of purchase amounts since start of month', continuous = True)\n",
    "])\n",
    "\n",
    "# Show the plot\n",
    "show(plot)\n",
    "\n",
    "# Save the plot as HTML (for the blog posts)\n",
    "# save(plot, filename = 'windowed.html', resources = CDN, title = 'Windowed Aggregation')\n",
    "\n",
    "# Save the plot as SVG (for conversion to PNG in slides).\n",
    "export_svg(plot, filename = 'windowed.svg')"
   ]
  },
  {
   "attachments": {},
   "cell_type": "markdown",
   "metadata": {},
   "source": [
    "# 3 - Data-Defined Windowed Aggregation\n",
    "For each user, what are the average number of page-views between each purchase?"
   ]
  },
  {
   "cell_type": "code",
   "execution_count": null,
   "metadata": {},
   "outputs": [],
   "source": [
    "%%fenl --var=page_views_since_purchase\n",
    "let page_views_since_purchase_raw = count(PageViews, window=since(is_valid(Purchases)))\n",
    "let page_views_since_purchase = page_views_since_purchase_raw \n",
    "      # Hack to work-around https://github.com/kaskada-ai/kaskada/issues/297\n",
    "      | if({ predicate: is_valid(Purchases), input: is_valid($input)} | not($input.predicate | else(false)))\n",
    "      | else(0)\n",
    "in {\n",
    "  page_views_since_purchase,\n",
    "  raw: page_views_since_purchase_raw\n",
    "}"
   ]
  },
  {
   "cell_type": "code",
   "execution_count": null,
   "metadata": {},
   "outputs": [],
   "source": [
    "%%fenl --var=data_windowed_aggregate\n",
    "let page_views_since_purchase_raw = count(PageViews, window=since(is_valid(Purchases)))\n",
    "  | when(is_valid(Purchases))\n",
    "in {\n",
    "  filtered: page_views_since_purchase_raw,\n",
    "  result:  page_views_since_purchase_raw | mean()\n",
    "}"
   ]
  },
  {
   "cell_type": "code",
   "execution_count": null,
   "metadata": {},
   "outputs": [],
   "source": [
    "%%fenl --var=lag_aggregate\n",
    "let page_views_at_purchase = count(PageViews) | when(is_valid(Purchases))\n",
    "in {\n",
    "    page_views_since_last_purchase: page_views_at_purchase - lag(1, page_views_at_purchase)\n",
    "}"
   ]
  },
  {
   "cell_type": "code",
   "execution_count": null,
   "metadata": {},
   "outputs": [],
   "source": [
    "%%fenl --var=purchases\n",
    "Purchases"
   ]
  },
  {
   "cell_type": "code",
   "execution_count": null,
   "metadata": {},
   "outputs": [],
   "source": [
    "%%fenl --var=page_views\n",
    "PageViews"
   ]
  },
  {
   "cell_type": "code",
   "execution_count": null,
   "metadata": {},
   "outputs": [],
   "source": [
    "plot1 = plot_timelines([\n",
    "    Timeline('item', data = page_views.dataframe, label = 'Page views'),\n",
    "    Timeline('item', data = purchases.dataframe, label = 'Purchases'),\n",
    "    Timeline('page_views_since_purchase',\n",
    "      data = page_views_since_purchase.dataframe,\n",
    "      label = 'Count of page views since last purchase',\n",
    "      continuous = True),\n",
    "], data = data_windowed_aggregate.dataframe)\n",
    "\n",
    "# Show the plot\n",
    "show(plot1)\n",
    "\n",
    "# Save the plot as HTML (for the blog posts)\n",
    "# save(plot1, filename = 'data_windows_1.html', resources = CDN, title = 'Data Defined Windows')\n",
    "\n",
    "# Save the plot as SVG (for conversion to PNG in slides).\n",
    "export_svg(plot1, filename = 'data_windows_1.svg')\n",
    "\n",
    "plot2 = plot_timelines([\n",
    "    Timeline('page_views_since_purchase', label = 'Count of page views since last purchase',\n",
    "      data = page_views_since_purchase.dataframe,\n",
    "      continuous = True),\n",
    "    Timeline('item', data = purchases.dataframe, label = 'Purchases'),\n",
    "    Timeline('filtered', label = 'Count of page views between purchases')\n",
    "], data = data_windowed_aggregate.dataframe)\n",
    "\n",
    "# Show the plot\n",
    "show(plot2)\n",
    "\n",
    "# Save the plot as HTML (for the blog posts)\n",
    "# save(plot2, filename = 'data_windows_2.html', resources = CDN, title = 'Data Defined Windows')\n",
    "\n",
    "# Save the plot as SVG (for conversion to PNG in slides).\n",
    "export_svg(plot2, filename = 'data_windows_2.svg')\n",
    "\n",
    "plot3 = plot_timelines([\n",
    "    Timeline('filtered', label = 'Count of page views between purchases'),\n",
    "    Timeline('result', label = 'Average count of page views between purchases', continuous=True),\n",
    "], data = data_windowed_aggregate.dataframe,)\n",
    "\n",
    "# Show the plot\n",
    "show(plot3)\n",
    "\n",
    "# Save the plot as HTML (for the blog posts)\n",
    "# save(plot3, filename = 'data_windows_3.html', resources = CDN, title = 'Data Defined Windows')\n",
    "\n",
    "# Save the plot as SVG (for conversion to PNG in slides).\n",
    "export_svg(plot3, filename = 'data_windows_3.svg')"
   ]
  },
  {
   "attachments": {},
   "cell_type": "markdown",
   "metadata": {},
   "source": [
    "# 4 - Temporal Join\n",
    "What is the average product review (score) at time of purchase?\n"
   ]
  },
  {
   "cell_type": "code",
   "execution_count": null,
   "metadata": {},
   "outputs": [],
   "source": [
    "%%fenl --var=reviews_by_item\n",
    "let reviews_by_item = Ratings | with_key($input.item)\n",
    "in { score: reviews_by_item.score,\n",
    "     average_score: reviews_by_item.score | mean() }"
   ]
  },
  {
   "cell_type": "code",
   "execution_count": null,
   "metadata": {},
   "outputs": [],
   "source": [
    "from kaskada import view\n",
    "\n",
    "try:\n",
    "    view.delete_view('ReviewsByItem')\n",
    "except:\n",
    "    pass\n",
    "\n",
    "view.create_view(\n",
    "    view_name = 'ReviewsByItem',\n",
    "    expression = reviews_by_item.expression,\n",
    ")"
   ]
  },
  {
   "cell_type": "code",
   "execution_count": null,
   "metadata": {},
   "outputs": [],
   "source": [
    "%%fenl --var=temporal_join\n",
    "{\n",
    "  item: Purchases.item,\n",
    "  average_review: lookup(Purchases.item, ReviewsByItem.average_score)\n",
    "}"
   ]
  },
  {
   "cell_type": "code",
   "execution_count": null,
   "metadata": {},
   "outputs": [],
   "source": [
    "plot1 = plot_timelines([\n",
    "    Timeline('score', data = reviews_by_item.dataframe, label = 'Review scores by item',\n",
    "      shift_palette = 2),\n",
    "    Timeline('average_score', data = reviews_by_item.dataframe, label = 'Average review scores by item', continuous=True,\n",
    "      shift_palette = 2),\n",
    "], data = temporal_join.dataframe)\n",
    "\n",
    "# Show the plot\n",
    "show(plot1)\n",
    "\n",
    "# Save the plot as HTML (for the blog posts)\n",
    "# save(plot1, filename = 'temporal_join_1.html', resources = CDN, title = 'Temporal Join')\n",
    "\n",
    "# Save the plot as SVG (for conversion to PNG in slides).\n",
    "export_svg(plot1, filename = 'temporal_join_1.svg')\n",
    "\n",
    "plot2 = plot_timelines([\n",
    "    Timeline('average_score', data = reviews_by_item.dataframe, label = 'Average review scores by item', continuous=True),\n",
    "    Timeline('item', label='Purchased item'),\n",
    "    Timeline('average_review', label = 'Average review score for purchased item)'),\n",
    "], data = temporal_join.dataframe)\n",
    "\n",
    "# Show the plot\n",
    "show(plot2)\n",
    "\n",
    "# Save the plot as HTML (for the blog posts)\n",
    "# save(plot2, filename = 'temporal_join_2.html', resources = CDN, title = 'Temporal Join')\n",
    "\n",
    "# Save the plot as SVG (for conversion to PNG in slides).\n",
    "export_svg(plot2, filename = 'temporal_join_2.svg')"
   ]
  }
 ],
 "metadata": {
  "kernelspec": {
   "display_name": ".venv",
   "language": "python",
   "name": "python3"
  },
  "language_info": {
   "codemirror_mode": {
    "name": "ipython",
    "version": 3
   },
   "file_extension": ".py",
   "mimetype": "text/x-python",
   "name": "python",
   "nbconvert_exporter": "python",
   "pygments_lexer": "ipython3",
   "version": "3.11.3"
  },
  "orig_nbformat": 4
 },
 "nbformat": 4,
 "nbformat_minor": 2
}
