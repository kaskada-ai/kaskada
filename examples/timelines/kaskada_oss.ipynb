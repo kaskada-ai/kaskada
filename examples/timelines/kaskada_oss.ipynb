{
 "cells": [
  {
   "attachments": {},
   "cell_type": "markdown",
   "metadata": {},
   "source": [
    "# Setup\n",
    "\n",
    "- Install Pandas, Bokeh (for visualizations) and Kaskada.\n",
    "- Configure Bokeh to render visualizations inline.\n",
    "- Configure auto-reloading\n",
    "- Load timeline visualization function.\n",
    "- Initialize the Kaskada session."
   ]
  },
  {
   "cell_type": "code",
   "execution_count": null,
   "metadata": {},
   "outputs": [],
   "source": [
    "%pip install pandas bokeh kaskada"
   ]
  },
  {
   "cell_type": "code",
   "execution_count": null,
   "metadata": {},
   "outputs": [],
   "source": [
    "# Configure reloading of loaded modules (useful for the visualization function)\n",
    "%reload_ext autoreload\n",
    "%autoreload 2"
   ]
  },
  {
   "cell_type": "code",
   "execution_count": null,
   "metadata": {},
   "outputs": [],
   "source": [
    "# Import Pandas\n",
    "import pandas as pd\n",
    "\n",
    "# Configure bokeh for local output.\n",
    "from bokeh.io import output_notebook\n",
    "output_notebook()\n",
    "\n",
    "# Import visualization helpers\n",
    "from visualize import *"
   ]
  },
  {
   "cell_type": "code",
   "execution_count": null,
   "metadata": {},
   "outputs": [],
   "source": [
    "# Create the Kaskada Session\n",
    "from kaskada.api.session import LocalBuilder\n",
    "\n",
    "# Work around https://github.com/kaskada-ai/kaskada/issues/267\n",
    "session = None\n",
    "import gc\n",
    "gc.collect()\n",
    "\n",
    "session = LocalBuilder().build()"
   ]
  },
  {
   "cell_type": "code",
   "execution_count": null,
   "metadata": {},
   "outputs": [],
   "source": [
    "%reload_ext fenlmagic"
   ]
  },
  {
   "attachments": {},
   "cell_type": "markdown",
   "metadata": {},
   "source": [
    "# Sample Data"
   ]
  },
  {
   "cell_type": "code",
   "execution_count": null,
   "metadata": {},
   "outputs": [],
   "source": [
    "Purchases = pd.DataFrame.from_dict([\n",
    "    { 'time': '2022-10-27', 'user': 'Ben',   'amount': 5,  'item': 'widget' },\n",
    "    { 'time': '2022-10-27', 'user': 'Davor', 'amount': 8,  'item': 'gear'   },\n",
    "    { 'time': '2022-11-02', 'user': 'Ben',   'amount': 11, 'item': 'widget' },\n",
    "    { 'time': '2022-11-02', 'user': 'Davor', 'amount': 3,  'item': 'widget' },\n",
    "    { 'time': '2022-11-27', 'user': 'Davor', 'amount': 4,  'item': 'gear' },\n",
    "    { 'time': '2022-12-12', 'user': 'Ben',   'amount': 18, 'item': 'gear' },\n",
    "    { 'time': '2023-01-01', 'user': 'Ben',   'amount': 12, 'item': 'widget' },\n",
    "    { 'time': '2023-01-02', 'user': 'Davor', 'amount': 6,  'item': 'widget' },\n",
    "    { 'time': '2023-02-08', 'user': 'Ben',   'amount': 7,  'item': 'gear' },\n",
    "    { 'time': '2023-02-28', 'user': 'Davor', 'amount': 9,  'item': 'gear' },\n",
    "    { 'time': '2023-03-03', 'user': 'Ben',   'amount': 3,  'item': 'gear' },\n",
    "    { 'time': '2023-03-06', 'user': 'Davor', 'amount': 8,  'item': 'widget' },\n",
    "])\n",
    "\n",
    "# Convert string times to date times\n",
    "# Purchases['time'] = pd.to_datetime(Purchases['time'])\n",
    "Purchases"
   ]
  },
  {
   "cell_type": "code",
   "execution_count": null,
   "metadata": {},
   "outputs": [],
   "source": [
    "PageViews = pd.DataFrame.from_dict([\n",
    "    { 'time': '2022-10-25', 'user': 'Davor', 'item': 'gear'   },\n",
    "    { 'time': '2022-10-26', 'user': 'Ben',   'item': 'widget' },\n",
    "    { 'time': '2022-10-28', 'user': 'Ben',   'item': 'widget' },\n",
    "    { 'time': '2022-11-01', 'user': 'Ben',   'item': 'widget' },\n",
    "    { 'time': '2022-11-01', 'user': 'Davor', 'item': 'widget' },\n",
    "    { 'time': '2022-11-24', 'user': 'Davor', 'item': 'gear' },\n",
    "    { 'time': '2022-11-25', 'user': 'Davor', 'item': 'gear' },\n",
    "    { 'time': '2022-11-26', 'user': 'Davor', 'item': 'gear' },\n",
    "    { 'time': '2022-12-10', 'user': 'Ben',   'item': 'gear' },\n",
    "    { 'time': '2023-12-31', 'user': 'Ben',   'item': 'widget' },\n",
    "    { 'time': '2023-01-01', 'user': 'Davor', 'item': 'widget' },\n",
    "    { 'time': '2023-02-07', 'user': 'Ben',   'item': 'gear' },\n",
    "    { 'time': '2023-02-26', 'user': 'Davor', 'item': 'gear' },\n",
    "    { 'time': '2023-03-02', 'user': 'Ben',   'item': 'gear' },\n",
    "    { 'time': '2023-03-04', 'user': 'Davor', 'item': 'widget' },\n",
    "])\n",
    "# Convert string times to date times\n",
    "# PageViews['time'] = pd.to_datetime(PageViews['time'])\n",
    "PageViews"
   ]
  },
  {
   "cell_type": "code",
   "execution_count": null,
   "metadata": {},
   "outputs": [],
   "source": [
    "Ratings = pd.DataFrame.from_dict([\n",
    "    { 'time': '2022-09-25', 'user': 'Joe',   'item': 'gear',   'score': 5 },\n",
    "    { 'time': '2022-09-22', 'user': 'Ben',   'item': 'widget', 'score': 5 },\n",
    "    { 'time': '2022-10-25', 'user': 'Davor', 'item': 'gear',   'score': 2 },\n",
    "    { 'time': '2022-11-25', 'user': 'Ben',   'item': 'gear',   'score': 3 },\n",
    "    { 'time': '2022-11-28', 'user': 'Ben',   'item': 'gear',   'score': 2 },\n",
    "    { 'time': '2022-12-27', 'user': 'Davor', 'item': 'gear',   'score': 5 },\n",
    "    { 'time': '2022-12-30', 'user': 'Joe',   'item': 'widget', 'score': 1 },\n",
    "    { 'time': '2023-01-25', 'user': 'Joe',   'item': 'gear',   'score': 5 },\n",
    "])\n",
    "# Convert string times to date times\n",
    "# Ratings['time'] = pd.to_datetime(Ratings['time'])\n",
    "Ratings"
   ]
  },
  {
   "cell_type": "code",
   "execution_count": null,
   "metadata": {},
   "outputs": [],
   "source": [
    "from kaskada import table\n",
    "\n",
    "\n",
    "try:\n",
    "  table.delete_table('Purchases')\n",
    "except:\n",
    "  pass\n",
    "\n",
    "table.create_table(\n",
    "  table_name = 'Purchases',\n",
    "  time_column_name = 'time',\n",
    "  entity_key_column_name = 'user',\n",
    "  grouping_id = 'user',\n",
    ")\n",
    "\n",
    "table.load_dataframe(\n",
    "  table_name = 'Purchases',\n",
    "  dataframe = Purchases,\n",
    ")\n",
    "\n",
    "try:\n",
    "  table.delete_table('PageViews')\n",
    "except:\n",
    "  pass\n",
    "\n",
    "table.create_table(\n",
    "  table_name = 'PageViews',\n",
    "  time_column_name = 'time',\n",
    "  entity_key_column_name = 'user',\n",
    "  grouping_id = 'user',\n",
    ")\n",
    "\n",
    "table.load_dataframe(\n",
    "  table_name = 'PageViews',\n",
    "  dataframe = Purchases,\n",
    ")\n",
    "\n",
    "try:\n",
    "  table.delete_table('Ratings')\n",
    "except:\n",
    "  pass\n",
    "\n",
    "table.create_table(\n",
    "  table_name = 'Ratings',\n",
    "  time_column_name = 'time',\n",
    "  entity_key_column_name = 'user',\n",
    "  grouping_id = 'user',\n",
    ")\n",
    "\n",
    "table.load_dataframe(\n",
    "  table_name = 'Ratings',\n",
    "  dataframe = Ratings,\n",
    ")"
   ]
  },
  {
   "attachments": {},
   "cell_type": "markdown",
   "metadata": {},
   "source": [
    "# 1 - Aggregation\n",
    "How much did each users’ spending change over time?"
   ]
  },
  {
   "cell_type": "code",
   "execution_count": null,
   "metadata": {},
   "outputs": [],
   "source": [
    "%%fenl --var=aggregate\n",
    "{ \n",
    "    amount: Purchases.amount,\n",
    "    sum_amount: sum(Purchases.amount)\n",
    "}"
   ]
  },
  {
   "cell_type": "code",
   "execution_count": null,
   "metadata": {},
   "outputs": [],
   "source": [
    "plot = plot_timelines(aggregate.dataframe, '_time', '_key', timelines = [\n",
    "    Timeline('amount', label = 'Purchases.amount'),\n",
    "    Timeline('sum_amount', label = 'sum(Purchases.amount)', continuous = True)\n",
    "])\n",
    "\n",
    "show(plot)"
   ]
  },
  {
   "attachments": {},
   "cell_type": "markdown",
   "metadata": {},
   "source": [
    "# 2 - Windowed Aggregation\n",
    "How much does each user’s spending change within each month?"
   ]
  },
  {
   "cell_type": "code",
   "execution_count": null,
   "metadata": {},
   "outputs": [],
   "source": [
    "%%fenl --var=windowed_aggregate\n",
    "{ \n",
    "    amount: Purchases.amount,\n",
    "    sum_amount: sum(Purchases.amount, window=since(monthly()))\n",
    "}"
   ]
  },
  {
   "cell_type": "code",
   "execution_count": null,
   "metadata": {},
   "outputs": [],
   "source": [
    "plot = plot_timelines(windowed_aggregate.dataframe, '_time', '_key', timelines = [\n",
    "    Timeline('amount', label = 'Purchases.amount'),\n",
    "    Timeline('sum_amount', label = 'sum(Purchases.amount, window=since(monthly()))', continuous = True)\n",
    "])\n",
    "\n",
    "show(plot)"
   ]
  },
  {
   "attachments": {},
   "cell_type": "markdown",
   "metadata": {},
   "source": [
    "# 3 - Data-Defined Windowed Aggregation\n",
    "For each user, what are the average number of page-views between each purchase?"
   ]
  },
  {
   "cell_type": "code",
   "execution_count": null,
   "metadata": {},
   "outputs": [],
   "source": [
    "%%fenl --var=data_windowed_aggregate\n",
    "{ \n",
    "  result: count(PageViews, window=since(is_valid(Purchases)))\n",
    "    | when(is_valid(Purchases))\n",
    "    | mean()\n",
    "}"
   ]
  },
  {
   "cell_type": "code",
   "execution_count": null,
   "metadata": {},
   "outputs": [],
   "source": [
    "# TODO: Allow graphing timelines with different points (eg., different frames)\n",
    "# or by omitting \"null\" values appropriately. Then include the intermediate\n",
    "# steps. \n",
    "plot = plot_timelines(data_windowed_aggregate.dataframe, '_time', '_key', timelines = [\n",
    "    Timeline('result', label = 'count(...) | when(...) | mean()', continuous = True),\n",
    "])\n",
    "\n",
    "show(plot)"
   ]
  },
  {
   "attachments": {},
   "cell_type": "markdown",
   "metadata": {},
   "source": [
    "# 4 - Temporal Join\n",
    "What is the average product review (score) at time of purchase?\n"
   ]
  },
  {
   "cell_type": "code",
   "execution_count": null,
   "metadata": {},
   "outputs": [],
   "source": [
    "%%fenl --var=temporal_join\n",
    "let reviews_by_item = Ratings | with_key($input.item)\n",
    "let average_review_by_item = reviews_by_item.score | mean()\n",
    "in {\n",
    "  item: Purchases.item,\n",
    "  average_review: lookup(Purchases.item, average_review_by_item)\n",
    "}"
   ]
  },
  {
   "cell_type": "code",
   "execution_count": null,
   "metadata": {},
   "outputs": [],
   "source": [
    "# TODO: Support categorical values (strings) like the product it.m\n",
    "plot = plot_timelines(temporal_join.dataframe, '_time', '_key', timelines = [\n",
    "    Timeline('item', label='Purchases.item'),\n",
    "    Timeline('average_review', label = 'lookup(Purchases.item, average_review_by_item)'),\n",
    "])\n",
    "\n",
    "show(plot)"
   ]
  }
 ],
 "metadata": {
  "kernelspec": {
   "display_name": ".venv",
   "language": "python",
   "name": "python3"
  },
  "language_info": {
   "codemirror_mode": {
    "name": "ipython",
    "version": 3
   },
   "file_extension": ".py",
   "mimetype": "text/x-python",
   "name": "python",
   "nbconvert_exporter": "python",
   "pygments_lexer": "ipython3",
   "version": "3.11.2"
  },
  "orig_nbformat": 4
 },
 "nbformat": 4,
 "nbformat_minor": 2
}
