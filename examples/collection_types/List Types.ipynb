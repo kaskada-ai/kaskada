{
 "cells": [
  {
   "cell_type": "markdown",
   "id": "81791ea0",
   "metadata": {},
   "source": [
    "# Operating on List Types"
   ]
  },
  {
   "cell_type": "markdown",
   "id": "4b7fe26d",
   "metadata": {},
   "source": [
    "## Sample Dataset with `List` types "
   ]
  },
  {
   "cell_type": "code",
   "execution_count": null,
   "id": "c8932954",
   "metadata": {},
   "outputs": [],
   "source": [
    "#                  time  subsort  key   i64_list            bool_list        string_list  index\n",
    "# 0 1996-12-19 16:39:57        0    1  [1, 2, 3]        [False, True]        [dog, bird]      0\n",
    "# 1 1996-12-19 16:40:57        0    1  [1, 2, 3]        [True, False]  [cat, bird, fish]      2\n",
    "# 2 1996-12-19 16:40:59        0    1  [1, 2, 3]  [True, False, True]                 []      1\n",
    "# 3 1996-12-19 16:41:57        0    1  [1, 2, 3]  [True, False, True]         [dog, cat]      2\n",
    "# 4 1996-12-19 16:42:57        0    1  [1, 2, 3]               [True]              [dog]      0"
   ]
  },
  {
   "cell_type": "markdown",
   "id": "8f66bbfa",
   "metadata": {},
   "source": [
    "## Launch Kaskada"
   ]
  },
  {
   "cell_type": "code",
   "execution_count": null,
   "id": "f121f541",
   "metadata": {},
   "outputs": [],
   "source": [
    "from kaskada.api.session import LocalBuilder\n",
    "import kaskada.table\n",
    "session = LocalBuilder().download(False).build()"
   ]
  },
  {
   "cell_type": "code",
   "execution_count": null,
   "id": "dace5ed5",
   "metadata": {},
   "outputs": [],
   "source": [
    "kaskada.table.create_table('ListTable', 'time', 'key', \"subsort\")"
   ]
  },
  {
   "cell_type": "code",
   "execution_count": null,
   "id": "40008105",
   "metadata": {},
   "outputs": [],
   "source": [
    "kaskada.table.load('ListTable', 'data_with_list.parquet')"
   ]
  },
  {
   "cell_type": "code",
   "execution_count": null,
   "id": "c0752147",
   "metadata": {},
   "outputs": [],
   "source": [
    "kaskada.table.get_table('ListTable')"
   ]
  },
  {
   "cell_type": "markdown",
   "id": "852448de",
   "metadata": {},
   "source": [
    "## Run a query"
   ]
  },
  {
   "cell_type": "code",
   "execution_count": null,
   "id": "0a6c2f4c",
   "metadata": {},
   "outputs": [],
   "source": [
    "%load_ext fenlmagic"
   ]
  },
  {
   "cell_type": "code",
   "execution_count": null,
   "id": "4cb7f672",
   "metadata": {},
   "outputs": [],
   "source": [
    "%%fenl\n",
    "ListTable"
   ]
  },
  {
   "cell_type": "code",
   "execution_count": null,
   "id": "894d2d61",
   "metadata": {},
   "outputs": [],
   "source": [
    "%%fenl\n",
    "# Accessing list elements using literal and field values.\n",
    "\n",
    "let number_list = ListTable.i64_list\n",
    "let first_val = number_list | index(0)\n",
    "let second_val = number_list | index(1)\n",
    "let third_val = number_list | index(2)\n",
    "let value_for_index = number_list | index(ListTable.index)\n",
    "\n",
    "in { number_list, first_val, second_val, third_val,  index: ListTable.index, value_for_index }"
   ]
  },
  {
   "cell_type": "code",
   "execution_count": null,
   "id": "a22a72a9",
   "metadata": {},
   "outputs": [],
   "source": [
    "%%fenl\n",
    "# Collecting values into a list\n",
    "# Currently works with primitives/strings/booleans\n",
    "\n",
    "# the list column within the table\n",
    "let s_list = ListTable.string_list\n",
    "\n",
    "# get the first element of each list\n",
    "let first_elem = s_list | index(0)\n",
    "\n",
    "# pipe the first element of each list into a collect function to \n",
    "# get a list of all the first elements. `max=null` means that the \n",
    "# list will grow unbounded.\n",
    "let list_with_first_elems = first_elem | collect(max = null)\n",
    "\n",
    "in { s_list, first_elem, list_with_first_elems }"
   ]
  },
  {
   "cell_type": "code",
   "execution_count": null,
   "id": "eb1caaf9",
   "metadata": {},
   "outputs": [],
   "source": [
    "%%fenl\n",
    "# `max` parameter limits the size of the collected list\n",
    "\n",
    "leta bounded_list = ListTable.string_list | index(0) | collect(max = 2)\n",
    "in { bounded_list }"
   ]
  }
 ],
 "metadata": {
  "kernelspec": {
   "display_name": "Python 3 (ipykernel)",
   "language": "python",
   "name": "python3"
  },
  "language_info": {
   "codemirror_mode": {
    "name": "ipython",
    "version": 3
   },
   "file_extension": ".py",
   "mimetype": "text/x-python",
   "name": "python",
   "nbconvert_exporter": "python",
   "pygments_lexer": "ipython3",
   "version": "3.8.16"
  }
 },
 "nbformat": 4,
 "nbformat_minor": 5
}
