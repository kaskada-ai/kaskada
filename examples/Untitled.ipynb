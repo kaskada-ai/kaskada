{
 "cells": [
  {
   "cell_type": "code",
   "execution_count": 2,
   "id": "488b6525",
   "metadata": {},
   "outputs": [
    {
     "name": "stdout",
     "output_type": "stream",
     "text": [
      "Requirement already satisfied: kaskada in /opt/homebrew/lib/python3.11/site-packages (0.4.1)\n",
      "Requirement already satisfied: certifi<2023.0.0,>=2022.12.7 in /opt/homebrew/lib/python3.11/site-packages (from kaskada) (2022.12.7)\n",
      "Requirement already satisfied: domonic<0.10.0,>=0.9.11 in /opt/homebrew/lib/python3.11/site-packages (from kaskada) (0.9.11)\n",
      "Requirement already satisfied: googleapis-common-protos<2.0.0,>=1.58.0 in /opt/homebrew/lib/python3.11/site-packages (from kaskada) (1.59.1)\n",
      "Requirement already satisfied: grpcio<2.0.0,>=1.51.1 in /opt/homebrew/lib/python3.11/site-packages (from kaskada) (1.56.0)\n",
      "Requirement already satisfied: grpcio-health-checking<2.0.0,>=1.54.2 in /opt/homebrew/lib/python3.11/site-packages (from kaskada) (1.56.0)\n",
      "Requirement already satisfied: grpcio-status<2.0.0,>=1.51.1 in /opt/homebrew/lib/python3.11/site-packages (from kaskada) (1.56.0)\n",
      "Requirement already satisfied: html5lib<2.0,>=1.1 in /opt/homebrew/lib/python3.11/site-packages (from kaskada) (1.1)\n",
      "Requirement already satisfied: ipython==7.34.0 in /opt/homebrew/lib/python3.11/site-packages (from kaskada) (7.34.0)\n",
      "Requirement already satisfied: pandas<1.4,>=1.3 in /opt/homebrew/lib/python3.11/site-packages (from kaskada) (1.3.5)\n",
      "Requirement already satisfied: pyarrow<11.0.0,>=10.0.1 in /opt/homebrew/lib/python3.11/site-packages (from kaskada) (10.0.1)\n",
      "Requirement already satisfied: pygithub<2.0,>=1.57 in /opt/homebrew/lib/python3.11/site-packages (from kaskada) (1.59.0)\n",
      "Requirement already satisfied: requests<3.0.0,>=2.28.2 in /opt/homebrew/lib/python3.11/site-packages (from kaskada) (2.28.2)\n",
      "Requirement already satisfied: tqdm<5.0.0,>=4.64.1 in /opt/homebrew/lib/python3.11/site-packages (from kaskada) (4.65.0)\n",
      "Requirement already satisfied: setuptools>=18.5 in /opt/homebrew/lib/python3.11/site-packages (from ipython==7.34.0->kaskada) (67.6.1)\n",
      "Requirement already satisfied: jedi>=0.16 in /opt/homebrew/lib/python3.11/site-packages (from ipython==7.34.0->kaskada) (0.18.2)\n",
      "Requirement already satisfied: decorator in /opt/homebrew/lib/python3.11/site-packages (from ipython==7.34.0->kaskada) (5.1.1)\n",
      "Requirement already satisfied: pickleshare in /opt/homebrew/lib/python3.11/site-packages (from ipython==7.34.0->kaskada) (0.7.5)\n",
      "Requirement already satisfied: traitlets>=4.2 in /opt/homebrew/lib/python3.11/site-packages (from ipython==7.34.0->kaskada) (5.9.0)\n",
      "Requirement already satisfied: prompt-toolkit!=3.0.0,!=3.0.1,<3.1.0,>=2.0.0 in /opt/homebrew/lib/python3.11/site-packages (from ipython==7.34.0->kaskada) (3.0.39)\n",
      "Requirement already satisfied: pygments in /opt/homebrew/lib/python3.11/site-packages (from ipython==7.34.0->kaskada) (2.15.1)\n",
      "Requirement already satisfied: backcall in /opt/homebrew/lib/python3.11/site-packages (from ipython==7.34.0->kaskada) (0.2.0)\n",
      "Requirement already satisfied: matplotlib-inline in /opt/homebrew/lib/python3.11/site-packages (from ipython==7.34.0->kaskada) (0.1.6)\n",
      "Requirement already satisfied: pexpect>4.3 in /opt/homebrew/lib/python3.11/site-packages (from ipython==7.34.0->kaskada) (4.8.0)\n",
      "Requirement already satisfied: appnope in /opt/homebrew/lib/python3.11/site-packages (from ipython==7.34.0->kaskada) (0.1.3)\n",
      "Requirement already satisfied: elementpath~=2.5.2 in /opt/homebrew/lib/python3.11/site-packages (from domonic<0.10.0,>=0.9.11->kaskada) (2.5.3)\n",
      "Requirement already satisfied: python-dateutil==2.8.2 in /opt/homebrew/lib/python3.11/site-packages (from domonic<0.10.0,>=0.9.11->kaskada) (2.8.2)\n",
      "Requirement already satisfied: urllib3~=1.26.9 in /opt/homebrew/lib/python3.11/site-packages (from domonic<0.10.0,>=0.9.11->kaskada) (1.26.16)\n",
      "Requirement already satisfied: cssselect~=1.1.0 in /opt/homebrew/lib/python3.11/site-packages (from domonic<0.10.0,>=0.9.11->kaskada) (1.1.0)\n",
      "Requirement already satisfied: six>=1.5 in /opt/homebrew/lib/python3.11/site-packages (from python-dateutil==2.8.2->domonic<0.10.0,>=0.9.11->kaskada) (1.16.0)\n",
      "Requirement already satisfied: protobuf!=3.20.0,!=3.20.1,!=4.21.1,!=4.21.2,!=4.21.3,!=4.21.4,!=4.21.5,<5.0.0.dev0,>=3.19.5 in /opt/homebrew/lib/python3.11/site-packages (from googleapis-common-protos<2.0.0,>=1.58.0->kaskada) (4.23.2)\n",
      "Requirement already satisfied: webencodings in /opt/homebrew/lib/python3.11/site-packages (from html5lib<2.0,>=1.1->kaskada) (0.5.1)\n",
      "Requirement already satisfied: pytz>=2017.3 in /opt/homebrew/lib/python3.11/site-packages (from pandas<1.4,>=1.3->kaskada) (2023.3)\n",
      "Requirement already satisfied: numpy>=1.21.0 in /opt/homebrew/lib/python3.11/site-packages (from pandas<1.4,>=1.3->kaskada) (1.25.1)\n",
      "Requirement already satisfied: deprecated in /opt/homebrew/lib/python3.11/site-packages (from pygithub<2.0,>=1.57->kaskada) (1.2.14)\n",
      "Requirement already satisfied: pyjwt[crypto]>=2.4.0 in /opt/homebrew/lib/python3.11/site-packages (from pygithub<2.0,>=1.57->kaskada) (2.7.0)\n",
      "Requirement already satisfied: pynacl>=1.4.0 in /opt/homebrew/lib/python3.11/site-packages (from pygithub<2.0,>=1.57->kaskada) (1.5.0)\n",
      "Requirement already satisfied: charset-normalizer<4,>=2 in /opt/homebrew/lib/python3.11/site-packages (from requests<3.0.0,>=2.28.2->kaskada) (3.2.0)\n",
      "Requirement already satisfied: idna<4,>=2.5 in /opt/homebrew/lib/python3.11/site-packages (from requests<3.0.0,>=2.28.2->kaskada) (3.4)\n",
      "Requirement already satisfied: parso<0.9.0,>=0.8.0 in /opt/homebrew/lib/python3.11/site-packages (from jedi>=0.16->ipython==7.34.0->kaskada) (0.8.3)\n",
      "Requirement already satisfied: ptyprocess>=0.5 in /opt/homebrew/lib/python3.11/site-packages (from pexpect>4.3->ipython==7.34.0->kaskada) (0.7.0)\n",
      "Requirement already satisfied: wcwidth in /opt/homebrew/lib/python3.11/site-packages (from prompt-toolkit!=3.0.0,!=3.0.1,<3.1.0,>=2.0.0->ipython==7.34.0->kaskada) (0.2.6)\n",
      "Requirement already satisfied: cryptography>=3.4.0 in /opt/homebrew/lib/python3.11/site-packages (from pyjwt[crypto]>=2.4.0->pygithub<2.0,>=1.57->kaskada) (41.0.2)\n",
      "Requirement already satisfied: cffi>=1.4.1 in /opt/homebrew/lib/python3.11/site-packages (from pynacl>=1.4.0->pygithub<2.0,>=1.57->kaskada) (1.15.1)\n",
      "Requirement already satisfied: wrapt<2,>=1.10 in /opt/homebrew/lib/python3.11/site-packages (from deprecated->pygithub<2.0,>=1.57->kaskada) (1.15.0)\n",
      "Requirement already satisfied: pycparser in /opt/homebrew/lib/python3.11/site-packages (from cffi>=1.4.1->pynacl>=1.4.0->pygithub<2.0,>=1.57->kaskada) (2.21)\n",
      "\n",
      "\u001b[1m[\u001b[0m\u001b[34;49mnotice\u001b[0m\u001b[1;39;49m]\u001b[0m\u001b[39;49m A new release of pip is available: \u001b[0m\u001b[31;49m23.0.1\u001b[0m\u001b[39;49m -> \u001b[0m\u001b[32;49m23.2\u001b[0m\n",
      "\u001b[1m[\u001b[0m\u001b[34;49mnotice\u001b[0m\u001b[1;39;49m]\u001b[0m\u001b[39;49m To update, run: \u001b[0m\u001b[32;49mpython3.11 -m pip install --upgrade pip\u001b[0m\n"
     ]
    }
   ],
   "source": [
    "!pip3 install kaskada"
   ]
  },
  {
   "cell_type": "code",
   "execution_count": 3,
   "id": "a76f1ec2",
   "metadata": {},
   "outputs": [
    {
     "data": {
      "text/html": [
       "<style>table.kda_table {\n",
       "    border: 1px solid grey !important;\n",
       "    border-collapse: collapse !important;\n",
       "    border-spacing: 0 !important;\n",
       "    font-size: 14px !important;\n",
       "    margin-bottom: 6px !important;\n",
       "}\n",
       "\n",
       "table.kda_table table {\n",
       "    margin-bottom: 0 !important;\n",
       "}\n",
       "\n",
       ".kda_table td, .kda_table th {\n",
       "    border: 1px solid grey !important;\n",
       "    border-collapse: collapse !important;\n",
       "    padding: 6px !important;\n",
       "    text-align: left !important;\n",
       "    vertical-align: top !important;\n",
       "}\n",
       "\n",
       ".kda_table tr {\n",
       "    background-color: inherit !important;\n",
       "}\n",
       "\n",
       "/* Style the tab */\n",
       ".kda_tab {\n",
       "    overflow: hidden;\n",
       "    border-bottom: 1px solid grey;\n",
       "    background-color: inherit;\n",
       "}\n",
       "\n",
       "/* Style the buttons that are used to open the tab content */\n",
       ".kda_tab button {\n",
       "    background-color: inherit;\n",
       "    border-top: 1px solid grey;\n",
       "    border-right: 1px solid grey;\n",
       "    border-left: 1px solid grey;\n",
       "    border-bottom: none;\n",
       "    border-radius: 5px 5px 0px 0px;\n",
       "    color: inherit;\n",
       "    cursor: pointer;\n",
       "    float: left;\n",
       "    margin: 2px 8px 0px 2px;\n",
       "    outline: none;\n",
       "    padding: 5px 16px;\n",
       "    transition: 0.3s;\n",
       "}\n",
       "\n",
       "/* Change background color of buttons on hover */\n",
       ".kda_tab button:hover {\n",
       "    background-color: grey;\n",
       "}\n",
       "\n",
       "/* Create an active/current tablink class */\n",
       ".kda_tab button.kda_active {\n",
       "    outline: 2px solid grey;\n",
       "}\n",
       "\n",
       "/* Style the tab content */\n",
       ".kda_tabcontent {\n",
       "    display: none;\n",
       "    padding: 6px;\n",
       "    border: 1px solid grey;\n",
       "    border-top: none;\n",
       "}\n",
       "\n",
       ".kda_scroll_container {\n",
       "    max-height: 400px;\n",
       "    overflow: auto;\n",
       "}\n",
       "</style>"
      ],
      "text/plain": [
       "<IPython.core.display.HTML object>"
      ]
     },
     "metadata": {},
     "output_type": "display_data"
    },
    {
     "data": {
      "text/html": [
       "<script type=\"text/javascript\">function openTab(evt, tabName) {\n",
       "    // Declare all variables\n",
       "    var i, rootElement, tabcontent, tablinks, tabshow;\n",
       "\n",
       "    // Get all elements with class=\"tabcontent\" and hide them\n",
       "    rootElement = evt.currentTarget.parentElement.parentElement;\n",
       "    tabcontent = rootElement.getElementsByClassName(\"kda_tabcontent\");\n",
       "    for (i = 0; i < tabcontent.length; i++) {\n",
       "        tabcontent[i].style.display = \"none\";\n",
       "    }\n",
       "\n",
       "    // Get all elements with class=\"tablinks\" and remove the class \"active\"\n",
       "    tablinks = rootElement.getElementsByClassName(\"kda_tablinks\");\n",
       "    for (i = 0; i < tablinks.length; i++) {\n",
       "        tablinks[i].className = tablinks[i].className.replace(\" kda_active\", \"\");\n",
       "    }\n",
       "\n",
       "    // Show the current tab, and add an \"active\" class to the button that opened the tab\n",
       "    tabshow = rootElement.getElementsByClassName(tabName);\n",
       "    for (i = 0; i < tabshow.length; i++) {\n",
       "        tabshow[i].style.display = \"block\";\n",
       "    }\n",
       "    evt.currentTarget.className += \" kda_active\";\n",
       "}\n",
       "</script>"
      ],
      "text/plain": [
       "<IPython.core.display.HTML object>"
      ]
     },
     "metadata": {},
     "output_type": "display_data"
    },
    {
     "name": "stdout",
     "output_type": "stream",
     "text": [
      "INFO:kaskada.api.release:Using latest release version: engine@v0.9.0\n"
     ]
    },
    {
     "name": "stderr",
     "output_type": "stream",
     "text": [
      "/opt/homebrew/lib/python3.11/site-packages/tqdm/auto.py:21: TqdmWarning: IProgress not found. Please update jupyter and ipywidgets. See https://ipywidgets.readthedocs.io/en/stable/user_install.html\n",
      "  from .autonotebook import tqdm as notebook_tqdm\n",
      "kaskada-engine-darwin-arm64: 100%|█████████████████████████████████████████████████████████████████████████████████████████████████████████████████████████████████████████| 64.5M/64.5M [00:05<00:00, 12.6MB/s]\n",
      "kaskada-manager-darwin-arm64: 100%|████████████████████████████████████████████████████████████████████████████████████████████████████████████████████████████████████████| 39.3M/39.3M [00:04<00:00, 9.35MB/s]"
     ]
    },
    {
     "name": "stdout",
     "output_type": "stream",
     "text": [
      "INFO:kaskada.api.local_session.local_service:Initializing manager process\n",
      "INFO:kaskada.api.local_session.local_service:Logging manager STDOUT to /Users/eric.pinzur/.cache/kaskada/logs/2023-07-20T13-37-11-manager-stdout.log\n",
      "INFO:kaskada.api.local_session.local_service:Logging manager STDERR to /Users/eric.pinzur/.cache/kaskada/logs/2023-07-20T13-37-11-manager-stdout.log\n",
      "INFO:kaskada.api.local_session.local_service:Initializing engine process\n",
      "INFO:kaskada.api.local_session.local_service:Logging engine STDOUT to /Users/eric.pinzur/.cache/kaskada/logs/2023-07-20T13-37-11-engine-stdout.log\n",
      "INFO:kaskada.api.local_session.local_service:Logging engine STDERR to /Users/eric.pinzur/.cache/kaskada/logs/2023-07-20T13-37-11-engine-stdout.log\n"
     ]
    },
    {
     "name": "stderr",
     "output_type": "stream",
     "text": [
      "\n"
     ]
    },
    {
     "name": "stdout",
     "output_type": "stream",
     "text": [
      "INFO:kaskada.client:Successfully connected.\n"
     ]
    }
   ],
   "source": [
    "from kaskada.api.session import LocalBuilder\n",
    "import kaskada.table\n",
    "session = LocalBuilder().build()"
   ]
  },
  {
   "cell_type": "code",
   "execution_count": 4,
   "id": "b5de642d",
   "metadata": {},
   "outputs": [
    {
     "name": "stderr",
     "output_type": "stream",
     "text": [
      "NameError: name 'table' is not defined\n"
     ]
    }
   ],
   "source": [
    "table.list_tables()"
   ]
  },
  {
   "cell_type": "code",
   "execution_count": 5,
   "id": "3aa37661",
   "metadata": {},
   "outputs": [
    {
     "data": {
      "text/html": [
       "<div><div class=\"kda_tab\"><button class=\"kda_tablinks kda_active\" onclick=\"openTab(event, 'details')\">Details</button><button class=\"kda_tablinks\" onclick=\"openTab(event, 'raw')\">Raw</button></div><div class=\"details kda_tabcontent\" style=\"display:block;\"><div class=\"kda_scroll_container\"><table class=\"kda_table\"><tr><td><b>tables</b></td><td>&lt;empty&gt;</td></tr><tr><td><b>request_details</b></td><td><table class=\"kda_table\"><tr><td><b>request_id</b></td><td><pre>5eefe668c5d3133fbcde80af8e15085d</pre></td></tr></table></td></tr></table></div></div><div class=\"raw kda_tabcontent\" style=\"display:none;\"><div class=\"kda_scroll_container\"><pre>request_details {\n",
       "  request_id: \"5eefe668c5d3133fbcde80af8e15085d\"\n",
       "}\n",
       "</pre></div></div></div>"
      ],
      "text/plain": [
       "request_details {\n",
       "  request_id: \"5eefe668c5d3133fbcde80af8e15085d\"\n",
       "}"
      ]
     },
     "execution_count": 5,
     "metadata": {},
     "output_type": "execute_result"
    }
   ],
   "source": [
    "import kaskada.table\n",
    "kaskada.table.list_tables()"
   ]
  },
  {
   "cell_type": "code",
   "execution_count": null,
   "id": "87b8f62b",
   "metadata": {},
   "outputs": [],
   "source": []
  }
 ],
 "metadata": {
  "kernelspec": {
   "display_name": "Python 3 (ipykernel)",
   "language": "python",
   "name": "python3"
  },
  "language_info": {
   "codemirror_mode": {
    "name": "ipython",
    "version": 3
   },
   "file_extension": ".py",
   "mimetype": "text/x-python",
   "name": "python",
   "nbconvert_exporter": "python",
   "pygments_lexer": "ipython3",
   "version": "3.11.4"
  }
 },
 "nbformat": 4,
 "nbformat_minor": 5
}
