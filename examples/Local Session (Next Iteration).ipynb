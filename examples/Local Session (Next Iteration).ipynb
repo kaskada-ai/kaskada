{
 "cells": [
  {
   "cell_type": "code",
   "execution_count": 4,
   "id": "a464f651",
   "metadata": {},
   "outputs": [],
   "source": [
    "from kaskada.api.session import LocalBuilder\n",
    "import kaskada.table\n",
    "import time"
   ]
  },
  {
   "cell_type": "code",
   "execution_count": null,
   "id": "7618eab2",
   "metadata": {},
   "outputs": [],
   "source": [
    "import os\n",
    "os.environ['KASKADA_DISABLE_DOWNLOAD'] = \"true\" # only required here since Github rate limits"
   ]
  },
  {
   "cell_type": "markdown",
   "id": "61514014",
   "metadata": {},
   "source": [
    "# Local Session (Next Iteration)\n",
    "\n",
    "The previous version of the local session was designed to simply spin up the processes as subprocesses without much consideration for the use cases. As we've received feedback, the local session was due for a much needed next iteration. The goal of this notebook is to demonstrate the following new features:\n",
    "\n",
    "* Session Stop\n",
    "* Reuse an Existing Session\n",
    "* Persist by Default\n",
    "* Health Checks\n",
    "* Auto recovery\n",
    "\n",
    "This work is intended to be demonstrated on 5/23/2023."
   ]
  },
  {
   "cell_type": "markdown",
   "id": "f6e680df",
   "metadata": {},
   "source": [
    "## Session Stop\n",
    "\n",
    "Previously, we utilized the garbage collector to stop the session but there are use cases where you want to stop the existing session (e.g. explicit resource management). The next iteration introduces a `stop()` method on an existing session and will attempt to stop all resources spawned by the session. This method is synchronous and waits for all resources to terminate.\n",
    "\n",
    "```python\n",
    "session = LocalBuilder().build()\n",
    "...\n",
    "session.stop()\n",
    "\n",
    "```"
   ]
  },
  {
   "cell_type": "code",
   "execution_count": 7,
   "id": "4911ce3b",
   "metadata": {},
   "outputs": [
    {
     "name": "stderr",
     "output_type": "stream",
     "text": [
      "TypeError: __init__() takes 1 positional argument but 3 were given\n"
     ]
    }
   ],
   "source": [
    "# Kaskada Endpoint\n",
    "endpoint = \"localhost:50051\"\n",
    "# Secure connection\n",
    "is_secure = False\n",
    "\n",
    "from kaskada.api.session import LocalBuilder"
   ]
  },
  {
   "cell_type": "code",
   "execution_count": 10,
   "id": "78383b8c",
   "metadata": {},
   "outputs": [
    {
     "data": {
      "text/html": [
       "<div><div class=\"kda_tab\"><button class=\"kda_tablinks kda_active\" onclick=\"openTab(event, 'details')\">Details</button><button class=\"kda_tablinks\" onclick=\"openTab(event, 'raw')\">Raw</button></div><div class=\"details kda_tabcontent\" style=\"display:block;\"><div class=\"kda_scroll_container\"><table class=\"kda_table\"><tr><td><b>tables</b></td><td>&lt;empty&gt;</td></tr><tr><td><b>request_details</b></td><td><table class=\"kda_table\"><tr><td><b>request_id</b></td><td><pre>486c6aa6919b32ea13679a4e1c934234</pre></td></tr></table></td></tr></table></div></div><div class=\"raw kda_tabcontent\" style=\"display:none;\"><div class=\"kda_scroll_container\"><pre>request_details {\n",
       "  request_id: \"486c6aa6919b32ea13679a4e1c934234\"\n",
       "}\n",
       "</pre></div></div></div>"
      ],
      "text/plain": [
       "request_details {\n",
       "  request_id: \"486c6aa6919b32ea13679a4e1c934234\"\n",
       "}"
      ]
     },
     "execution_count": 10,
     "metadata": {},
     "output_type": "execute_result"
    }
   ],
   "source": [
    "kaskada.table.list_tables()"
   ]
  },
  {
   "cell_type": "markdown",
   "id": "f855760e",
   "metadata": {},
   "source": [
    "## Reuse an Existing Session\n",
    "\n",
    "If a local session already exists and is healthy, re-running the same session creation cell will result in the same session. This is done automatically with health checks. To use a different session, you will need to stop the existing one."
   ]
  },
  {
   "cell_type": "code",
   "execution_count": 9,
   "id": "faedc74b",
   "metadata": {},
   "outputs": [
    {
     "name": "stdout",
     "output_type": "stream",
     "text": [
      "INFO:kaskada.api.session:Initializing manager process\n",
      "INFO:kaskada.api.session:Logging manager STDOUT to /Users/jordan.frazier/.cache/kaskada/logs/5d0da22b-e7ee-4825-a4fb-97ad20f36456/manager_stdout.txt\n",
      "INFO:kaskada.api.session:Logging manager STDERR to /Users/jordan.frazier/.cache/kaskada/logs/5d0da22b-e7ee-4825-a4fb-97ad20f36456/manager_stderr.txt\n",
      "INFO:kaskada.api.session:Initializing engine process\n",
      "INFO:kaskada.api.session:Logging engine STDOUT to /Users/jordan.frazier/.cache/kaskada/logs/5d0da22b-e7ee-4825-a4fb-97ad20f36456/engine_stdout.txt\n",
      "INFO:kaskada.api.session:Logging engine STDERR to /Users/jordan.frazier/.cache/kaskada/logs/5d0da22b-e7ee-4825-a4fb-97ad20f36456/engine_stderr.txt\n",
      "INFO:kaskada.api.session:Successfully connected to session.\n"
     ]
    },
    {
     "data": {
      "text/html": [
       "<style>table.kda_table {\n",
       "    border: 1px solid grey !important;\n",
       "    border-collapse: collapse !important;\n",
       "    border-spacing: 0 !important;\n",
       "    font-size: 14px !important;\n",
       "    margin-bottom: 6px !important;\n",
       "}\n",
       "\n",
       "table.kda_table table {\n",
       "    margin-bottom: 0 !important;\n",
       "}\n",
       "\n",
       ".kda_table td, .kda_table th {\n",
       "    border: 1px solid grey !important;\n",
       "    border-collapse: collapse !important;\n",
       "    padding: 6px !important;\n",
       "    text-align: left !important;\n",
       "    vertical-align: top !important;\n",
       "}\n",
       "\n",
       ".kda_table tr {\n",
       "    background-color: inherit !important;\n",
       "}\n",
       "\n",
       "/* Style the tab */\n",
       ".kda_tab {\n",
       "    overflow: hidden;\n",
       "    border-bottom: 1px solid grey;\n",
       "    background-color: inherit;\n",
       "}\n",
       "\n",
       "/* Style the buttons that are used to open the tab content */\n",
       ".kda_tab button {\n",
       "    background-color: inherit;\n",
       "    border-top: 1px solid grey;\n",
       "    border-right: 1px solid grey;\n",
       "    border-left: 1px solid grey;\n",
       "    border-bottom: none;\n",
       "    border-radius: 5px 5px 0px 0px;\n",
       "    color: inherit;\n",
       "    cursor: pointer;\n",
       "    float: left;\n",
       "    margin: 2px 8px 0px 2px;\n",
       "    outline: none;\n",
       "    padding: 5px 16px;\n",
       "    transition: 0.3s;\n",
       "}\n",
       "\n",
       "/* Change background color of buttons on hover */\n",
       ".kda_tab button:hover {\n",
       "    background-color: grey;\n",
       "}\n",
       "\n",
       "/* Create an active/current tablink class */\n",
       ".kda_tab button.kda_active {\n",
       "    outline: 2px solid grey;\n",
       "}\n",
       "\n",
       "/* Style the tab content */\n",
       ".kda_tabcontent {\n",
       "    display: none;\n",
       "    padding: 6px;\n",
       "    border: 1px solid grey;\n",
       "    border-top: none;\n",
       "}\n",
       "\n",
       ".kda_scroll_container {\n",
       "    max-height: 400px;\n",
       "    overflow: auto;\n",
       "}\n",
       "</style>"
      ],
      "text/plain": [
       "<IPython.core.display.HTML object>"
      ]
     },
     "metadata": {},
     "output_type": "display_data"
    },
    {
     "data": {
      "text/html": [
       "<script type=\"text/javascript\">function openTab(evt, tabName) {\n",
       "    // Declare all variables\n",
       "    var i, rootElement, tabcontent, tablinks, tabshow;\n",
       "\n",
       "    // Get all elements with class=\"tabcontent\" and hide them\n",
       "    rootElement = evt.currentTarget.parentElement.parentElement;\n",
       "    tabcontent = rootElement.getElementsByClassName(\"kda_tabcontent\");\n",
       "    for (i = 0; i < tabcontent.length; i++) {\n",
       "        tabcontent[i].style.display = \"none\";\n",
       "    }\n",
       "\n",
       "    // Get all elements with class=\"tablinks\" and remove the class \"active\"\n",
       "    tablinks = rootElement.getElementsByClassName(\"kda_tablinks\");\n",
       "    for (i = 0; i < tablinks.length; i++) {\n",
       "        tablinks[i].className = tablinks[i].className.replace(\" kda_active\", \"\");\n",
       "    }\n",
       "\n",
       "    // Show the current tab, and add an \"active\" class to the button that opened the tab\n",
       "    tabshow = rootElement.getElementsByClassName(tabName);\n",
       "    for (i = 0; i < tabshow.length; i++) {\n",
       "        tabshow[i].style.display = \"block\";\n",
       "    }\n",
       "    evt.currentTarget.className += \" kda_active\";\n",
       "}\n",
       "</script>"
      ],
      "text/plain": [
       "<IPython.core.display.HTML object>"
      ]
     },
     "metadata": {},
     "output_type": "display_data"
    }
   ],
   "source": [
    "session = LocalBuilder().download(False).build() # a session already exists from above. This is a major win."
   ]
  },
  {
   "cell_type": "markdown",
   "id": "6d6a9bab",
   "metadata": {},
   "source": [
    "## Persist by Default\n",
    "The previous implementation ran with an in-memory database to manage resources. This means that between runs of the Manager, the current state of resources is flushed. By default, the new version will utilize a local sqlite database. This is configured to be `~/.cache/kaskada/data/wren.db`.\n",
    "\n",
    "```python\n",
    "session = LocalBuilder().build()\n",
    "```\n",
    "\n",
    "To restore the original functionality of an in-memory store, use the `in_memory` method on the **LocalBuilder**.\n",
    "```python\n",
    "session = LocalBuilder().in_memory(True).build()\n",
    "```\n",
    "\n",
    "To specify the location of the sqlite database, use the `database_path` method on the **LocalBuilder**.\n",
    "```python\n",
    "session = LocalBuilder().database_path(\"~/temp/database_v1.db\").build()\n",
    "```"
   ]
  },
  {
   "cell_type": "code",
   "execution_count": null,
   "id": "7a6346e5",
   "metadata": {},
   "outputs": [],
   "source": [
    "!rm ~/.cache/kaskada/data/wren.db"
   ]
  },
  {
   "cell_type": "code",
   "execution_count": null,
   "id": "e93f44da",
   "metadata": {},
   "outputs": [],
   "source": [
    "session.stop()\n",
    "session = LocalBuilder().build()"
   ]
  },
  {
   "cell_type": "code",
   "execution_count": null,
   "id": "78409174",
   "metadata": {},
   "outputs": [],
   "source": [
    "kaskada.table.create_table(\n",
    "  table_name = \"test_table\",\n",
    "  entity_key_column_name = \"entity_column\",\n",
    "  time_column_name = \"time_column\",\n",
    ")"
   ]
  },
  {
   "cell_type": "code",
   "execution_count": null,
   "id": "05c55709",
   "metadata": {},
   "outputs": [],
   "source": [
    "kaskada.table.list_tables()"
   ]
  },
  {
   "cell_type": "code",
   "execution_count": null,
   "id": "0eff791c",
   "metadata": {},
   "outputs": [],
   "source": [
    "session.stop()                   # stop the existing session\n",
    "session = LocalBuilder().build() # create a new session"
   ]
  },
  {
   "cell_type": "code",
   "execution_count": null,
   "id": "59aaa476",
   "metadata": {},
   "outputs": [],
   "source": [
    "kaskada.table.list_tables()"
   ]
  },
  {
   "cell_type": "code",
   "execution_count": null,
   "id": "e348e7bf",
   "metadata": {},
   "outputs": [],
   "source": [
    "# Previous implementation\n",
    "session.stop()\n",
    "session = LocalBuilder().in_memory(True).build()"
   ]
  },
  {
   "cell_type": "code",
   "execution_count": null,
   "id": "26a3cdbf",
   "metadata": {},
   "outputs": [],
   "source": [
    "kaskada.table.list_tables()"
   ]
  },
  {
   "cell_type": "code",
   "execution_count": null,
   "id": "c8a2b349",
   "metadata": {},
   "outputs": [],
   "source": [
    "# Explicit use a local database\n",
    "session.stop()\n",
    "session = LocalBuilder().database_path(\"./my_awkward_database.db\").build()"
   ]
  },
  {
   "cell_type": "code",
   "execution_count": null,
   "id": "f8893c8e",
   "metadata": {},
   "outputs": [],
   "source": [
    "kaskada.table.list_tables()"
   ]
  },
  {
   "cell_type": "markdown",
   "id": "081aea91",
   "metadata": {},
   "source": [
    "## Health Checks\n",
    "\n",
    "Previously, we did not verify the existence or readiness of a local service session after spawning the subprocesses. This caused many customers difficulty in understanding why can the client not connect or understanding the current state of their Kaskada service. In this version, we built in the following health checks:\n",
    "* Health Check Client - A client will now attempt to get the health of the service prior to reporting connected.\n",
    "* Health Check Servicer - A thread-safe poller on the client that monitors the health of the client.\n",
    "* Local Session Checks - A local service will now attempt to get the health of all services (manager and engine).\n",
    "* Local Session Water - A thread-safe poller to monitor the status of the local running session."
   ]
  },
  {
   "cell_type": "code",
   "execution_count": null,
   "id": "f46298d3",
   "metadata": {},
   "outputs": [],
   "source": [
    "session.stop()\n",
    "session = LocalBuilder().build()"
   ]
  },
  {
   "cell_type": "code",
   "execution_count": null,
   "id": "0804721e",
   "metadata": {},
   "outputs": [],
   "source": [
    "from kaskada.health.health_check_client import HealthCheckClientFactory\n",
    "\n",
    "health_client_factory = HealthCheckClientFactory()\n",
    "health_client_factory.get_client(\n",
    "    kaskada.client.KASKADA_MANAGER_DEFAULT_HEALTH_CHECK_ENDPOINT, \n",
    "    kaskada.client.KASKADA_IS_SECURE\n",
    ").check()"
   ]
  },
  {
   "cell_type": "code",
   "execution_count": null,
   "id": "5dd8bbb5",
   "metadata": {},
   "outputs": [],
   "source": [
    "from kaskada.health.health_check_client import HealthCheckClient\n",
    "\n",
    "health_client_factory.get_client(\n",
    "    kaskada.client.KASKADA_ENGINE_DEFAULT_HEALTH_CHECK_ENDPOINT, \n",
    "    kaskada.client.KASKADA_IS_SECURE\n",
    ").check()"
   ]
  },
  {
   "cell_type": "code",
   "execution_count": null,
   "id": "d5361a96",
   "metadata": {},
   "outputs": [],
   "source": [
    "session.stop()"
   ]
  },
  {
   "cell_type": "code",
   "execution_count": null,
   "id": "c9c6094f",
   "metadata": {},
   "outputs": [],
   "source": [
    "health_client_factory.get_client(\n",
    "    kaskada.client.KASKADA_ENGINE_DEFAULT_HEALTH_CHECK_ENDPOINT, \n",
    "    kaskada.client.KASKADA_IS_SECURE\n",
    ").check()"
   ]
  },
  {
   "cell_type": "code",
   "execution_count": null,
   "id": "a472b127",
   "metadata": {},
   "outputs": [],
   "source": [
    "# start everything up again\n",
    "session = LocalBuilder().build()\n",
    "\n",
    "from kaskada.health.health_check_servicer import HealthCheckServicer\n",
    "\n",
    "# A servicer watches multiple services\n",
    "health_servicer = HealthCheckServicer()\n",
    "health_servicer.add_service('manager', kaskada.client.KASKADA_MANAGER_DEFAULT_HEALTH_CHECK_ENDPOINT, kaskada.client.KASKADA_IS_SECURE)\n",
    "print(f\"Single Service: {health_servicer.check()}\")\n",
    "print(f\"The manager: {health_servicer.get('manager')}\")"
   ]
  },
  {
   "cell_type": "code",
   "execution_count": null,
   "id": "31154ea4",
   "metadata": {},
   "outputs": [],
   "source": [
    "health_servicer.add_service('engine', kaskada.client.KASKADA_ENGINE_DEFAULT_HEALTH_CHECK_ENDPOINT, kaskada.client.KASKADA_IS_SECURE)\n",
    "print(f\"Multiple Service: {health_servicer.check()}\")\n",
    "print(f\"The engine: {health_servicer.get('engine')}\")"
   ]
  },
  {
   "cell_type": "code",
   "execution_count": null,
   "id": "27c8308c",
   "metadata": {},
   "outputs": [],
   "source": [
    "health_servicer.check()"
   ]
  },
  {
   "cell_type": "code",
   "execution_count": null,
   "id": "92606260",
   "metadata": {},
   "outputs": [],
   "source": [
    "session.stop()"
   ]
  },
  {
   "cell_type": "markdown",
   "id": "19fca91c",
   "metadata": {},
   "source": [
    "## Auto Recovery\n",
    "\n",
    "The previous implementation spawned off the Kaskada processes without much concern or monitoring of their status throughout the operation. The notebook environments may perform garbage collection or kernel freezes will automatically kill the spawned processes resulting in a very undesirable state for the service.\n",
    "\n",
    "Moving forward, the LocalBuilder will now include an auto-recovery feature to restore the services and client to connectivity on failure. Since this is almost always the intended functionality, this is not a configurable feature."
   ]
  },
  {
   "cell_type": "code",
   "execution_count": null,
   "id": "94b43a9c",
   "metadata": {},
   "outputs": [],
   "source": [
    "!rm ~/.cache/kaskada/data/wren.db"
   ]
  },
  {
   "cell_type": "code",
   "execution_count": null,
   "id": "71e96795",
   "metadata": {},
   "outputs": [],
   "source": [
    "session = LocalBuilder().build()"
   ]
  },
  {
   "cell_type": "code",
   "execution_count": null,
   "id": "2f4acefb",
   "metadata": {},
   "outputs": [],
   "source": [
    "kaskada.table.list_tables()"
   ]
  },
  {
   "cell_type": "code",
   "execution_count": null,
   "id": "2ae573db",
   "metadata": {},
   "outputs": [],
   "source": [
    "# Create the table named transactions with the time and name column\n",
    "kaskada.table.create_table('transactions', 'time', 'name')\n",
    "# Load the data to the table\n",
    "kaskada.table.load('transactions', 'dataset1.csv')"
   ]
  },
  {
   "cell_type": "code",
   "execution_count": null,
   "id": "51cf5d0c",
   "metadata": {},
   "outputs": [],
   "source": [
    "%load_ext fenlmagic"
   ]
  },
  {
   "cell_type": "code",
   "execution_count": null,
   "id": "740b5da5",
   "metadata": {},
   "outputs": [],
   "source": [
    "%%fenl\n",
    "transactions"
   ]
  },
  {
   "cell_type": "markdown",
   "id": "2b16262d",
   "metadata": {},
   "source": [
    "*Go to another terminal and kill 50051.*"
   ]
  },
  {
   "cell_type": "code",
   "execution_count": null,
   "id": "3f5fe094",
   "metadata": {},
   "outputs": [],
   "source": [
    "%%fenl\n",
    "transactions"
   ]
  },
  {
   "cell_type": "code",
   "execution_count": null,
   "id": "8c10d833",
   "metadata": {},
   "outputs": [],
   "source": [
    "# Disable auto recovery by setting keep_alive to False\n",
    "session = LocalBuilder().keep_alive(False).build()"
   ]
  }
 ],
 "metadata": {
  "kernelspec": {
   "display_name": "Python 3 (ipykernel)",
   "language": "python",
   "name": "python3"
  },
  "language_info": {
   "codemirror_mode": {
    "name": "ipython",
    "version": 3
   },
   "file_extension": ".py",
   "mimetype": "text/x-python",
   "name": "python",
   "nbconvert_exporter": "python",
   "pygments_lexer": "ipython3",
   "version": "3.8.16"
  }
 },
 "nbformat": 4,
 "nbformat_minor": 5
}
